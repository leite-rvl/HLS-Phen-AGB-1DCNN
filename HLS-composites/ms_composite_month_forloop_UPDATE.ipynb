{
 "cells": [
  {
   "cell_type": "code",
   "execution_count": 32,
   "id": "1835bf29-d6aa-4a7c-a472-cb67402527c2",
   "metadata": {},
   "outputs": [
    {
     "name": "stdout",
     "output_type": "stream",
     "text": [
      "Requirement already satisfied: fiona in /opt/conda/envs/pangeo/lib/python3.12/site-packages (1.10.1)\n",
      "Requirement already satisfied: attrs>=19.2.0 in /opt/conda/envs/pangeo/lib/python3.12/site-packages (from fiona) (25.1.0)\n",
      "Requirement already satisfied: click~=8.0 in /opt/conda/envs/pangeo/lib/python3.12/site-packages (from fiona) (8.1.8)\n",
      "Requirement already satisfied: click-plugins>=1.0 in /opt/conda/envs/pangeo/lib/python3.12/site-packages (from fiona) (1.1.1)\n",
      "Requirement already satisfied: cligj>=0.5 in /opt/conda/envs/pangeo/lib/python3.12/site-packages (from fiona) (0.7.2)\n",
      "\u001b[33mWARNING: Running pip as the 'root' user can result in broken permissions and conflicting behaviour with the system package manager, possibly rendering your system unusable.It is recommended to use a virtual environment instead: https://pip.pypa.io/warnings/venv. Use the --root-user-action option if you know what you are doing and want to suppress this warning.\u001b[0m\u001b[33m\n",
      "\u001b[0m"
     ]
    }
   ],
   "source": [
    "!pip install fiona"
   ]
  },
  {
   "cell_type": "code",
   "execution_count": null,
   "id": "e5255d07-6d4d-42f4-b858-0e51fca3e227",
   "metadata": {},
   "outputs": [],
   "source": []
  },
  {
   "cell_type": "code",
   "execution_count": 33,
   "id": "33784572-7c9b-45a9-a82b-5027e737c994",
   "metadata": {},
   "outputs": [],
   "source": [
    "## EDIT To save in save in safe folder first then move\n",
    "## Dir creating on loop reading the file\n",
    "# run 90 km 95 pct\n",
    "# prep to run 3-month composite"
   ]
  },
  {
   "cell_type": "code",
   "execution_count": 34,
   "id": "0ea1d087-73ea-4851-91f8-16a71ec37c4c",
   "metadata": {},
   "outputs": [],
   "source": [
    "import os\n",
    "# hop to a local, healthy path (not on /projects or other EFS mounts)\n",
    "os.chdir(\"/tmp\")"
   ]
  },
  {
   "cell_type": "code",
   "execution_count": 35,
   "id": "000f474a-7fdf-4a5a-b6fd-7a13553b53d4",
   "metadata": {},
   "outputs": [],
   "source": [
    "## Changes\n",
    "## Move directory creation to running composite loop\n",
    "## Save into \"Safe\" directory and then move"
   ]
  },
  {
   "cell_type": "code",
   "execution_count": 36,
   "id": "44c39746-b924-4bd6-9e46-dbbaad97d75d",
   "metadata": {},
   "outputs": [],
   "source": [
    "import os\n",
    "import subprocess\n",
    "\n",
    "from pathlib import Path\n",
    "from datetime import datetime\n",
    "from calendar import monthrange\n",
    "\n",
    "import fiona\n",
    "\n",
    "import multiprocessing as mp\n",
    "\n",
    "import geopandas as gpd\n",
    "\n",
    "import copy"
   ]
  },
  {
   "cell_type": "code",
   "execution_count": 37,
   "id": "833c22ea-d024-4966-83ac-0e9930d2d98a",
   "metadata": {},
   "outputs": [],
   "source": [
    "import sys\n",
    "sys.path.append('/projects/my-private-bucket/code-git-shared/icesat2_boreal/lib')\n",
    "import plotlib\n",
    "from mosaiclib import *"
   ]
  },
  {
   "cell_type": "code",
   "execution_count": 38,
   "id": "ec012ac4-e914-4adf-842f-80434c4cdef6",
   "metadata": {},
   "outputs": [],
   "source": [
    "import rasterio\n",
    "from rasterio.plot import show_hist, show\n",
    "import numpy as np\n",
    "import matplotlib.pyplot as plt"
   ]
  },
  {
   "cell_type": "code",
   "execution_count": 39,
   "id": "9eddf054-20a0-41c0-a740-5cde9d295a4d",
   "metadata": {},
   "outputs": [
    {
     "name": "stdout",
     "output_type": "stream",
     "text": [
      "Number of CPU cores: 32\n",
      "Total memory: 267.33 GB\n",
      "Available memory: 237.36 GB\n"
     ]
    }
   ],
   "source": [
    "import multiprocessing as mp\n",
    "\n",
    "num_cores = mp.cpu_count()\n",
    "print(f\"Number of CPU cores: {num_cores}\")\n",
    "\n",
    "import psutil\n",
    "\n",
    "mem = psutil.virtual_memory()\n",
    "print(f\"Total memory: {mem.total / 1e9:.2f} GB\")\n",
    "print(f\"Available memory: {mem.available / 1e9:.2f} GB\")"
   ]
  },
  {
   "cell_type": "code",
   "execution_count": 40,
   "id": "2f95158a-89c7-4c07-92fd-ff0fa1082c00",
   "metadata": {},
   "outputs": [],
   "source": [
    "from pathlib import Path"
   ]
  },
  {
   "cell_type": "code",
   "execution_count": 41,
   "id": "ecf5c32a-70f0-463d-8e15-f2077810a0cd",
   "metadata": {},
   "outputs": [],
   "source": [
    "# --- minimal imports here so you can paste this as-is ---\n",
    "from pathlib import Path\n",
    "import os, shutil"
   ]
  },
  {
   "cell_type": "code",
   "execution_count": 42,
   "id": "1d781531-1676-40b9-8039-beffffc6666b",
   "metadata": {},
   "outputs": [],
   "source": [
    "# Functions \n",
    "def wrapper_composite(params):\n",
    "\n",
    "    FOCAL_TILE = params.get('FOCAL_TILE')\n",
    "    SAT_API = params.get('SAT_API')\n",
    "    MS_COMP_TYPE = params.get('MS_COMP_TYPE')\n",
    "    YEAR = params.get('YEAR')\n",
    "    MIN_N_FILT_RESULTS = params.get('MIN_N_FILT_RESULTS')\n",
    "    SEASON_START = params.get('SEASON_START')\n",
    "    SEASON_STOP = params.get('SEASON_STOP')\n",
    "    # INDEX_FN = params.get('INDEX_FN')\n",
    "    # INDEX_LYR = params.get('INDEX_LYR')\n",
    "    \n",
    "    STAT = params.get('STAT')\n",
    "    STAT_PCT = params.get('STAT_PCT')\n",
    "    TARGET_SPECTRAL = params.get('TARGET_SPECTRAL')\n",
    "\n",
    "    INDEX_FN =  params.get('INDEX_FN') #'https://maap-ops-workspace.s3.amazonaws.com/shared/montesano/databank/boreal_tiles_v004.gpkg'\n",
    "    INDEX_LYR = params.get('INDEX_LYR') # 'boreal_tiles_v004'\n",
    "    \n",
    "    YEAR_START, YEAR_STOP = (YEAR, YEAR)\n",
    "    HLS_PRODUCT = params.get('HLS_PRODUCT') #HLS_PRODUCT = 'H30'\n",
    "    MAX_CLOUDS = params.get('MAX_CLOUDS') #MAX_CLOUDS = 0\n",
    "\n",
    "    OUTDIR = params.get('OUTDIR') #'/projects/my-private-bucket/tmp/mask_test_keep_snow'\n",
    "    \n",
    "    args = f\"--in_tile_fn {INDEX_FN} \\\n",
    "        --in_tile_layer {INDEX_LYR} \\\n",
    "        --sat_api {SAT_API} \\\n",
    "        --tile_buffer_m 0 \\\n",
    "        --in_tile_num {FOCAL_TILE} \\\n",
    "        --output_dir {OUTDIR} \\\n",
    "        -sy {YEAR_START} -ey {YEAR_STOP} -smd {SEASON_START} -emd {SEASON_STOP} -mc {MAX_CLOUDS} \\\n",
    "        --composite_type {MS_COMP_TYPE} \\\n",
    "        --hls_product {HLS_PRODUCT} \\\n",
    "        --thresh_min_ndvi -1 \\\n",
    "        --min_n_filt_results {MIN_N_FILT_RESULTS} \\\n",
    "        --stat {STAT} \\\n",
    "        --stat_pct {STAT_PCT} \\\n",
    "        --target_spectral_index {TARGET_SPECTRAL}\"\n",
    "    args += \" --do_indices\"\n",
    "    #args += \" --search_only\"\n",
    "    # args += \" --rangelims_red 0.01 0.1\" # the default now effectively no limit [-1e9, 1e9]\n",
    "    args += \" --rangelims_red 0.01 1\" # the default now effectively no limit [-1e9, 1e9]\n",
    "    \n",
    "    ###########################################\n",
    "    # Output file name\n",
    "    ###########################################\n",
    "    fn = f'{OUTDIR}/{MS_COMP_TYPE}_{FOCAL_TILE}_{SEASON_START}_{SEASON_STOP}_{YEAR_START}_{YEAR_STOP}_{STAT}{TARGET_SPECTRAL}.tif'\n",
    "    if STAT == 'percentile':\n",
    "        fn = f'{OUTDIR}/{MS_COMP_TYPE}_{FOCAL_TILE}_{SEASON_START}_{SEASON_STOP}_{YEAR_START}_{YEAR_STOP}_{STAT}{STAT_PCT}{TARGET_SPECTRAL}.tif'\n",
    "\n",
    "    \n",
    "    fn = Path(fn)\n",
    "\n",
    "    ###########################################\n",
    "    # Check if it exists, if it does return \n",
    "    if fn.exists():\n",
    "        print(f'Skipping: {fn} - file already exists')\n",
    "        return str(fn)\n",
    "\n",
    "    \n",
    "    ## \n",
    "    # cmd = f'python /projects/my-private-bucket/code-git-shared/icesat2_boreal/lib/build_ms_composite.py {args}'\n",
    "    # cmd = f'python /projects/my-private-bucket/code-git-shared/icesat2_boreal/lib/build_ms_composite_multip.py {args}'\n",
    "    cmd = f'python /projects/my-private-bucket/code-git-shared/icesat2_boreal/lib/build_ms_composite_addEVI2.py {args}'\n",
    "    # !echo $cmd\n",
    "    !eval $cmd\n",
    "    ##\n",
    "\n",
    "\n",
    "    \n",
    "    #rescaled_multiband_fn = os.path.join(os.path.dirname(fn), os.path.basename(fn).replace('.tif','_rescaled_3band_temp.tif'))\n",
    "    # plotlib.rescale_multiband_for_plot(fn, rescaled_multiband_fn, bandlist = [5,7,3], pct=[20,90], nodata=-9999.0) \n",
    "\n",
    "    \n",
    "    return str(fn)"
   ]
  },
  {
   "cell_type": "code",
   "execution_count": 43,
   "id": "8e61bd56-0f71-4adf-b50f-ce33394ebe52",
   "metadata": {},
   "outputs": [],
   "source": [
    "# Define input and output paths\n",
    "\n",
    "####### 90 km - evi2 p95\n",
    "INDEX_FN = '/projects/my-private-bucket/HLS-1DCNN-AGB/data/shp/atlantic_forest/tiles/br_af_grid90km_prj.gpkg' \n",
    "# BASE_OUTDIR = '/projects/my-private-bucket/HLS-1DCNN-AGB/data/tif/HLS_composites/monthly/br_af_grid90km_prj_evi2_max'\n",
    "BASE_OUTDIR = '/br_af_grid90km_prj_evi2_max' #SAFE\n",
    "BASE_FINAL_DIR = '/projects/my-private-bucket/HLS-1DCNN-AGB/data/tif/HLS_composites/monthly'\n",
    "os.makedirs(BASE_OUTDIR, exist_ok=True)\n",
    "os.makedirs(BASE_FINAL_DIR, exist_ok=True)\n",
    "############# 60 km evi2 max\n",
    "# Define input and output paths\n",
    "# INDEX_FN = '/projects/my-private-bucket/HLS-1DCNN-AGB/data/shp/atlantic_forest/tiles/br_af_grid60km_prj.gpkg' \n",
    "# BASE_OUTDIR = '/projects/my-private-bucket/HLS-1DCNN-AGB/data/tif/HLS_composites/monthly/br_af_grid60km_prj_evi2_max'\n",
    "# BASE_OUTDIR = '/br_af_grid60km_prj_evi2_max'\n",
    "\n",
    "#######################\n",
    "### TEST\n",
    "# INDEX_FN = '/projects/my-private-bucket/HLS-1DCNN-AGB/data/shp/atlantic_forest/tiles/br_af_grid60km_prj.gpkg' \n",
    "# BASE_OUTDIR = '/projects/my-private-bucket/HLS-1DCNN-AGB/data/tif/HLS_composites/monthly/br_af_grid60km_prj_ndvi_max_test'\n",
    "\n",
    "\n",
    "\n",
    "# # Define input and output paths\n",
    "# INDEX_FN = '/projects/my-private-bucket/HLS-1DCNN-AGB/data/shp/atlantic_forest/tiles/br_af_grid30km_prj.gpkg' \n",
    "# BASE_OUTDIR = '/projects/my-private-bucket/HLS-1DCNN-AGB/data/tif/HLS_composites/monthly/br_af_grid30km_prj_evi2_max'\n"
   ]
  },
  {
   "cell_type": "code",
   "execution_count": null,
   "id": "06750e79-49c8-4d44-9ff0-5fcd0408ddfd",
   "metadata": {},
   "outputs": [],
   "source": []
  },
  {
   "cell_type": "code",
   "execution_count": null,
   "id": "462cf9bb-940e-4ee8-b881-df247044b41a",
   "metadata": {},
   "outputs": [],
   "source": []
  },
  {
   "cell_type": "code",
   "execution_count": 44,
   "id": "f428fd25-3a0c-4f4d-974c-381e25fbb3ac",
   "metadata": {},
   "outputs": [],
   "source": [
    "# Set default parameters\n",
    "SAT_API = 'https://cmr.earthdata.nasa.gov/stac/LPCLOUD'\n",
    "MS_COMP_TYPE = 'HLS'\n",
    "HLS_PRODUCT = 'H30'\n",
    "\n",
    "STAT = 'max'\n",
    "# STAT = 'percentile'\n",
    "\n",
    "# TARGET_SPECTRAL = 'ndvi'\n",
    "TARGET_SPECTRAL = 'evi2'\n",
    "STAT_PCT = 95.0\n",
    "\n",
    "MIN_N_FILT_RESULTS = 10\n",
    "MAX_CLOUDS = 0 # Threshold of max clouds to start search, e.g. when set to 0 it starts at 0% of cloud cover and go up to 90% \n"
   ]
  },
  {
   "cell_type": "code",
   "execution_count": 45,
   "id": "9a1e17bc-76da-412e-9d92-3d798a980b75",
   "metadata": {},
   "outputs": [],
   "source": [
    "# Get first Layer name (First layer is used as default)\n",
    "layer_names = fiona.listlayers(INDEX_FN)\n",
    "# Get the first layer name\n",
    "first_layer_name = layer_names[0]\n",
    "INDEX_LYR = first_layer_name"
   ]
  },
  {
   "cell_type": "code",
   "execution_count": 46,
   "id": "ad15f303-42cb-4ce9-9d42-56c3ed549201",
   "metadata": {},
   "outputs": [],
   "source": [
    "# Define parameters\n",
    "params = {\n",
    "    'SAT_API': SAT_API,\n",
    "    'HLS_PRODUCT': HLS_PRODUCT,\n",
    "    'MS_COMP_TYPE': MS_COMP_TYPE,\n",
    "    'MAX_CLOUDS': MAX_CLOUDS,\n",
    "    'MIN_N_FILT_RESULTS': MIN_N_FILT_RESULTS,\n",
    "    'STAT': STAT,\n",
    "    'STAT_PCT': STAT_PCT,\n",
    "    'TARGET_SPECTRAL': TARGET_SPECTRAL,\n",
    "    'INDEX_FN': INDEX_FN,\n",
    "    'INDEX_LYR': INDEX_LYR,\n",
    "}"
   ]
  },
  {
   "cell_type": "code",
   "execution_count": 47,
   "id": "44bc9fcb-dc1a-4585-829d-0fb71251ad98",
   "metadata": {},
   "outputs": [],
   "source": [
    "# Define year\n",
    "years = [2022]\n",
    "\n",
    "# Get all tiles IDs\n",
    "with fiona.open(INDEX_FN, layer=0) as src:\n",
    "    tiles = [feature[\"properties\"][\"tile_num\"] for feature in src]\n",
    "    \n",
    "tiles_gpkg = gpd.read_file(INDEX_FN)\n",
    "tiles = tiles_gpkg[\"tile_num\"].tolist()\n",
    "# # tiles"
   ]
  },
  {
   "cell_type": "code",
   "execution_count": 48,
   "id": "66c752ec-03dc-49a4-89c6-8b7ffcf14328",
   "metadata": {},
   "outputs": [
    {
     "data": {
      "text/plain": [
       "220"
      ]
     },
     "execution_count": 48,
     "metadata": {},
     "output_type": "execute_result"
    }
   ],
   "source": [
    "len(tiles)"
   ]
  },
  {
   "cell_type": "code",
   "execution_count": 49,
   "id": "0725d31c-f062-4204-b7c7-9f1b1ff2e251",
   "metadata": {},
   "outputs": [],
   "source": [
    "#######################################\n",
    "# Select tiles to run\n",
    "#######################################\n",
    "# tiles_run = tiles\n",
    "\n",
    "# tiles_run = tiles[3:4]\n",
    "# tiles_run = [89,99]\n",
    "tiles_run = [89]\n",
    "# tiles_run\n"
   ]
  },
  {
   "cell_type": "code",
   "execution_count": 50,
   "id": "24895b6b-94d0-4a2e-b8c4-d4a7f0db6e59",
   "metadata": {},
   "outputs": [],
   "source": [
    "#######################################\n",
    "# Select based on overlap (doing that during tests if not using 90km grids)\n",
    "# ref_gpkg_fn = '/projects/my-private-bucket/HLS-1DCNN-AGB/data/shp/atlantic_forest/tiles/br_af_grid90km_prj.gpkg' \n",
    "# # ref_gpkg_fn = '/projects/my-private-bucket/HLS-1DCNN-AGB/data/shp/atlantic_forest/tiles/br_af_grid60km_prj.gpkg' \n",
    "\n",
    "# ref_tile_num = 89\n",
    "\n",
    "\n",
    "# gdf_index = gpd.read_file(INDEX_FN)\n",
    "# gdf_ref = gpd.read_file(ref_gpkg_fn)\n",
    "\n",
    "# # Select reference tile 89\n",
    "# ref_tile = gdf_ref[gdf_ref[\"tile_num\"] == ref_tile_num]\n",
    "\n",
    "# # Spatial join / intersection\n",
    "# matches = gdf_index[gdf_index.intersects(ref_tile.union_all())]\n",
    "\n",
    "# # Get the tile_num of matches\n",
    "# tiles_run = matches[\"tile_num\"].tolist()\n",
    "\n"
   ]
  },
  {
   "cell_type": "code",
   "execution_count": 51,
   "id": "90b9eee6-1446-4932-ac9c-e13575ac452c",
   "metadata": {},
   "outputs": [
    {
     "data": {
      "text/plain": [
       "[89]"
      ]
     },
     "execution_count": 51,
     "metadata": {},
     "output_type": "execute_result"
    }
   ],
   "source": [
    "tiles_run\n",
    "\n",
    "# Tile 89 of grid 90 km used as a reference to get GEDI data\n",
    "# These are the overlapping tiles from grid 60 km\n",
    "# [176, 177, 178, 196, 197, 198, 210, 211, 212]"
   ]
  },
  {
   "cell_type": "code",
   "execution_count": 52,
   "id": "b0f7de88-4a6e-4503-81fa-281b53ba6f78",
   "metadata": {},
   "outputs": [],
   "source": [
    "# tiles_run = [210, 211, 212]\n",
    "# tiles_run = [198]\n"
   ]
  },
  {
   "cell_type": "code",
   "execution_count": 53,
   "id": "f6a0e9e1-bbcd-4e48-a0ef-129cf706ff2e",
   "metadata": {},
   "outputs": [],
   "source": [
    "# import folium\n",
    "# # Center map on the reference tile\n",
    "# center = ref_tile.geometry.centroid.iloc[0].coords[0][::-1]  # (lat, lon)\n",
    "\n",
    "# m = folium.Map(location=center, zoom_start=8)\n",
    "\n",
    "# # Add reference tile (90 km) in red\n",
    "# folium.GeoJson(\n",
    "#     ref_tile,\n",
    "#     style_function=lambda x: {\"color\": \"red\", \"weight\": 3, \"fillOpacity\": 0},\n",
    "#     name=\"Reference tile (90 km)\"\n",
    "# ).add_to(m)\n",
    "\n",
    "# # Add matching 30 km tiles in blue\n",
    "# folium.GeoJson(\n",
    "#     matches,\n",
    "#     style_function=lambda x: {\"color\": \"blue\", \"weight\": 2, \"fillOpacity\": 0.2},\n",
    "#     tooltip=folium.GeoJsonTooltip(fields=[\"tile_num\"], aliases=[\"Tile #\"])\n",
    "# ).add_to(m)\n",
    "\n",
    "# # Add layer control\n",
    "# folium.LayerControl().add_to(m)"
   ]
  },
  {
   "cell_type": "code",
   "execution_count": 54,
   "id": "4881719d-092f-415f-9868-07fe720118e3",
   "metadata": {},
   "outputs": [],
   "source": [
    "# years = [2022]\n",
    "# years = [2021]\n",
    "years = [2020]\n",
    "\n",
    "# years = [2022, 2021,2020,2019]\n",
    "# years = [2022,2021,2020,2019,2018]\n",
    "# years = [2022,2021,2019,2018]\n",
    "\n",
    "# years = [2019,2018]\n",
    "# years = [2023]\n",
    "# years = [2020]\n",
    "\n",
    "# type(years)"
   ]
  },
  {
   "cell_type": "code",
   "execution_count": 55,
   "id": "13163223-914f-46e1-95ad-56ac2fdb91d8",
   "metadata": {},
   "outputs": [
    {
     "name": "stdout",
     "output_type": "stream",
     "text": [
      "CPU times: user 183 µs, sys: 0 ns, total: 183 µs\n",
      "Wall time: 188 µs\n"
     ]
    }
   ],
   "source": [
    "%%time\n",
    "# Create parameter list and create output directories\n",
    "# This is set up to do monthly composites\n",
    "params_list = []\n",
    "for tile in tiles_run: \n",
    "    for year in years:\n",
    "        # for month in range(2, 4):\n",
    "        for month in range(1, 13):\n",
    "            start_day = f\"{month:02d}-01\"\n",
    "            end_day = f\"{month:02d}-{monthrange(year, month)[1]:02d}\"\n",
    "    \n",
    "            # output directory for specific run\n",
    "            # outdir = f'{BASE_OUTDIR}/tile_{tile:03d}/{year}/{month:02d}'\n",
    "            outdir = f'{BASE_OUTDIR}/tile_{tile:03d}/{year}/'\n",
    "            \n",
    "            # os.makedirs(outdir, exist_ok=True)\n",
    "    \n",
    "            run_params = copy.deepcopy(params)\n",
    "            run_params.update({\n",
    "                'FOCAL_TILE': tile,\n",
    "                'YEAR': year,\n",
    "                'SEASON_START': start_day,\n",
    "                'SEASON_STOP': end_day,\n",
    "                'OUTDIR': str(outdir)\n",
    "            })\n",
    "    \n",
    "            params_list.append(run_params)\n",
    "\n"
   ]
  },
  {
   "cell_type": "code",
   "execution_count": 56,
   "id": "6953e62a-fdd7-40df-8b74-1df2d222f65a",
   "metadata": {},
   "outputs": [
    {
     "data": {
      "text/plain": [
       "'/br_af_grid90km_prj_evi2_max/tile_089/2020/'"
      ]
     },
     "execution_count": 56,
     "metadata": {},
     "output_type": "execute_result"
    }
   ],
   "source": [
    "params_list[-1]['OUTDIR']"
   ]
  },
  {
   "cell_type": "code",
   "execution_count": 57,
   "id": "aa00e2cf-51cd-4c49-a502-ffa649ce69e8",
   "metadata": {},
   "outputs": [
    {
     "data": {
      "text/plain": [
       "12"
      ]
     },
     "execution_count": 57,
     "metadata": {},
     "output_type": "execute_result"
    }
   ],
   "source": [
    "len(params_list)"
   ]
  },
  {
   "cell_type": "code",
   "execution_count": 58,
   "id": "3dff6be8-2202-4bfa-90e2-9100be03db9b",
   "metadata": {},
   "outputs": [],
   "source": [
    "# "
   ]
  },
  {
   "cell_type": "code",
   "execution_count": 59,
   "id": "c73cdef0-0bb5-4706-809a-0e8fbde9bf3a",
   "metadata": {},
   "outputs": [],
   "source": [
    "# wrapper_composite(params_list[-1])"
   ]
  },
  {
   "cell_type": "code",
   "execution_count": 60,
   "id": "c279b295-d546-4f43-9608-fe05900e2dbc",
   "metadata": {},
   "outputs": [],
   "source": [
    "# params_list[0]#['SEASON_START'].split('-')[0]\n",
    "# params_list[10:13]"
   ]
  },
  {
   "cell_type": "code",
   "execution_count": 61,
   "id": "20688064-9371-4acd-b9dc-46def76757be",
   "metadata": {},
   "outputs": [],
   "source": [
    "# Test saving in safe directory from\n",
    "#  Stopped here tile 198, year 2018, month 02\n",
    "# But running on safe directory from tile 210, 211, 212\n",
    "# Running 198 all again\n",
    "# params"
   ]
  },
  {
   "cell_type": "code",
   "execution_count": null,
   "id": "7f4b6b02-30ff-4343-adc3-673497f8f99f",
   "metadata": {
    "scrolled": true
   },
   "outputs": [
    {
     "name": "stdout",
     "output_type": "stream",
     "text": [
      "Running tile 89, year 2020, month 01\n",
      "\n",
      "Tiles path:\t\t /projects/my-private-bucket/HLS-1DCNN-AGB/data/shp/atlantic_forest/tiles/br_af_grid90km_prj.gpkg\n",
      "Tile number:\t\t 89\n",
      "Output res (m):\t\t 30\n",
      "in_bbox:\t\t [5469419.049164498, 7224073.29125729, 5559419.049164498, 7314073.29125729]\n",
      "bbox 4326:\t\t [-49.378378833496065, -25.01637488893418, -48.45754764772649, -24.17719601338586]\n",
      "Getting output dims from buffered (buffer=0.0) original tile geometry...\n",
      "Output dims:\t\t3000 x 3000\n",
      "Composite type:\t\tHLS\n",
      "\n",
      "Getting HLS Surface Reflectance H30 data...\n",
      "bbox: [-49.378378833496065, -25.01637488893418, -48.45754764772649, -24.17719601338586]\n",
      "\n",
      "Querying STAC for multispectral imagery...\n",
      "Catalog title: LPCLOUD STAC Catalog\n",
      "start date, end date:\t\t 2020-01-01T00:00:00Z 2020-01-31T23:59:59Z\n",
      "\n",
      "Conducting multispectral image search now ...\n",
      "Searching for:\t\t\t['HLSL30_2.0', 'HLSS30_2.0']\n",
      "Max cloudcover threshold starts at: 0% and won't exceed 90%\n",
      "Min number of filtered results: 10\n",
      "partial results (HLSL30_2.0):\t\t\t\t0\n",
      "partial results (HLSS30_2.0):\t\t\t\t0\n",
      "\tOnly 0 HLS scenes using lte 5% cloudcover for 2020-01-01T00:00:00Z-2020-01-31T23:59:59Z for bbox.\n",
      "\tIncrease max_cloud by 5% until you get >= 10 scenes to composite or the 90% cloudcover limit is reached.\n",
      "Max cloudcover threshold now at: 5%\n",
      "partial results (HLSL30_2.0):\t\t\t\t0\n",
      "partial results (HLSS30_2.0):\t\t\t\t0\n",
      "\tOnly 0 HLS scenes using lte 10% cloudcover for 2020-01-01T00:00:00Z-2020-01-31T23:59:59Z for bbox.\n",
      "\tIncrease max_cloud by 5% until you get >= 10 scenes to composite or the 90% cloudcover limit is reached.\n",
      "Max cloudcover threshold now at: 10%\n",
      "partial results (HLSL30_2.0):\t\t\t\t0\n",
      "partial results (HLSS30_2.0):\t\t\t\t0\n",
      "\tOnly 0 HLS scenes using lte 15% cloudcover for 2020-01-01T00:00:00Z-2020-01-31T23:59:59Z for bbox.\n",
      "\tIncrease max_cloud by 5% until you get >= 10 scenes to composite or the 90% cloudcover limit is reached.\n",
      "Max cloudcover threshold now at: 15%\n",
      "partial results (HLSL30_2.0):\t\t\t\t0\n",
      "partial results (HLSS30_2.0):\t\t\t\t0\n",
      "\tOnly 0 HLS scenes using lte 20% cloudcover for 2020-01-01T00:00:00Z-2020-01-31T23:59:59Z for bbox.\n",
      "\tIncrease max_cloud by 5% until you get >= 10 scenes to composite or the 90% cloudcover limit is reached.\n",
      "Max cloudcover threshold now at: 20%\n",
      "partial results (HLSL30_2.0):\t\t\t\t1\n",
      "partial results (HLSS30_2.0):\t\t\t\t1\n",
      "\tOnly 2 HLS scenes using lte 25% cloudcover for 2020-01-01T00:00:00Z-2020-01-31T23:59:59Z for bbox.\n",
      "\tIncrease max_cloud by 5% until you get >= 10 scenes to composite or the 90% cloudcover limit is reached.\n",
      "Max cloudcover threshold now at: 25%\n",
      "partial results (HLSL30_2.0):\t\t\t\t2\n",
      "partial results (HLSS30_2.0):\t\t\t\t2\n",
      "\tOnly 4 HLS scenes using lte 30% cloudcover for 2020-01-01T00:00:00Z-2020-01-31T23:59:59Z for bbox.\n",
      "\tIncrease max_cloud by 5% until you get >= 10 scenes to composite or the 90% cloudcover limit is reached.\n",
      "Max cloudcover threshold now at: 30%\n",
      "partial results (HLSL30_2.0):\t\t\t\t4\n",
      "partial results (HLSS30_2.0):\t\t\t\t3\n",
      "\tOnly 7 HLS scenes using lte 35% cloudcover for 2020-01-01T00:00:00Z-2020-01-31T23:59:59Z for bbox.\n",
      "\tIncrease max_cloud by 5% until you get >= 10 scenes to composite or the 90% cloudcover limit is reached.\n",
      "Max cloudcover threshold now at: 35%\n",
      "partial results (HLSL30_2.0):\t\t\t\t4\n",
      "partial results (HLSS30_2.0):\t\t\t\t3\n",
      "\tOnly 7 HLS scenes using lte 40% cloudcover for 2020-01-01T00:00:00Z-2020-01-31T23:59:59Z for bbox.\n",
      "\tIncrease max_cloud by 5% until you get >= 10 scenes to composite or the 90% cloudcover limit is reached.\n",
      "Max cloudcover threshold now at: 40%\n",
      "partial results (HLSL30_2.0):\t\t\t\t4\n",
      "partial results (HLSS30_2.0):\t\t\t\t4\n",
      "\tOnly 8 HLS scenes using lte 45% cloudcover for 2020-01-01T00:00:00Z-2020-01-31T23:59:59Z for bbox.\n",
      "\tIncrease max_cloud by 5% until you get >= 10 scenes to composite or the 90% cloudcover limit is reached.\n",
      "Max cloudcover threshold now at: 45%\n",
      "partial results (HLSL30_2.0):\t\t\t\t4\n",
      "partial results (HLSS30_2.0):\t\t\t\t4\n",
      "\tOnly 8 HLS scenes using lte 50% cloudcover for 2020-01-01T00:00:00Z-2020-01-31T23:59:59Z for bbox.\n",
      "\tIncrease max_cloud by 5% until you get >= 10 scenes to composite or the 90% cloudcover limit is reached.\n",
      "Max cloudcover threshold now at: 50%\n",
      "partial results (HLSL30_2.0):\t\t\t\t4\n",
      "partial results (HLSS30_2.0):\t\t\t\t5\n",
      "\tOnly 9 HLS scenes using lte 55% cloudcover for 2020-01-01T00:00:00Z-2020-01-31T23:59:59Z for bbox.\n",
      "\tIncrease max_cloud by 5% until you get >= 10 scenes to composite or the 90% cloudcover limit is reached.\n",
      "Max cloudcover threshold now at: 55%\n",
      "partial results (HLSL30_2.0):\t\t\t\t4\n",
      "partial results (HLSS30_2.0):\t\t\t\t5\n",
      "\tOnly 9 HLS scenes using lte 60% cloudcover for 2020-01-01T00:00:00Z-2020-01-31T23:59:59Z for bbox.\n",
      "\tIncrease max_cloud by 5% until you get >= 10 scenes to composite or the 90% cloudcover limit is reached.\n",
      "Max cloudcover threshold now at: 60%\n",
      "partial results (HLSL30_2.0):\t\t\t\t4\n",
      "partial results (HLSS30_2.0):\t\t\t\t5\n",
      "\tOnly 9 HLS scenes using lte 65% cloudcover for 2020-01-01T00:00:00Z-2020-01-31T23:59:59Z for bbox.\n",
      "\tIncrease max_cloud by 5% until you get >= 10 scenes to composite or the 90% cloudcover limit is reached.\n",
      "Max cloudcover threshold now at: 65%\n",
      "partial results (HLSL30_2.0):\t\t\t\t4\n",
      "partial results (HLSS30_2.0):\t\t\t\t6\n",
      "compelte results (['HLSL30_2.0', 'HLSS30_2.0']):\t10\n",
      "\n",
      "Search complete.\n",
      "\n",
      "10\n",
      "HLS.L30.T22KFU.2020015T131042.v2.0\n",
      "HLS.L30.T22KGU.2020015T131042.v2.0\n",
      "HLS.L30.T22JGT.2020015T131106.v2.0\n",
      "HLS.L30.T22JFT.2020015T131106.v2.0\n",
      "HLS.S30.T22KGU.2020015T132229.v2.0\n",
      "HLS.S30.T22KFU.2020015T132229.v2.0\n",
      "HLS.S30.T22JGT.2020015T132229.v2.0\n",
      "HLS.S30.T22JFT.2020015T132229.v2.0\n",
      "HLS.S30.T22KFU.2020020T132231.v2.0\n",
      "HLS.S30.T22JGT.2020030T132231.v2.0\n",
      "\n",
      "Total # of scenes for composite:\t\t10\n",
      "Creating evi2 stack with HLS ...\n",
      "\n",
      "Finished created masked evi2 stack.\n",
      "\n",
      "Make evi2 masked array\n",
      "shape:\t\t (10, 3000, 3000)\n",
      "\n",
      "Calculating index positions from evi2 stack using stat: max (w/ nodatavalue = -9999)...\n",
      "\tApply the mask for no data values...\n",
      "\tStatistical summary of index array for stat=max\n",
      "\tPrinting array stats: (3000, 3000)\n",
      "\t\tValid Pixel Count: 9000000\n",
      "\t\tMean: 3.74\n",
      "\t\tStandard Deviation: 2.76\n",
      "\t\tMinimum: 0.00\n",
      "\t\tMaximum: 9.00\n",
      "\t\t25th Percentile: 1.00\n",
      "\t\t50th Percentile (Median): 3.00\n",
      "\t\t75th Percentile: 6.00\n",
      "Count array min (0), max (8), and shape ((3000, 3000))\n",
      "Create LUT of evi2 positions using stat=max\n",
      "Creating Blue composite...\n",
      "Creating Green composite...\n",
      "Creating Red composite...\n",
      "Creating NIR composite...\n",
      "Creating SWIR composite...\n",
      "Creating SWIR2 composite...\n"
     ]
    }
   ],
   "source": [
    "%%time\n",
    "for params in params_list:\n",
    "    try:\n",
    "        print(f\"Running tile {params['FOCAL_TILE']}, year {params['YEAR']}, month {params['SEASON_START'].split('-')[0]}\")\n",
    "       \n",
    "        # Create output directory\n",
    "        outdir = params['OUTDIR']\n",
    "        os.makedirs(outdir, exist_ok=True)\n",
    "        \n",
    "        # Run composite\n",
    "        output_file = wrapper_composite(params)\n",
    "        print(f\"Output saved to: {output_file}\")\n",
    "\n",
    "\n",
    "        # # If needed because of disk space\n",
    "        # # Move from safe dir to end folder\n",
    "        # final_dir = f'{BASE_FINAL_DIR}{outdir}'\n",
    "        # # print(outdir)\n",
    "        # # print(final_dir)\n",
    "        # # subprocess.run(\n",
    "        # #     [\"rsync\", \"-av\", \"--remove-source-files\", output_file, final_dir],\n",
    "        # #     check=True\n",
    "        # # )\n",
    "        # # print(f\"Moved {output_file} to {final_dir}\")\n",
    "\n",
    "        # try:\n",
    "        #     subprocess.run(\n",
    "        #         [\"rsync\", \"-av\", \"--remove-source-files\", output_file, final_dir],\n",
    "        #         check=True\n",
    "        #     )\n",
    "        #     print(f\"Moved {output_file} to {final_dir}\")\n",
    "        # except Exception as move_err:\n",
    "        #     print(f\"⚠️ Error moving {output_file} to {final_dir}: {move_err}\")\n",
    "            \n",
    "        \n",
    "    except Exception as e:\n",
    "        print(f\"Error processing tile {params['FOCAL_TILE']}, year {params['YEAR']}, month {params['SEASON_START'].split('-')[0]}: {e}\")"
   ]
  },
  {
   "cell_type": "code",
   "execution_count": null,
   "id": "997b9454-4c96-4605-82e3-abc1d73322b9",
   "metadata": {},
   "outputs": [],
   "source": [
    "## NOTES\n",
    "\n",
    "# Monthly composites 1 tile 1 year 60 km\n",
    "# Wall time: 23min 42s\n",
    "\n",
    "# Monthly composites 1 tile 1 year 90 km\n",
    "# Wall time: 45min 2s\n",
    "\n",
    "# Monthly composites 1 tile 90 km 3 years (2022, 2021,2020)\n",
    "# Wall time: 2h 16min 58s\n"
   ]
  },
  {
   "cell_type": "code",
   "execution_count": null,
   "id": "344c948f-7d0a-45c0-9767-1922ce3addc3",
   "metadata": {},
   "outputs": [],
   "source": [
    "# rsync -av --remove-source-files /br_af_grid90km_prj_evi2_max/ /projects/my-private-bucket/HLS-1DCNN-AGB/data/tif/HLS_composites/monthly/br_af_grid90km_prj_evi2_max/"
   ]
  },
  {
   "cell_type": "code",
   "execution_count": null,
   "id": "783395bc-4c5c-439f-a25c-f228f60d4c8a",
   "metadata": {},
   "outputs": [],
   "source": []
  },
  {
   "cell_type": "code",
   "execution_count": null,
   "id": "a9fe101e-2a99-440f-9429-8f20050a4444",
   "metadata": {},
   "outputs": [],
   "source": [
    "# move files when saving them on a safe folder\n",
    "# rsync -av --remove-source-files /br_af_grid60km_prj_evi2_max/ /projects/my-private-bucket/HLS-1DCNN-AGB/data/tif/HLS_composites/monthly/br_af_grid60km_prj_evi2_max/\n",
    "\n",
    "\n",
    "# rsync -a → archive mode (preserves permissions, times, symlinks, recursive).\n",
    "\n",
    "# -v → verbose.\n",
    "\n",
    "# --remove-source-files → deletes the file in the source once it’s copied.\n"
   ]
  },
  {
   "cell_type": "code",
   "execution_count": null,
   "id": "2a0da5c8-c308-4223-8a47-53872013f207",
   "metadata": {},
   "outputs": [],
   "source": [
    "# rsync -av --remove-source-files /br_af_grid60km_prj_evi2_p95/ /projects/my-private-bucket/HLS-1DCNN-AGB/data/tif/HLS_composites/monthly/br_af_grid90km_prj_evi2_p95/\n"
   ]
  },
  {
   "cell_type": "code",
   "execution_count": null,
   "id": "06a184bb-1759-4a64-885e-b81e29de6a25",
   "metadata": {},
   "outputs": [],
   "source": [
    "\n"
   ]
  },
  {
   "cell_type": "markdown",
   "id": "603d6acc-f6db-4eb3-ad55-ff0a47ce5abc",
   "metadata": {},
   "source": [
    "## MULTIPROCESSING - Error with multiple requests"
   ]
  },
  {
   "cell_type": "code",
   "execution_count": null,
   "id": "dc9db1a5-b137-4a2e-a44e-95d1d73e3ecb",
   "metadata": {
    "scrolled": true
   },
   "outputs": [],
   "source": [
    "# %%time\n",
    "# mp.cpu_count() - 1\n",
    "# with mp.Pool(processes= 5) as pool:\n",
    "#     fn_list = pool.map(wrapper_composite, params_list)\n",
    "# with mp.Pool(processes= 12) as pool:\n",
    "#     fn_list = pool.map(wrapper_composite, params_list)"
   ]
  },
  {
   "cell_type": "code",
   "execution_count": null,
   "id": "d532cf41-1c51-4152-845a-425767e909e1",
   "metadata": {},
   "outputs": [],
   "source": []
  },
  {
   "cell_type": "code",
   "execution_count": null,
   "id": "8baca290-edce-4acf-bf53-21a64effbd63",
   "metadata": {},
   "outputs": [],
   "source": [
    "# # Plotting to check false composite to check\n",
    "# fn = fn_list[0]\n",
    "# fn\n",
    "# rescaled_multiband_fn = fn.replace('.tif', '_rescaled_3band_temp.tif')\n",
    "# plotlib.rescale_multiband_for_plot(fn, rescaled_multiband_fn, bandlist = [6,4,3], pct=[20,98], nodata=-9999.0) \n",
    "\n",
    "# fig,ax=plt.subplots(figsize=(10,10))\n",
    "# with rasterio.open(rescaled_multiband_fn) as src:\n",
    "#     #print(src.profile)\n",
    "#     show(src.read(),transform=src.transform, ax=ax, title=os.path.basename(rescaled_multiband_fn))"
   ]
  },
  {
   "cell_type": "code",
   "execution_count": null,
   "id": "cb453e83-753b-4850-8cf4-e661034a0756",
   "metadata": {},
   "outputs": [],
   "source": []
  },
  {
   "cell_type": "code",
   "execution_count": null,
   "id": "89576e56-e5a5-446b-8dd8-5ae030bc8ea8",
   "metadata": {},
   "outputs": [],
   "source": [
    "### Notes\n",
    "\n",
    "# Time to run 1 tile 1 year 12 processors\n",
    "\n"
   ]
  },
  {
   "cell_type": "code",
   "execution_count": null,
   "id": "8c59c8c9-b68e-4312-9cd2-685b6c47d899",
   "metadata": {},
   "outputs": [],
   "source": []
  },
  {
   "cell_type": "code",
   "execution_count": null,
   "id": "838edb85-b309-4045-9329-658ea3fe7fbd",
   "metadata": {},
   "outputs": [],
   "source": [
    "## CHECK ERRORS\n",
    "\n",
    "## No output is created sometimes when runnning multiple jobs"
   ]
  }
 ],
 "metadata": {
  "kernelspec": {
   "display_name": "Python [conda env:pangeo] *",
   "language": "python",
   "name": "conda-env-pangeo-py"
  },
  "language_info": {
   "codemirror_mode": {
    "name": "ipython",
    "version": 3
   },
   "file_extension": ".py",
   "mimetype": "text/x-python",
   "name": "python",
   "nbconvert_exporter": "python",
   "pygments_lexer": "ipython3",
   "version": "3.12.7"
  }
 },
 "nbformat": 4,
 "nbformat_minor": 5
}
