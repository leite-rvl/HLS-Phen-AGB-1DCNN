{
 "cells": [
  {
   "cell_type": "code",
   "execution_count": 15,
   "id": "de26726b-2848-4561-b65a-79a903483a25",
   "metadata": {},
   "outputs": [],
   "source": [
    "import os\n",
    "import shutil\n"
   ]
  },
  {
   "cell_type": "code",
   "execution_count": 16,
   "id": "bb326860-d52c-477d-9276-be83a99d890a",
   "metadata": {},
   "outputs": [],
   "source": [
    "os.chdir(\"/tmp\")"
   ]
  },
  {
   "cell_type": "code",
   "execution_count": 17,
   "id": "51cbd8f5-054d-4879-891b-c95912189b46",
   "metadata": {},
   "outputs": [],
   "source": [
    "# Source and destination directories\n",
    "src_root = \"/br_af_grid90km_prj_evi2_max\"\n",
    "dst_root = \"/projects/my-private-bucket/HLS-1DCNN-AGB/data/tif/HLS_composites/monthly/br_af_grid90km_prj_evi2_max\"\n"
   ]
  },
  {
   "cell_type": "code",
   "execution_count": 18,
   "id": "144ba822-0344-4c9a-9e2d-acfac9636121",
   "metadata": {},
   "outputs": [
    {
     "name": "stdout",
     "output_type": "stream",
     "text": [
      "Running: rsync -avP --partial --append-verify --mkpath --remove-source-files /br_af_grid90km_prj_evi2_max/ /projects/my-private-bucket/HLS-1DCNN-AGB/data/tif/HLS_composites/monthly/br_af_grid90km_prj_evi2_max/\n",
      "STDOUT:\n",
      " sending incremental file list\n",
      "tile_089/\n",
      "tile_089/2020/\n",
      "tile_089/2020/HLS_89_01-01_01-31_2020_2020_maxevi2.tif\n",
      "\n",
      "         32,768   0%    0.00kB/s    0:00:00  \n",
      "    383,090,688  35%  349.92MB/s    0:00:01  \n",
      "    521,502,720  47%  243.42MB/s    0:00:02  \n",
      "    651,526,144  59%  199.07MB/s    0:00:02  \n",
      "    781,549,568  71%  179.94MB/s    0:00:01  \n",
      "STDERR:\n",
      " rsync: [receiver] write failed on \"/projects/my-private-bucket/HLS-1DCNN-AGB/data/tif/HLS_composites/monthly/br_af_grid90km_prj_evi2_max/tile_089/2020/HLS_89_01-01_01-31_2020_2020_maxevi2.tif\": Transport endpoint is not connected (107)\n",
      "rsync error: error in file IO (code 11) at receiver.c(379) [receiver=3.2.3]\n",
      "\n",
      "rsync: [sender] write error: Broken pipe (32)\n",
      "\n",
      "⚠️ rsync exited with code 11\n"
     ]
    }
   ],
   "source": [
    "import subprocess\n",
    "\n",
    "src = \"/br_af_grid90km_prj_evi2_max/\"\n",
    "dst = \"/projects/my-private-bucket/HLS-1DCNN-AGB/data/tif/HLS_composites/monthly/br_af_grid90km_prj_evi2_max/\"\n",
    "\n",
    "# rsync command (safe, verified, preserves structure)\n",
    "cmd = [\n",
    "    \"rsync\", \"-avP\",\n",
    "    \"--partial\", \"--append-verify\",# \"--inplace\",\n",
    "    \"--mkpath\", \"--remove-source-files\",  # move files (not just copy)\n",
    "    src, dst\n",
    "]\n",
    "\n",
    "print(\"Running:\", \" \".join(cmd))\n",
    "process = subprocess.run(cmd, text=True, capture_output=True)\n",
    "\n",
    "print(\"STDOUT:\\n\", process.stdout)\n",
    "if process.stderr:\n",
    "    print(\"STDERR:\\n\", process.stderr)\n",
    "\n",
    "if process.returncode == 0:\n",
    "    print(\"✅ Files moved successfully!\")\n",
    "else:\n",
    "    print(f\"⚠️ rsync exited with code {process.returncode}\")\n"
   ]
  },
  {
   "cell_type": "code",
   "execution_count": null,
   "id": "de2aa22b-27f2-42dd-95e1-09d305b69a7c",
   "metadata": {},
   "outputs": [],
   "source": []
  },
  {
   "cell_type": "code",
   "execution_count": null,
   "id": "216a4a1e-9407-44b9-85fa-3c43275ff5a7",
   "metadata": {},
   "outputs": [],
   "source": []
  },
  {
   "cell_type": "code",
   "execution_count": null,
   "id": "1a5bb3f6-c32f-4ea3-aea6-3abe9a2c32ff",
   "metadata": {},
   "outputs": [],
   "source": []
  },
  {
   "cell_type": "code",
   "execution_count": null,
   "id": "6f8ce9f6-bcf1-4cc5-9d7b-86c71c375caf",
   "metadata": {},
   "outputs": [],
   "source": []
  }
 ],
 "metadata": {
  "kernelspec": {
   "display_name": "Python [conda env:pangeo] *",
   "language": "python",
   "name": "conda-env-pangeo-py"
  },
  "language_info": {
   "codemirror_mode": {
    "name": "ipython",
    "version": 3
   },
   "file_extension": ".py",
   "mimetype": "text/x-python",
   "name": "python",
   "nbconvert_exporter": "python",
   "pygments_lexer": "ipython3",
   "version": "3.12.7"
  }
 },
 "nbformat": 4,
 "nbformat_minor": 5
}
