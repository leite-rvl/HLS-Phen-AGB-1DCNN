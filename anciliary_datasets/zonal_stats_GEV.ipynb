{
 "cells": [
  {
   "cell_type": "markdown",
   "id": "d32636d1-c718-4c58-b432-93678affab7d",
   "metadata": {},
   "source": [
    "\"\"\"\n",
    "Script to compute zonal statistics for GEDI L4A points against a multiband HLS raster.\n",
    "Steps:\n",
    "1. Load GEDI L4A geospatial points (optionally buffer it into polygons - ## check errors on rastererization).\n",
    "2. Load single band image - e.g. HLS composite raster for one band.\n",
    "3. Reproject points to raster CRS and rasterize zones.\n",
    "4. Compute per-zone statistics (e.g., mean) using xrspatial.zonal_stats.\n",
    "5. Join results back to the input GeoDataFrame and export to GeoPackage.\n",
    "\"\"\""
   ]
  },
  {
   "cell_type": "code",
   "execution_count": 26,
   "id": "7a87305b-d88c-4bd1-a79c-5b0cb734eb4f",
   "metadata": {},
   "outputs": [],
   "source": [
    "import os\n",
    "import glob\n",
    "import numpy as np\n",
    "import geopandas as gpd\n",
    "import rioxarray\n",
    "from rasterio import features\n",
    "from shapely.geometry import Point\n",
    "from xrspatial import zonal_stats\n",
    "import pandas as pd\n",
    "from pyproj import CRS"
   ]
  },
  {
   "cell_type": "code",
   "execution_count": 27,
   "id": "f3792ad2-d422-483f-9e84-74b78ee03057",
   "metadata": {},
   "outputs": [],
   "source": [
    "\n",
    "def zonal_stats_raster(gpkg_points_path,img_path, ZONE_ID_COL = 'zone', BUFFER_METERS =0, band_name = 'b'):\n",
    "        \n",
    "    ####################################################\n",
    "    # 1) Open raster as xarray (single band)\n",
    "    ####################################################\n",
    "    \n",
    "    da = rioxarray.open_rasterio(img_path).squeeze()  # [y, x]\n",
    "    if 'band' in da.dims:\n",
    "        da = da.squeeze('band', drop=True)\n",
    "        \n",
    "    raster_crs = CRS.from_user_input(da.rio.crs)\n",
    "    transform  = da.rio.transform()\n",
    "    out_shape  = da.shape  # (rows, cols)\n",
    "    nodata     = da.rio.nodata\n",
    "    \n",
    "    da = da.where(da != da.rio.nodata)\n",
    "    \n",
    "    \n",
    "    \n",
    "    ####################################################\n",
    "    # 2) Read points\n",
    "    ####################################################\n",
    "    gdf = gpd.read_file(gpkg_points_path)\n",
    "    \n",
    "    # Create ID for the zonal stats\n",
    "    if ZONE_ID_COL not in gdf.columns:\n",
    "        gdf = gdf.reset_index(drop=True)\n",
    "        gdf[ZONE_ID_COL] = np.arange(1, len(gdf) + 1, dtype=np.int32)\n",
    "    \n",
    "    \n",
    "    \n",
    "    ####################################################\n",
    "    # 3) Reproject to raster CRS and buffer to polygons \n",
    "    ####################################################\n",
    "    \n",
    "    gdf_proj = gdf.to_crs(raster_crs)\n",
    "    \n",
    "    # BUffer\n",
    "    if BUFFER_METERS > 0:\n",
    "        gdf_proj[\"geometry\"] = gdf_proj.geometry.buffer(BUFFER_METERS)\n",
    "    \n",
    "    \n",
    "    ####################\n",
    "    # 4) Build (geometry, id) tuples for rasterization\n",
    "    ####################\n",
    "    geom = list(zip(gdf_proj.geometry, gdf_proj[ZONE_ID_COL]))\n",
    "    \n",
    "    \n",
    "    \n",
    "    ####################################################\n",
    "    # 5) Rasterize zones (same shape/transform as raster)\n",
    "    ####################################################\n",
    "    zones_arr = features.rasterize(\n",
    "        geom,\n",
    "        out_shape=out_shape,\n",
    "        transform=transform,\n",
    "        fill= nodata,\n",
    "        nodata = nodata,\n",
    "        masked = True,\n",
    "        # fill=0,# background (no zone)\n",
    "        dtype=\"int32\",\n",
    "        # all_touched=True\n",
    "    )\n",
    "    \n",
    "    \n",
    "    \n",
    "    ####################################################\n",
    "    # # 6) Wrap zones into an xarray aligned with the raster\n",
    "    ####################################################\n",
    "    \n",
    "    zones_xarr = da.copy(deep=False)  # copies coords/attrs, not data\n",
    "    zones_xarr.data = zones_arr\n",
    "    # zones_xarr.attrs[\"nodata\"] = nodata\n",
    "    # zones_xarr\n",
    "    \n",
    "    \n",
    "    ####################################################\n",
    "    # 7) Compute zonal stats using xrspatial (min/max/mean/etc.)\n",
    "    ####################################################\n",
    "    \n",
    "    # If your raster has nodata, pass it so stats ignore it\n",
    "    zs_df = zonal_stats(\n",
    "        zones=zones_xarr,      # your integer-labeled zone raster\n",
    "        values=da,             # the raster with values to summarize\n",
    "        # stats_funcs=['mean', 'max', 'min', 'sum', 'std', 'var', 'count'],\n",
    "        stats_funcs=['mean'],\n",
    "        nodata_values=nodata,   # very important → ensures nodata is ignored\n",
    "        return_type='pandas.DataFrame'\n",
    "    )\n",
    "    \n",
    "    \n",
    "    ####################################################\n",
    "    # # Keep only \"mean\" and rename the band\n",
    "    ####################################################\n",
    "    # zs_df = pd.DataFrame({\"mean\": pd.Series(zs[\"mean\"])}).rename_axis(ZONE_ID_COL).reset_index()\n",
    "    \n",
    "    # Rename column -> e.g. \"evi2_mean\"\n",
    "    zs_df = zs_df.rename(columns={\"mean\": f\"{band_name}_mean\"})\n",
    "    \n",
    "    \n",
    "    ####################################################\n",
    "    # 9) create output with zone id and values\n",
    "    ####################################################\n",
    "    # out = (gdf[[ZONE_ID_COL]]\n",
    "    #        .drop_duplicates()\n",
    "    #        .merge(zs_df, on=ZONE_ID_COL, how=\"left\"))\n",
    "    \n",
    "   \n",
    "    \n",
    "    return zs_df\n",
    "    \n",
    "    "
   ]
  },
  {
   "cell_type": "code",
   "execution_count": 28,
   "id": "a3e5fbdc-2c7b-4214-8858-77107dd2b0b3",
   "metadata": {},
   "outputs": [],
   "source": [
    "ref_year = 2022\n",
    "ref_tile = 89"
   ]
  },
  {
   "cell_type": "code",
   "execution_count": 29,
   "id": "a6a4beae-c5b5-4464-8bf8-9e2119d69122",
   "metadata": {},
   "outputs": [],
   "source": [
    "gpkg_points_path = f'/projects/my-private-bucket/HLS-1DCNN-AGB/data/shp/gedi/test/l4a_t90km_t{ref_tile}_veg{ref_year}_outrm.gpkg'"
   ]
  },
  {
   "cell_type": "code",
   "execution_count": 30,
   "id": "b358f0f0-f110-4bb5-93d1-1d6397716518",
   "metadata": {},
   "outputs": [],
   "source": [
    "# Multiband image path\n",
    "# img_path = '/projects/my-private-bucket/HLS-1DCNN-AGB/data/tif/HLS_composites/yearly/br_af_grid90km_evi2_p95/tile_089/bands_vrt/HLS_89_01-01_12-30_2022_2022_percentile95.0evi2_Blue.vrt'\n",
    "\n",
    "# Directory with your raster .vrt files\n",
    "# dir_img = f'/projects/my-private-bucket/HLS-1DCNN-AGB/data/tif/HLS_composites/yearly/br_af_grid90km_evi2_p95/tile_{ref_tile:03}/bands_vrt'\n",
    "dir_img = '/projects/my-private-bucket/HLS-1DCNN-AGB/data/tif/GoogleEmbeddings/2022/bands_vrt_2022/'\n",
    "# dir_img"
   ]
  },
  {
   "cell_type": "code",
   "execution_count": 31,
   "id": "c1e59ac5-e726-488d-b415-d34cef59481e",
   "metadata": {},
   "outputs": [],
   "source": [
    "output_gpkg_zonalstats_fn = f'/projects/my-private-bucket/HLS-1DCNN-AGB/data/shp/gedi/test/l4a_t90km_t{ref_tile}_veg{ref_year}_outrm_zonal_GEV.gpkg'"
   ]
  },
  {
   "cell_type": "code",
   "execution_count": 32,
   "id": "b362395b-858d-4e2f-9f3f-22adad3c45c4",
   "metadata": {},
   "outputs": [],
   "source": [
    "# Define excluded band suffixes\n",
    "# exclude_bands = ['ValidMask.vrt', 'count.vrt', 'yearDate.vrt', 'JulianDate.vrt']\n",
    "exclude_bands = []\n"
   ]
  },
  {
   "cell_type": "code",
   "execution_count": 33,
   "id": "36d39633-e696-4e52-b2ff-0e7e93fac3d8",
   "metadata": {},
   "outputs": [],
   "source": [
    "ZONE_ID_COL = 'zone'\n",
    "BUFFER_METERS = 0"
   ]
  },
  {
   "cell_type": "code",
   "execution_count": 34,
   "id": "61bbeb80-2c3b-4589-8b8d-ce340e4e962d",
   "metadata": {},
   "outputs": [],
   "source": [
    "img_paths = glob.glob(os.path.join(dir_img, \"*.vrt\"))\n",
    "\n",
    "\n",
    "img_paths = [\n",
    "    f for f in img_paths\n",
    "    if not any(f.endswith(ex) for ex in exclude_bands)\n",
    "]"
   ]
  },
  {
   "cell_type": "code",
   "execution_count": 35,
   "id": "cf2f4e08-da80-4dd5-9571-3e27a2204952",
   "metadata": {},
   "outputs": [],
   "source": [
    "# img_paths"
   ]
  },
  {
   "cell_type": "code",
   "execution_count": 36,
   "id": "6c5db69c-ec53-4f35-8335-eb5b7c81ead7",
   "metadata": {},
   "outputs": [],
   "source": [
    "# Load the base gdf\n",
    "gdf = gpd.read_file(gpkg_points_path)\n",
    "\n"
   ]
  },
  {
   "cell_type": "code",
   "execution_count": 37,
   "id": "970cdf69-f02f-4ced-b464-61dda0c5de13",
   "metadata": {},
   "outputs": [],
   "source": [
    "# Create ID for the zonal stats\n",
    "if ZONE_ID_COL not in gdf.columns:\n",
    "    gdf = gdf.reset_index(drop=True)\n",
    "    gdf[ZONE_ID_COL] = np.arange(1, len(gdf) + 1, dtype=np.int32)"
   ]
  },
  {
   "cell_type": "code",
   "execution_count": 38,
   "id": "461afe49-19ce-4f08-9cd5-7cba7c7d42b7",
   "metadata": {},
   "outputs": [],
   "source": [
    "# fname = os.path.basename(img_paths[0])\n",
    "# # fname\n",
    "# # # -> 'GSE.V1.ANNUAL.2024.A00.vrt'   \n",
    "# band_name = fname.replace(\".vrt\", \"\")\n",
    "# band_name"
   ]
  },
  {
   "cell_type": "code",
   "execution_count": 39,
   "id": "22559603-2b9c-4d1e-830d-c158cebecd85",
   "metadata": {},
   "outputs": [
    {
     "name": "stdout",
     "output_type": "stream",
     "text": [
      "Zonal stats: GSE.V1.ANNUAL.2022.A00\n",
      "Zonal stats: GSE.V1.ANNUAL.2022.A00\n",
      "Zonal stats: GSE.V1.ANNUAL.2022.A01\n",
      "Zonal stats: GSE.V1.ANNUAL.2022.A01\n",
      "Zonal stats: GSE.V1.ANNUAL.2022.A02\n",
      "Zonal stats: GSE.V1.ANNUAL.2022.A02\n",
      "Zonal stats: GSE.V1.ANNUAL.2022.A03\n",
      "Zonal stats: GSE.V1.ANNUAL.2022.A03\n",
      "Zonal stats: GSE.V1.ANNUAL.2022.A04\n",
      "Zonal stats: GSE.V1.ANNUAL.2022.A04\n",
      "Zonal stats: GSE.V1.ANNUAL.2022.A05\n",
      "Zonal stats: GSE.V1.ANNUAL.2022.A05\n",
      "Zonal stats: GSE.V1.ANNUAL.2022.A06\n",
      "Zonal stats: GSE.V1.ANNUAL.2022.A06\n",
      "Zonal stats: GSE.V1.ANNUAL.2022.A07\n",
      "Zonal stats: GSE.V1.ANNUAL.2022.A07\n",
      "Zonal stats: GSE.V1.ANNUAL.2022.A08\n",
      "Zonal stats: GSE.V1.ANNUAL.2022.A08\n",
      "Zonal stats: GSE.V1.ANNUAL.2022.A09\n",
      "Zonal stats: GSE.V1.ANNUAL.2022.A09\n",
      "Zonal stats: GSE.V1.ANNUAL.2022.A10\n",
      "Zonal stats: GSE.V1.ANNUAL.2022.A10\n",
      "Zonal stats: GSE.V1.ANNUAL.2022.A11\n",
      "Zonal stats: GSE.V1.ANNUAL.2022.A11\n",
      "Zonal stats: GSE.V1.ANNUAL.2022.A12\n",
      "Zonal stats: GSE.V1.ANNUAL.2022.A12\n",
      "Zonal stats: GSE.V1.ANNUAL.2022.A13\n",
      "Zonal stats: GSE.V1.ANNUAL.2022.A13\n",
      "Zonal stats: GSE.V1.ANNUAL.2022.A14\n",
      "Zonal stats: GSE.V1.ANNUAL.2022.A14\n",
      "Zonal stats: GSE.V1.ANNUAL.2022.A15\n",
      "Zonal stats: GSE.V1.ANNUAL.2022.A15\n",
      "Zonal stats: GSE.V1.ANNUAL.2022.A16\n",
      "Zonal stats: GSE.V1.ANNUAL.2022.A16\n",
      "Zonal stats: GSE.V1.ANNUAL.2022.A17\n",
      "Zonal stats: GSE.V1.ANNUAL.2022.A17\n",
      "Zonal stats: GSE.V1.ANNUAL.2022.A18\n",
      "Zonal stats: GSE.V1.ANNUAL.2022.A18\n",
      "Zonal stats: GSE.V1.ANNUAL.2022.A19\n",
      "Zonal stats: GSE.V1.ANNUAL.2022.A19\n",
      "Zonal stats: GSE.V1.ANNUAL.2022.A20\n",
      "Zonal stats: GSE.V1.ANNUAL.2022.A20\n",
      "Zonal stats: GSE.V1.ANNUAL.2022.A21\n",
      "Zonal stats: GSE.V1.ANNUAL.2022.A21\n",
      "Zonal stats: GSE.V1.ANNUAL.2022.A22\n",
      "Zonal stats: GSE.V1.ANNUAL.2022.A22\n",
      "Zonal stats: GSE.V1.ANNUAL.2022.A23\n",
      "Zonal stats: GSE.V1.ANNUAL.2022.A23\n",
      "Zonal stats: GSE.V1.ANNUAL.2022.A24\n",
      "Zonal stats: GSE.V1.ANNUAL.2022.A24\n",
      "Zonal stats: GSE.V1.ANNUAL.2022.A25\n",
      "Zonal stats: GSE.V1.ANNUAL.2022.A25\n",
      "Zonal stats: GSE.V1.ANNUAL.2022.A26\n",
      "Zonal stats: GSE.V1.ANNUAL.2022.A26\n",
      "Zonal stats: GSE.V1.ANNUAL.2022.A27\n",
      "Zonal stats: GSE.V1.ANNUAL.2022.A27\n",
      "Zonal stats: GSE.V1.ANNUAL.2022.A28\n",
      "Zonal stats: GSE.V1.ANNUAL.2022.A28\n",
      "Zonal stats: GSE.V1.ANNUAL.2022.A29\n",
      "Zonal stats: GSE.V1.ANNUAL.2022.A29\n",
      "Zonal stats: GSE.V1.ANNUAL.2022.A30\n",
      "Zonal stats: GSE.V1.ANNUAL.2022.A30\n",
      "Zonal stats: GSE.V1.ANNUAL.2022.A31\n",
      "Zonal stats: GSE.V1.ANNUAL.2022.A31\n",
      "Zonal stats: GSE.V1.ANNUAL.2022.A32\n",
      "Zonal stats: GSE.V1.ANNUAL.2022.A32\n",
      "Zonal stats: GSE.V1.ANNUAL.2022.A33\n",
      "Zonal stats: GSE.V1.ANNUAL.2022.A33\n",
      "Zonal stats: GSE.V1.ANNUAL.2022.A34\n",
      "Zonal stats: GSE.V1.ANNUAL.2022.A34\n",
      "Zonal stats: GSE.V1.ANNUAL.2022.A35\n",
      "Zonal stats: GSE.V1.ANNUAL.2022.A35\n",
      "Zonal stats: GSE.V1.ANNUAL.2022.A36\n",
      "Zonal stats: GSE.V1.ANNUAL.2022.A36\n",
      "Zonal stats: GSE.V1.ANNUAL.2022.A37\n",
      "Zonal stats: GSE.V1.ANNUAL.2022.A37\n",
      "Zonal stats: GSE.V1.ANNUAL.2022.A38\n",
      "Zonal stats: GSE.V1.ANNUAL.2022.A38\n",
      "Zonal stats: GSE.V1.ANNUAL.2022.A39\n",
      "Zonal stats: GSE.V1.ANNUAL.2022.A39\n",
      "Zonal stats: GSE.V1.ANNUAL.2022.A40\n",
      "Zonal stats: GSE.V1.ANNUAL.2022.A40\n",
      "Zonal stats: GSE.V1.ANNUAL.2022.A41\n",
      "Zonal stats: GSE.V1.ANNUAL.2022.A41\n",
      "Zonal stats: GSE.V1.ANNUAL.2022.A42\n",
      "Zonal stats: GSE.V1.ANNUAL.2022.A42\n",
      "Zonal stats: GSE.V1.ANNUAL.2022.A43\n",
      "Zonal stats: GSE.V1.ANNUAL.2022.A43\n",
      "Zonal stats: GSE.V1.ANNUAL.2022.A44\n",
      "Zonal stats: GSE.V1.ANNUAL.2022.A44\n",
      "Zonal stats: GSE.V1.ANNUAL.2022.A45\n",
      "Zonal stats: GSE.V1.ANNUAL.2022.A45\n",
      "Zonal stats: GSE.V1.ANNUAL.2022.A46\n",
      "Zonal stats: GSE.V1.ANNUAL.2022.A46\n",
      "Zonal stats: GSE.V1.ANNUAL.2022.A47\n",
      "Zonal stats: GSE.V1.ANNUAL.2022.A47\n",
      "Zonal stats: GSE.V1.ANNUAL.2022.A48\n",
      "Zonal stats: GSE.V1.ANNUAL.2022.A48\n",
      "Zonal stats: GSE.V1.ANNUAL.2022.A49\n",
      "Zonal stats: GSE.V1.ANNUAL.2022.A49\n",
      "Zonal stats: GSE.V1.ANNUAL.2022.A50\n",
      "Zonal stats: GSE.V1.ANNUAL.2022.A50\n",
      "Zonal stats: GSE.V1.ANNUAL.2022.A51\n",
      "Zonal stats: GSE.V1.ANNUAL.2022.A51\n",
      "Zonal stats: GSE.V1.ANNUAL.2022.A52\n",
      "Zonal stats: GSE.V1.ANNUAL.2022.A52\n",
      "Zonal stats: GSE.V1.ANNUAL.2022.A53\n",
      "Zonal stats: GSE.V1.ANNUAL.2022.A53\n",
      "Zonal stats: GSE.V1.ANNUAL.2022.A54\n",
      "Zonal stats: GSE.V1.ANNUAL.2022.A54\n",
      "Zonal stats: GSE.V1.ANNUAL.2022.A55\n",
      "Zonal stats: GSE.V1.ANNUAL.2022.A55\n",
      "Zonal stats: GSE.V1.ANNUAL.2022.A56\n",
      "Zonal stats: GSE.V1.ANNUAL.2022.A56\n",
      "Zonal stats: GSE.V1.ANNUAL.2022.A57\n",
      "Zonal stats: GSE.V1.ANNUAL.2022.A57\n",
      "Zonal stats: GSE.V1.ANNUAL.2022.A58\n",
      "Zonal stats: GSE.V1.ANNUAL.2022.A58\n",
      "Zonal stats: GSE.V1.ANNUAL.2022.A59\n",
      "Zonal stats: GSE.V1.ANNUAL.2022.A59\n",
      "Zonal stats: GSE.V1.ANNUAL.2022.A60\n",
      "Zonal stats: GSE.V1.ANNUAL.2022.A60\n",
      "Zonal stats: GSE.V1.ANNUAL.2022.A61\n",
      "Zonal stats: GSE.V1.ANNUAL.2022.A61\n",
      "Zonal stats: GSE.V1.ANNUAL.2022.A62\n",
      "Zonal stats: GSE.V1.ANNUAL.2022.A62\n",
      "Zonal stats: GSE.V1.ANNUAL.2022.A63\n",
      "Zonal stats: GSE.V1.ANNUAL.2022.A63\n",
      "CPU times: user 12min 24s, sys: 4min 17s, total: 16min 41s\n",
      "Wall time: 17min 48s\n"
     ]
    }
   ],
   "source": [
    "%%time\n",
    "# Loop through rasters\n",
    "for img_path in img_paths:\n",
    "   \n",
    "    fname = os.path.basename(img_path)\n",
    "    # fname\n",
    "    # # -> 'GSE.V1.ANNUAL.2024.A00.vrt'   \n",
    "    band_name = fname.replace(\".vrt\", \"\")\n",
    "    \n",
    "    print(f'Zonal stats: {band_name}')\n",
    "\n",
    "    \n",
    "    # Run your function (it returns a gdf with ZONE_ID + stats)\n",
    "    out = zonal_stats_raster(gpkg_points_path, img_path, ZONE_ID_COL, BUFFER_METERS, band_name)\n",
    "    \n",
    "    # print(f'Merge: {band_name}')\n",
    "    # # Merge results back into main gdf (on zone_id)\n",
    "    gdf = gdf.merge(out, on=ZONE_ID_COL, how=\"left\")\n",
    "\n",
    "\n",
    "# ~10k points 64 bands 90 km tile\n",
    "# Wall time: 17min 48s"
   ]
  },
  {
   "cell_type": "code",
   "execution_count": null,
   "id": "bc827002-905b-44c5-96d5-516cf5c1a4e3",
   "metadata": {},
   "outputs": [],
   "source": [
    "\n"
   ]
  },
  {
   "cell_type": "code",
   "execution_count": 40,
   "id": "75dfdda6-1a11-4272-9992-ae3e6a73b938",
   "metadata": {},
   "outputs": [],
   "source": [
    "# gdf.columns"
   ]
  },
  {
   "cell_type": "code",
   "execution_count": 41,
   "id": "10466543-1c84-4610-8104-48c7eab21a54",
   "metadata": {},
   "outputs": [],
   "source": [
    "gdf_stats_nona = gdf.dropna()"
   ]
  },
  {
   "cell_type": "code",
   "execution_count": 42,
   "id": "5ce7a6cd-d159-4692-a6a0-1178d8ce29fc",
   "metadata": {},
   "outputs": [
    {
     "data": {
      "text/plain": [
       "20225"
      ]
     },
     "execution_count": 42,
     "metadata": {},
     "output_type": "execute_result"
    }
   ],
   "source": [
    "len(gdf_stats_nona)"
   ]
  },
  {
   "cell_type": "code",
   "execution_count": null,
   "id": "966aea67-19e3-43ce-96b1-c066cfa94aaa",
   "metadata": {},
   "outputs": [],
   "source": [
    "# Export gdf_stats\n",
    "gdf_stats_nona.to_file(output_gpkg_zonalstats_fn)\n"
   ]
  },
  {
   "cell_type": "code",
   "execution_count": 43,
   "id": "561bc273-3593-48e2-9229-d6a0813ce99e",
   "metadata": {},
   "outputs": [
    {
     "data": {
      "text/plain": [
       "'/projects/my-private-bucket/HLS-1DCNN-AGB/data/shp/gedi/test/l4a_t90km_t89_veg2022_outrm_zonal_GEV.gpkg'"
      ]
     },
     "execution_count": 43,
     "metadata": {},
     "output_type": "execute_result"
    }
   ],
   "source": [
    "output_gpkg_zonalstats_fn"
   ]
  },
  {
   "cell_type": "code",
   "execution_count": null,
   "id": "4726cb20-3400-4687-8281-e7dd6b174967",
   "metadata": {},
   "outputs": [],
   "source": []
  },
  {
   "cell_type": "markdown",
   "id": "8be3b002-0b26-4b94-9064-bfbca055e295",
   "metadata": {},
   "source": [
    "# Test"
   ]
  },
  {
   "cell_type": "code",
   "execution_count": 23,
   "id": "a53e3dd2-32e3-4fbc-a8e5-2e17acc8b12d",
   "metadata": {},
   "outputs": [],
   "source": [
    "####################################################\n",
    "# 1) Open raster as xarray (single band)\n",
    "####################################################\n",
    "\n",
    "da = rioxarray.open_rasterio(img_path).squeeze()  # [y, x]\n",
    "if 'band' in da.dims:\n",
    "    da = da.squeeze('band', drop=True)\n",
    "    \n",
    "raster_crs = CRS.from_user_input(da.rio.crs)\n",
    "transform  = da.rio.transform()\n",
    "out_shape  = da.shape  # (rows, cols)\n",
    "nodata     = da.rio.nodata\n",
    "\n",
    "da = da.where(da != da.rio.nodata)\n",
    "\n",
    "\n",
    "\n",
    "####################################################\n",
    "# 2) Read points\n",
    "####################################################\n",
    "\n",
    "# Create ID for the zonal stats\n",
    "if ZONE_ID_COL not in gdf.columns:\n",
    "    gdf = gdf.reset_index(drop=True)\n",
    "    gdf[ZONE_ID_COL] = np.arange(1, len(gdf) + 1, dtype=np.int32)\n",
    "\n",
    "\n",
    "\n",
    "####################################################\n",
    "# 3) Reproject to raster CRS and buffer to polygons \n",
    "####################################################\n",
    "\n",
    "gdf_proj = gdf.to_crs(raster_crs)\n",
    "\n",
    "# BUffer\n",
    "if BUFFER_METERS > 0:\n",
    "    gdf_proj[\"geometry\"] = gdf_proj.geometry.buffer(BUFFER_METERS)\n",
    "\n",
    "\n",
    "####################\n",
    "# 4) Build (geometry, id) tuples for rasterization\n",
    "####################\n",
    "geom = list(zip(gdf_proj.geometry, gdf_proj[ZONE_ID_COL]))\n",
    "\n",
    "\n",
    "\n",
    "\n",
    "\n",
    "\n"
   ]
  },
  {
   "cell_type": "code",
   "execution_count": 25,
   "id": "1ca40889-dc98-41f9-94f4-86b062c2d8ee",
   "metadata": {},
   "outputs": [
    {
     "name": "stdout",
     "output_type": "stream",
     "text": [
      "(14379, 14156) | 10.00, 0.00, 5466330.00|\n",
      "| 0.00,-10.00, 7362430.00|\n",
      "| 0.00, 0.00, 1.00| -inf\n"
     ]
    }
   ],
   "source": [
    "print(out_shape, transform, nodata)"
   ]
  },
  {
   "cell_type": "code",
   "execution_count": 24,
   "id": "55224988-7e45-4cfe-b78b-824a74dfdcd3",
   "metadata": {},
   "outputs": [
    {
     "ename": "OverflowError",
     "evalue": "cannot convert float infinity to integer",
     "output_type": "error",
     "traceback": [
      "\u001b[0;31m---------------------------------------------------------------------------\u001b[0m",
      "\u001b[0;31mOverflowError\u001b[0m                             Traceback (most recent call last)",
      "Cell \u001b[0;32mIn[24], line 4\u001b[0m\n\u001b[1;32m      1\u001b[0m \u001b[38;5;66;03m####################################################\u001b[39;00m\n\u001b[1;32m      2\u001b[0m \u001b[38;5;66;03m# 5) Rasterize zones (same shape/transform as raster)\u001b[39;00m\n\u001b[1;32m      3\u001b[0m \u001b[38;5;66;03m####################################################\u001b[39;00m\n\u001b[0;32m----> 4\u001b[0m zones_arr \u001b[38;5;241m=\u001b[39m \u001b[43mfeatures\u001b[49m\u001b[38;5;241;43m.\u001b[39;49m\u001b[43mrasterize\u001b[49m\u001b[43m(\u001b[49m\n\u001b[1;32m      5\u001b[0m \u001b[43m    \u001b[49m\u001b[43mgeom\u001b[49m\u001b[43m,\u001b[49m\n\u001b[1;32m      6\u001b[0m \u001b[43m    \u001b[49m\u001b[43mout_shape\u001b[49m\u001b[38;5;241;43m=\u001b[39;49m\u001b[43mout_shape\u001b[49m\u001b[43m,\u001b[49m\n\u001b[1;32m      7\u001b[0m \u001b[43m    \u001b[49m\u001b[43mtransform\u001b[49m\u001b[38;5;241;43m=\u001b[39;49m\u001b[43mtransform\u001b[49m\u001b[43m,\u001b[49m\n\u001b[1;32m      8\u001b[0m \u001b[43m    \u001b[49m\u001b[43mfill\u001b[49m\u001b[38;5;241;43m=\u001b[39;49m\u001b[43m \u001b[49m\u001b[43mnodata\u001b[49m\u001b[43m,\u001b[49m\n\u001b[1;32m      9\u001b[0m \u001b[43m    \u001b[49m\u001b[43mnodata\u001b[49m\u001b[43m \u001b[49m\u001b[38;5;241;43m=\u001b[39;49m\u001b[43m \u001b[49m\u001b[43mnodata\u001b[49m\u001b[43m,\u001b[49m\n\u001b[1;32m     10\u001b[0m \u001b[43m    \u001b[49m\u001b[43mmasked\u001b[49m\u001b[43m \u001b[49m\u001b[38;5;241;43m=\u001b[39;49m\u001b[43m \u001b[49m\u001b[38;5;28;43;01mTrue\u001b[39;49;00m\u001b[43m,\u001b[49m\n\u001b[1;32m     11\u001b[0m \u001b[43m    \u001b[49m\u001b[38;5;66;43;03m# fill=0,# background (no zone)\u001b[39;49;00m\n\u001b[1;32m     12\u001b[0m \u001b[43m    \u001b[49m\u001b[43mdtype\u001b[49m\u001b[38;5;241;43m=\u001b[39;49m\u001b[38;5;124;43m\"\u001b[39;49m\u001b[38;5;124;43mint32\u001b[39;49m\u001b[38;5;124;43m\"\u001b[39;49m\u001b[43m,\u001b[49m\n\u001b[1;32m     13\u001b[0m \u001b[43m    \u001b[49m\u001b[38;5;66;43;03m# all_touched=True\u001b[39;49;00m\n\u001b[1;32m     14\u001b[0m \u001b[43m)\u001b[49m\n",
      "File \u001b[0;32m/opt/conda/envs/pangeo/lib/python3.12/site-packages/rasterio/env.py:413\u001b[0m, in \u001b[0;36mensure_env.<locals>.wrapper\u001b[0;34m(*args, **kwds)\u001b[0m\n\u001b[1;32m    411\u001b[0m \u001b[38;5;28;01melse\u001b[39;00m:\n\u001b[1;32m    412\u001b[0m     \u001b[38;5;28;01mwith\u001b[39;00m Env\u001b[38;5;241m.\u001b[39mfrom_defaults():\n\u001b[0;32m--> 413\u001b[0m         \u001b[38;5;28;01mreturn\u001b[39;00m \u001b[43mf\u001b[49m\u001b[43m(\u001b[49m\u001b[38;5;241;43m*\u001b[39;49m\u001b[43margs\u001b[49m\u001b[43m,\u001b[49m\u001b[43m \u001b[49m\u001b[38;5;241;43m*\u001b[39;49m\u001b[38;5;241;43m*\u001b[39;49m\u001b[43mkwds\u001b[49m\u001b[43m)\u001b[49m\n",
      "File \u001b[0;32m/opt/conda/envs/pangeo/lib/python3.12/site-packages/rasterio/features.py:381\u001b[0m, in \u001b[0;36mrasterize\u001b[0;34m(shapes, out_shape, fill, nodata, masked, out, transform, all_touched, merge_alg, default_value, dtype, skip_invalid, dst_path, dst_kwds)\u001b[0m\n\u001b[1;32m    379\u001b[0m         \u001b[38;5;28;01mraise\u001b[39;00m \u001b[38;5;167;01mValueError\u001b[39;00m(\u001b[38;5;124m'\u001b[39m\u001b[38;5;124mInvalid out_shape, must be 2D\u001b[39m\u001b[38;5;124m'\u001b[39m)\n\u001b[1;32m    380\u001b[0m     out \u001b[38;5;241m=\u001b[39m np\u001b[38;5;241m.\u001b[39mempty(out_shape, dtype\u001b[38;5;241m=\u001b[39mdtype)\n\u001b[0;32m--> 381\u001b[0m     \u001b[43mout\u001b[49m\u001b[38;5;241;43m.\u001b[39;49m\u001b[43mfill\u001b[49m\u001b[43m(\u001b[49m\u001b[43mfill\u001b[49m\u001b[43m)\u001b[49m\n\u001b[1;32m    383\u001b[0m \u001b[38;5;28;01melse\u001b[39;00m:\n\u001b[1;32m    384\u001b[0m     \u001b[38;5;28;01mraise\u001b[39;00m \u001b[38;5;167;01mValueError\u001b[39;00m(\u001b[38;5;124m'\u001b[39m\u001b[38;5;124mEither an out_shape or image must be provided\u001b[39m\u001b[38;5;124m'\u001b[39m)\n",
      "\u001b[0;31mOverflowError\u001b[0m: cannot convert float infinity to integer"
     ]
    }
   ],
   "source": [
    "\n",
    "####################################################\n",
    "# 5) Rasterize zones (same shape/transform as raster)\n",
    "####################################################\n",
    "zones_arr = features.rasterize(\n",
    "    geom,\n",
    "    out_shape=out_shape,\n",
    "    transform=transform,\n",
    "    fill= nodata,\n",
    "    nodata = nodata,\n",
    "    masked = True,\n",
    "    # fill=0,# background (no zone)\n",
    "    dtype=\"int32\",\n",
    "    # all_touched=True\n",
    ")\n"
   ]
  },
  {
   "cell_type": "code",
   "execution_count": null,
   "id": "92bd1f3b-9145-4ce3-b74f-c724fb8fbd4d",
   "metadata": {},
   "outputs": [],
   "source": [
    "####################################################\n",
    "# # 6) Wrap zones into an xarray aligned with the raster\n",
    "####################################################\n",
    "\n",
    "zones_xarr = da.copy(deep=False)  # copies coords/attrs, not data\n",
    "zones_xarr.data = zones_arr\n",
    "# zones_xarr.attrs[\"nodata\"] = nodata\n",
    "# zones_xarr\n",
    "\n",
    "\n",
    "####################################################\n",
    "# 7) Compute zonal stats using xrspatial (min/max/mean/etc.)\n",
    "####################################################\n",
    "\n",
    "# If your raster has nodata, pass it so stats ignore it\n",
    "zs_df = zonal_stats(\n",
    "    zones=zones_xarr,      # your integer-labeled zone raster\n",
    "    values=da,             # the raster with values to summarize\n",
    "    # stats_funcs=['mean', 'max', 'min', 'sum', 'std', 'var', 'count'],\n",
    "    stats_funcs=['mean'],\n",
    "    nodata_values=nodata,   # very important → ensures nodata is ignored\n",
    "    return_type='pandas.DataFrame'\n",
    ")\n"
   ]
  },
  {
   "cell_type": "code",
   "execution_count": null,
   "id": "9a06d03e-1d98-4879-8178-45573e9cdc62",
   "metadata": {},
   "outputs": [],
   "source": [
    "zs_df.head()"
   ]
  },
  {
   "cell_type": "code",
   "execution_count": null,
   "id": "c310970f-ae17-482c-85b1-24e14cd09aff",
   "metadata": {},
   "outputs": [],
   "source": [
    "gdf = gdf.merge(zs_df, on=ZONE_ID_COL, how=\"left\")"
   ]
  },
  {
   "cell_type": "code",
   "execution_count": null,
   "id": "47f1ccc9-2501-4089-aecb-643946025ae2",
   "metadata": {},
   "outputs": [],
   "source": [
    "gdf.columns"
   ]
  },
  {
   "cell_type": "code",
   "execution_count": null,
   "id": "1b0dbcdd-5835-4aef-8d7c-6bbe67b22cbe",
   "metadata": {},
   "outputs": [],
   "source": [
    "\n",
    "\n",
    "\n",
    "\n",
    "####################################################\n",
    "# # Keep only \"mean\" and rename the band\n",
    "####################################################\n",
    "# zs_df = pd.DataFrame({\"mean\": pd.Series(zs[\"mean\"])}).rename_axis(ZONE_ID_COL).reset_index()\n",
    "\n",
    "# Rename column -> e.g. \"evi2_mean\"\n",
    "zs_df = zs_df.rename(columns={\"mean\": f\"{band_name}_mean\"})\n",
    "\n",
    "\n",
    "####################################################\n",
    "# 9) create output with zone id and values\n",
    "####################################################\n",
    "out = (gdf[[ZONE_ID_COL]]\n",
    "       .drop_duplicates()\n",
    "       .merge(zs_df, on=ZONE_ID_COL, how=\"left\"))\n",
    "\n"
   ]
  },
  {
   "cell_type": "code",
   "execution_count": null,
   "id": "bac2568e-b0f7-411e-9ed7-12cf6898a4f6",
   "metadata": {},
   "outputs": [],
   "source": [
    "gdf.columns"
   ]
  },
  {
   "cell_type": "code",
   "execution_count": null,
   "id": "cd2d5bfa-bd17-4a25-886a-c19cafe05267",
   "metadata": {},
   "outputs": [],
   "source": [
    "gdf.columns"
   ]
  },
  {
   "cell_type": "code",
   "execution_count": null,
   "id": "5d28f62c-b561-4136-a128-9cf60190a1f4",
   "metadata": {},
   "outputs": [],
   "source": []
  }
 ],
 "metadata": {
  "kernelspec": {
   "display_name": "Python [conda env:pangeo] *",
   "language": "python",
   "name": "conda-env-pangeo-py"
  },
  "language_info": {
   "codemirror_mode": {
    "name": "ipython",
    "version": 3
   },
   "file_extension": ".py",
   "mimetype": "text/x-python",
   "name": "python",
   "nbconvert_exporter": "python",
   "pygments_lexer": "ipython3",
   "version": "3.12.7"
  }
 },
 "nbformat": 4,
 "nbformat_minor": 5
}
