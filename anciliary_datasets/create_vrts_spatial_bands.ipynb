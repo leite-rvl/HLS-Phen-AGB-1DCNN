{
 "cells": [
  {
   "cell_type": "code",
   "execution_count": 52,
   "id": "b36da3c6-d398-4e67-80ea-9c76216d96fc",
   "metadata": {},
   "outputs": [],
   "source": [
    "import os\n",
    "import glob\n",
    "from osgeo import gdal\n"
   ]
  },
  {
   "cell_type": "code",
   "execution_count": 53,
   "id": "a13eff4f-fd5a-4028-bc64-a84cf427c23f",
   "metadata": {},
   "outputs": [],
   "source": [
    "year = 2022"
   ]
  },
  {
   "cell_type": "code",
   "execution_count": 62,
   "id": "d4be42bd-169c-4fe9-a619-ee68b4f7e6ff",
   "metadata": {},
   "outputs": [],
   "source": [
    "# Multiband image Tif\n",
    "dir_in_path = f'/projects/my-private-bucket/HLS-1DCNN-AGB/data/tif/GoogleEmbeddings/{year}/'\n",
    "\n",
    "# Output dir with the bands as vrts\n",
    "out_dir = os.path.join(os.path.dirname(dir_in_path), f'bands_vrt_{year}')\n",
    "os.makedirs(out_dir, exist_ok=True)"
   ]
  },
  {
   "cell_type": "code",
   "execution_count": 63,
   "id": "64c06ed7-1435-4fdf-a445-4f51688f884a",
   "metadata": {},
   "outputs": [],
   "source": [
    "# out_dir"
   ]
  },
  {
   "cell_type": "code",
   "execution_count": 64,
   "id": "cb134b7a-0e8c-45e8-b784-2d0e9c61ee41",
   "metadata": {},
   "outputs": [],
   "source": [
    "tile_paths = glob.glob(f\"{dir_in_path}/*.tif\")"
   ]
  },
  {
   "cell_type": "code",
   "execution_count": 65,
   "id": "9376054c-f239-4344-bede-1c851a6313b3",
   "metadata": {},
   "outputs": [],
   "source": [
    "base_name = f'GSE.V1.ANNUAL.{year}'"
   ]
  },
  {
   "cell_type": "code",
   "execution_count": 66,
   "id": "783f9f90-5eb8-45d7-b059-8da501a13c35",
   "metadata": {},
   "outputs": [
    {
     "data": {
      "text/plain": [
       "['/projects/my-private-bucket/HLS-1DCNN-AGB/data/tif/GoogleEmbeddings/2022/GSE_V1_ANNUAL_2022_1.tif',\n",
       " '/projects/my-private-bucket/HLS-1DCNN-AGB/data/tif/GoogleEmbeddings/2022/GSE_V1_ANNUAL_2022_2.tif',\n",
       " '/projects/my-private-bucket/HLS-1DCNN-AGB/data/tif/GoogleEmbeddings/2022/GSE_V1_ANNUAL_2022_3.tif',\n",
       " '/projects/my-private-bucket/HLS-1DCNN-AGB/data/tif/GoogleEmbeddings/2022/GSE_V1_ANNUAL_2022_4.tif',\n",
       " '/projects/my-private-bucket/HLS-1DCNN-AGB/data/tif/GoogleEmbeddings/2022/GSE_V1_ANNUAL_2022_5.tif',\n",
       " '/projects/my-private-bucket/HLS-1DCNN-AGB/data/tif/GoogleEmbeddings/2022/GSE_V1_ANNUAL_2022_6.tif']"
      ]
     },
     "execution_count": 66,
     "metadata": {},
     "output_type": "execute_result"
    }
   ],
   "source": [
    "tile_paths"
   ]
  },
  {
   "cell_type": "code",
   "execution_count": 67,
   "id": "d9417b1b-c804-4b06-a66f-589f57432d31",
   "metadata": {},
   "outputs": [],
   "source": [
    "# Inspect first tile to discover band count and nodata\n",
    "sample_ds = gdal.Open(tile_paths[0], gdal.GA_ReadOnly)\n",
    "if sample_ds is None:\n",
    "    raise RuntimeError(f'Could not open sample file: {tile_paths[0]}')\n",
    "\n",
    "band_count = sample_ds.RasterCount\n",
    "if band_count < 1:\n",
    "    raise RuntimeError('Sample file reports zero bands.')"
   ]
  },
  {
   "cell_type": "code",
   "execution_count": 68,
   "id": "a7f7a9cb-d086-46fe-b17c-c3f53d54ac77",
   "metadata": {},
   "outputs": [
    {
     "name": "stdout",
     "output_type": "stream",
     "text": [
      "Found 6 tiles, each with 64 bands:\n"
     ]
    }
   ],
   "source": [
    "print(f'Found {len(tile_paths)} tiles, each with {band_count} bands:')\n",
    "band_names = []\n",
    "for i in range(1, band_count + 1):\n",
    "    band = sample_ds.GetRasterBand(i)\n",
    "    # Try to get a descriptive name\n",
    "    desc = band.GetDescription()\n",
    "    if not desc:\n",
    "        desc = f'band_{i}'\n",
    "    band_names.append(desc)\n",
    "    # print(f'  Band {i}: {desc}')"
   ]
  },
  {
   "cell_type": "code",
   "execution_count": 69,
   "id": "974c4f20-454e-41fc-bf89-da30ce9bf3a4",
   "metadata": {},
   "outputs": [
    {
     "data": {
      "text/plain": [
       "64"
      ]
     },
     "execution_count": 69,
     "metadata": {},
     "output_type": "execute_result"
    }
   ],
   "source": [
    "band_count"
   ]
  },
  {
   "cell_type": "code",
   "execution_count": 70,
   "id": "4e90a0bc-817f-4d25-9f98-11a61b38c62a",
   "metadata": {},
   "outputs": [],
   "source": [
    "# import rasterio\n",
    "# img_path = tile_paths[0]\n",
    "\n",
    "# with rasterio.open(img_path) as src:\n",
    "#     print(\"NoData value:\", src.nodata)\n",
    "#     print(\"CRS:\", src.crs)\n",
    "#     print(\"Pixel size:\", src.res)\n",
    "#     print(\"Bounds:\", src.bounds)"
   ]
  },
  {
   "cell_type": "code",
   "execution_count": 72,
   "id": "255d260e-8923-495b-98ad-3d19ae93c4b3",
   "metadata": {},
   "outputs": [
    {
     "name": "stdout",
     "output_type": "stream",
     "text": [
      "✓ /projects/my-private-bucket/HLS-1DCNN-AGB/data/tif/GoogleEmbeddings/2022/bands_vrt_2022/GSE.V1.ANNUAL.2022.A00.vrt\n",
      "✓ /projects/my-private-bucket/HLS-1DCNN-AGB/data/tif/GoogleEmbeddings/2022/bands_vrt_2022/GSE.V1.ANNUAL.2022.A01.vrt\n",
      "✓ /projects/my-private-bucket/HLS-1DCNN-AGB/data/tif/GoogleEmbeddings/2022/bands_vrt_2022/GSE.V1.ANNUAL.2022.A02.vrt\n",
      "✓ /projects/my-private-bucket/HLS-1DCNN-AGB/data/tif/GoogleEmbeddings/2022/bands_vrt_2022/GSE.V1.ANNUAL.2022.A03.vrt\n",
      "✓ /projects/my-private-bucket/HLS-1DCNN-AGB/data/tif/GoogleEmbeddings/2022/bands_vrt_2022/GSE.V1.ANNUAL.2022.A04.vrt\n",
      "✓ /projects/my-private-bucket/HLS-1DCNN-AGB/data/tif/GoogleEmbeddings/2022/bands_vrt_2022/GSE.V1.ANNUAL.2022.A05.vrt\n",
      "✓ /projects/my-private-bucket/HLS-1DCNN-AGB/data/tif/GoogleEmbeddings/2022/bands_vrt_2022/GSE.V1.ANNUAL.2022.A06.vrt\n",
      "✓ /projects/my-private-bucket/HLS-1DCNN-AGB/data/tif/GoogleEmbeddings/2022/bands_vrt_2022/GSE.V1.ANNUAL.2022.A07.vrt\n",
      "✓ /projects/my-private-bucket/HLS-1DCNN-AGB/data/tif/GoogleEmbeddings/2022/bands_vrt_2022/GSE.V1.ANNUAL.2022.A08.vrt\n",
      "✓ /projects/my-private-bucket/HLS-1DCNN-AGB/data/tif/GoogleEmbeddings/2022/bands_vrt_2022/GSE.V1.ANNUAL.2022.A09.vrt\n",
      "✓ /projects/my-private-bucket/HLS-1DCNN-AGB/data/tif/GoogleEmbeddings/2022/bands_vrt_2022/GSE.V1.ANNUAL.2022.A10.vrt\n",
      "✓ /projects/my-private-bucket/HLS-1DCNN-AGB/data/tif/GoogleEmbeddings/2022/bands_vrt_2022/GSE.V1.ANNUAL.2022.A11.vrt\n",
      "✓ /projects/my-private-bucket/HLS-1DCNN-AGB/data/tif/GoogleEmbeddings/2022/bands_vrt_2022/GSE.V1.ANNUAL.2022.A12.vrt\n",
      "✓ /projects/my-private-bucket/HLS-1DCNN-AGB/data/tif/GoogleEmbeddings/2022/bands_vrt_2022/GSE.V1.ANNUAL.2022.A13.vrt\n",
      "✓ /projects/my-private-bucket/HLS-1DCNN-AGB/data/tif/GoogleEmbeddings/2022/bands_vrt_2022/GSE.V1.ANNUAL.2022.A14.vrt\n",
      "✓ /projects/my-private-bucket/HLS-1DCNN-AGB/data/tif/GoogleEmbeddings/2022/bands_vrt_2022/GSE.V1.ANNUAL.2022.A15.vrt\n",
      "✓ /projects/my-private-bucket/HLS-1DCNN-AGB/data/tif/GoogleEmbeddings/2022/bands_vrt_2022/GSE.V1.ANNUAL.2022.A16.vrt\n",
      "✓ /projects/my-private-bucket/HLS-1DCNN-AGB/data/tif/GoogleEmbeddings/2022/bands_vrt_2022/GSE.V1.ANNUAL.2022.A17.vrt\n",
      "✓ /projects/my-private-bucket/HLS-1DCNN-AGB/data/tif/GoogleEmbeddings/2022/bands_vrt_2022/GSE.V1.ANNUAL.2022.A18.vrt\n",
      "✓ /projects/my-private-bucket/HLS-1DCNN-AGB/data/tif/GoogleEmbeddings/2022/bands_vrt_2022/GSE.V1.ANNUAL.2022.A19.vrt\n",
      "✓ /projects/my-private-bucket/HLS-1DCNN-AGB/data/tif/GoogleEmbeddings/2022/bands_vrt_2022/GSE.V1.ANNUAL.2022.A20.vrt\n",
      "✓ /projects/my-private-bucket/HLS-1DCNN-AGB/data/tif/GoogleEmbeddings/2022/bands_vrt_2022/GSE.V1.ANNUAL.2022.A21.vrt\n",
      "✓ /projects/my-private-bucket/HLS-1DCNN-AGB/data/tif/GoogleEmbeddings/2022/bands_vrt_2022/GSE.V1.ANNUAL.2022.A22.vrt\n",
      "✓ /projects/my-private-bucket/HLS-1DCNN-AGB/data/tif/GoogleEmbeddings/2022/bands_vrt_2022/GSE.V1.ANNUAL.2022.A23.vrt\n",
      "✓ /projects/my-private-bucket/HLS-1DCNN-AGB/data/tif/GoogleEmbeddings/2022/bands_vrt_2022/GSE.V1.ANNUAL.2022.A24.vrt\n",
      "✓ /projects/my-private-bucket/HLS-1DCNN-AGB/data/tif/GoogleEmbeddings/2022/bands_vrt_2022/GSE.V1.ANNUAL.2022.A25.vrt\n",
      "✓ /projects/my-private-bucket/HLS-1DCNN-AGB/data/tif/GoogleEmbeddings/2022/bands_vrt_2022/GSE.V1.ANNUAL.2022.A26.vrt\n",
      "✓ /projects/my-private-bucket/HLS-1DCNN-AGB/data/tif/GoogleEmbeddings/2022/bands_vrt_2022/GSE.V1.ANNUAL.2022.A27.vrt\n",
      "✓ /projects/my-private-bucket/HLS-1DCNN-AGB/data/tif/GoogleEmbeddings/2022/bands_vrt_2022/GSE.V1.ANNUAL.2022.A28.vrt\n",
      "✓ /projects/my-private-bucket/HLS-1DCNN-AGB/data/tif/GoogleEmbeddings/2022/bands_vrt_2022/GSE.V1.ANNUAL.2022.A29.vrt\n",
      "✓ /projects/my-private-bucket/HLS-1DCNN-AGB/data/tif/GoogleEmbeddings/2022/bands_vrt_2022/GSE.V1.ANNUAL.2022.A30.vrt\n",
      "✓ /projects/my-private-bucket/HLS-1DCNN-AGB/data/tif/GoogleEmbeddings/2022/bands_vrt_2022/GSE.V1.ANNUAL.2022.A31.vrt\n",
      "✓ /projects/my-private-bucket/HLS-1DCNN-AGB/data/tif/GoogleEmbeddings/2022/bands_vrt_2022/GSE.V1.ANNUAL.2022.A32.vrt\n",
      "✓ /projects/my-private-bucket/HLS-1DCNN-AGB/data/tif/GoogleEmbeddings/2022/bands_vrt_2022/GSE.V1.ANNUAL.2022.A33.vrt\n",
      "✓ /projects/my-private-bucket/HLS-1DCNN-AGB/data/tif/GoogleEmbeddings/2022/bands_vrt_2022/GSE.V1.ANNUAL.2022.A34.vrt\n",
      "✓ /projects/my-private-bucket/HLS-1DCNN-AGB/data/tif/GoogleEmbeddings/2022/bands_vrt_2022/GSE.V1.ANNUAL.2022.A35.vrt\n",
      "✓ /projects/my-private-bucket/HLS-1DCNN-AGB/data/tif/GoogleEmbeddings/2022/bands_vrt_2022/GSE.V1.ANNUAL.2022.A36.vrt\n",
      "✓ /projects/my-private-bucket/HLS-1DCNN-AGB/data/tif/GoogleEmbeddings/2022/bands_vrt_2022/GSE.V1.ANNUAL.2022.A37.vrt\n",
      "✓ /projects/my-private-bucket/HLS-1DCNN-AGB/data/tif/GoogleEmbeddings/2022/bands_vrt_2022/GSE.V1.ANNUAL.2022.A38.vrt\n",
      "✓ /projects/my-private-bucket/HLS-1DCNN-AGB/data/tif/GoogleEmbeddings/2022/bands_vrt_2022/GSE.V1.ANNUAL.2022.A39.vrt\n",
      "✓ /projects/my-private-bucket/HLS-1DCNN-AGB/data/tif/GoogleEmbeddings/2022/bands_vrt_2022/GSE.V1.ANNUAL.2022.A40.vrt\n",
      "✓ /projects/my-private-bucket/HLS-1DCNN-AGB/data/tif/GoogleEmbeddings/2022/bands_vrt_2022/GSE.V1.ANNUAL.2022.A41.vrt\n",
      "✓ /projects/my-private-bucket/HLS-1DCNN-AGB/data/tif/GoogleEmbeddings/2022/bands_vrt_2022/GSE.V1.ANNUAL.2022.A42.vrt\n",
      "✓ /projects/my-private-bucket/HLS-1DCNN-AGB/data/tif/GoogleEmbeddings/2022/bands_vrt_2022/GSE.V1.ANNUAL.2022.A43.vrt\n",
      "✓ /projects/my-private-bucket/HLS-1DCNN-AGB/data/tif/GoogleEmbeddings/2022/bands_vrt_2022/GSE.V1.ANNUAL.2022.A44.vrt\n",
      "✓ /projects/my-private-bucket/HLS-1DCNN-AGB/data/tif/GoogleEmbeddings/2022/bands_vrt_2022/GSE.V1.ANNUAL.2022.A45.vrt\n",
      "✓ /projects/my-private-bucket/HLS-1DCNN-AGB/data/tif/GoogleEmbeddings/2022/bands_vrt_2022/GSE.V1.ANNUAL.2022.A46.vrt\n",
      "✓ /projects/my-private-bucket/HLS-1DCNN-AGB/data/tif/GoogleEmbeddings/2022/bands_vrt_2022/GSE.V1.ANNUAL.2022.A47.vrt\n",
      "✓ /projects/my-private-bucket/HLS-1DCNN-AGB/data/tif/GoogleEmbeddings/2022/bands_vrt_2022/GSE.V1.ANNUAL.2022.A48.vrt\n",
      "✓ /projects/my-private-bucket/HLS-1DCNN-AGB/data/tif/GoogleEmbeddings/2022/bands_vrt_2022/GSE.V1.ANNUAL.2022.A49.vrt\n",
      "✓ /projects/my-private-bucket/HLS-1DCNN-AGB/data/tif/GoogleEmbeddings/2022/bands_vrt_2022/GSE.V1.ANNUAL.2022.A50.vrt\n",
      "✓ /projects/my-private-bucket/HLS-1DCNN-AGB/data/tif/GoogleEmbeddings/2022/bands_vrt_2022/GSE.V1.ANNUAL.2022.A51.vrt\n",
      "✓ /projects/my-private-bucket/HLS-1DCNN-AGB/data/tif/GoogleEmbeddings/2022/bands_vrt_2022/GSE.V1.ANNUAL.2022.A52.vrt\n",
      "✓ /projects/my-private-bucket/HLS-1DCNN-AGB/data/tif/GoogleEmbeddings/2022/bands_vrt_2022/GSE.V1.ANNUAL.2022.A53.vrt\n",
      "✓ /projects/my-private-bucket/HLS-1DCNN-AGB/data/tif/GoogleEmbeddings/2022/bands_vrt_2022/GSE.V1.ANNUAL.2022.A54.vrt\n",
      "✓ /projects/my-private-bucket/HLS-1DCNN-AGB/data/tif/GoogleEmbeddings/2022/bands_vrt_2022/GSE.V1.ANNUAL.2022.A55.vrt\n",
      "✓ /projects/my-private-bucket/HLS-1DCNN-AGB/data/tif/GoogleEmbeddings/2022/bands_vrt_2022/GSE.V1.ANNUAL.2022.A56.vrt\n",
      "✓ /projects/my-private-bucket/HLS-1DCNN-AGB/data/tif/GoogleEmbeddings/2022/bands_vrt_2022/GSE.V1.ANNUAL.2022.A57.vrt\n",
      "✓ /projects/my-private-bucket/HLS-1DCNN-AGB/data/tif/GoogleEmbeddings/2022/bands_vrt_2022/GSE.V1.ANNUAL.2022.A58.vrt\n",
      "✓ /projects/my-private-bucket/HLS-1DCNN-AGB/data/tif/GoogleEmbeddings/2022/bands_vrt_2022/GSE.V1.ANNUAL.2022.A59.vrt\n",
      "✓ /projects/my-private-bucket/HLS-1DCNN-AGB/data/tif/GoogleEmbeddings/2022/bands_vrt_2022/GSE.V1.ANNUAL.2022.A60.vrt\n",
      "✓ /projects/my-private-bucket/HLS-1DCNN-AGB/data/tif/GoogleEmbeddings/2022/bands_vrt_2022/GSE.V1.ANNUAL.2022.A61.vrt\n",
      "✓ /projects/my-private-bucket/HLS-1DCNN-AGB/data/tif/GoogleEmbeddings/2022/bands_vrt_2022/GSE.V1.ANNUAL.2022.A62.vrt\n",
      "✓ /projects/my-private-bucket/HLS-1DCNN-AGB/data/tif/GoogleEmbeddings/2022/bands_vrt_2022/GSE.V1.ANNUAL.2022.A63.vrt\n"
     ]
    }
   ],
   "source": [
    "for b in range(1, band_count + 1):\n",
    "    \n",
    "    desc = band_names[b-1]\n",
    "    out_vrt = os.path.join(out_dir, f'{base_name}.{desc}.vrt')\n",
    "\n",
    "    # Use band-specific nodata if present on the sample; otherwise leave None\n",
    "\n",
    "    opts = gdal.BuildVRTOptions(\n",
    "        bandList=[b],\n",
    "        separate=False,               # single-band output\n",
    "        resampleAlg='nearest',        # change if you prefer 'bilinear' etc.\n",
    "        resolution='highest',         # resolves mixed GSD (keeps native grid if consistent)\n",
    "        allowProjectionDifference=False,  # safer: require same CRS\n",
    "        srcNodata=-9999,               # force source nodata\n",
    "        VRTNodata=-9999                # force VRT nodata\n",
    ")\n",
    "\n",
    "    # Build the VRT\n",
    "    vrtds = gdal.BuildVRT(out_vrt, tile_paths, options=opts)\n",
    "    if vrtds is None:\n",
    "        raise RuntimeError(f'Failed to build VRT for band {b}')\n",
    "    vrtds = None  # flush/close\n",
    "\n",
    "    print(f'✓ {out_vrt}')"
   ]
  },
  {
   "cell_type": "code",
   "execution_count": null,
   "id": "d7f3346b-5e26-4ba2-9b99-8e421084fdee",
   "metadata": {},
   "outputs": [],
   "source": []
  }
 ],
 "metadata": {
  "kernelspec": {
   "display_name": "Python [conda env:pangeo] *",
   "language": "python",
   "name": "conda-env-pangeo-py"
  },
  "language_info": {
   "codemirror_mode": {
    "name": "ipython",
    "version": 3
   },
   "file_extension": ".py",
   "mimetype": "text/x-python",
   "name": "python",
   "nbconvert_exporter": "python",
   "pygments_lexer": "ipython3",
   "version": "3.12.7"
  }
 },
 "nbformat": 4,
 "nbformat_minor": 5
}
