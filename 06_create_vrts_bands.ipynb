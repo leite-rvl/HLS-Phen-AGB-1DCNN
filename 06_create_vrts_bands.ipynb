{
 "cells": [
  {
   "cell_type": "code",
   "execution_count": 1,
   "id": "b36da3c6-d398-4e67-80ea-9c76216d96fc",
   "metadata": {},
   "outputs": [],
   "source": [
    "import os\n",
    "from osgeo import gdal\n"
   ]
  },
  {
   "cell_type": "markdown",
   "id": "b44b61e5-7949-484e-ada3-776f43fc9f1c",
   "metadata": {},
   "source": [
    "# VRT year composites"
   ]
  },
  {
   "cell_type": "code",
   "execution_count": 16,
   "id": "d4be42bd-169c-4fe9-a619-ee68b4f7e6ff",
   "metadata": {},
   "outputs": [],
   "source": [
    "# Multiband image Tif\n",
    "in_path = '/projects/my-private-bucket/HLS-1DCNN-AGB/data/tif/HLS_composites/yearly/br_af_grid90km_evi2_p95/tile_089/HLS_89_01-01_12-31_2022_2022_percentile95.0evi2.tif'\n",
    "\n"
   ]
  },
  {
   "cell_type": "code",
   "execution_count": 22,
   "id": "0ea5d786-4b93-4641-becd-055188ff621e",
   "metadata": {},
   "outputs": [
    {
     "name": "stdout",
     "output_type": "stream",
     "text": [
      "Zonal stats: HLS.89.percentile95.0evi2.2022\n"
     ]
    }
   ],
   "source": [
    "# Get band name\n",
    "fname = os.path.basename(in_path)\n",
    "# -> \"HLS_89_01-01_12-30_2022_2022_percentile95.0evi2_Blue.vrt\"    \n",
    "fn_parts = fname.replace(\".tif\", \"\").split(\"_\")\n",
    "# ['HLS', '89', '01-01', '12-30', '2022', '2022', 'percentile95.0evi2', 'Blue']  \n",
    "# Rebuild the string to variable name\n",
    "ref_name = f\"{fn_parts[0]}.{fn_parts[1]}.{fn_parts[6]}.{fn_parts[4]}\"\n",
    "\n",
    "print(f'Zonal stats: {ref_name}')\n",
    "# ref_name = os.path.basename(in_path).split('.')[0]\n",
    "# ref_name"
   ]
  },
  {
   "cell_type": "code",
   "execution_count": 23,
   "id": "7f95cbc1-00e5-4707-a4df-6b2d0078db13",
   "metadata": {},
   "outputs": [],
   "source": [
    "# Output dir with the bands as vrts\n",
    "out_dir = os.path.join(os.path.dirname(in_path), f'bands_vrt_{ref_name}')\n",
    "os.makedirs(out_dir, exist_ok=True)"
   ]
  },
  {
   "cell_type": "code",
   "execution_count": 24,
   "id": "64c06ed7-1435-4fdf-a445-4f51688f884a",
   "metadata": {},
   "outputs": [],
   "source": [
    "# out_dir"
   ]
  },
  {
   "cell_type": "code",
   "execution_count": 26,
   "id": "3d04a3f6-4137-46db-96a3-58ff96378107",
   "metadata": {},
   "outputs": [],
   "source": [
    "# Open dataset\n",
    "ds = gdal.Open(in_path, gdal.GA_ReadOnly)\n",
    "base = os.path.splitext(os.path.basename(in_path))[0]\n"
   ]
  },
  {
   "cell_type": "code",
   "execution_count": 27,
   "id": "ba2e8fa5-b24f-44ff-8e14-3a2569771cf0",
   "metadata": {},
   "outputs": [
    {
     "name": "stdout",
     "output_type": "stream",
     "text": [
      "Created: /projects/my-private-bucket/HLS-1DCNN-AGB/data/tif/HLS_composites/yearly/br_af_grid90km_evi2_p95/tile_089/bands_vrt_HLS.89.percentile95.0evi2.2022/HLS_89_01-01_12-31_2022_2022_percentile95.0evi2_Blue.vrt\n",
      "Created: /projects/my-private-bucket/HLS-1DCNN-AGB/data/tif/HLS_composites/yearly/br_af_grid90km_evi2_p95/tile_089/bands_vrt_HLS.89.percentile95.0evi2.2022/HLS_89_01-01_12-31_2022_2022_percentile95.0evi2_Green.vrt\n",
      "Created: /projects/my-private-bucket/HLS-1DCNN-AGB/data/tif/HLS_composites/yearly/br_af_grid90km_evi2_p95/tile_089/bands_vrt_HLS.89.percentile95.0evi2.2022/HLS_89_01-01_12-31_2022_2022_percentile95.0evi2_Red.vrt\n",
      "Created: /projects/my-private-bucket/HLS-1DCNN-AGB/data/tif/HLS_composites/yearly/br_af_grid90km_evi2_p95/tile_089/bands_vrt_HLS.89.percentile95.0evi2.2022/HLS_89_01-01_12-31_2022_2022_percentile95.0evi2_NIR.vrt\n",
      "Created: /projects/my-private-bucket/HLS-1DCNN-AGB/data/tif/HLS_composites/yearly/br_af_grid90km_evi2_p95/tile_089/bands_vrt_HLS.89.percentile95.0evi2.2022/HLS_89_01-01_12-31_2022_2022_percentile95.0evi2_SWIR.vrt\n",
      "Created: /projects/my-private-bucket/HLS-1DCNN-AGB/data/tif/HLS_composites/yearly/br_af_grid90km_evi2_p95/tile_089/bands_vrt_HLS.89.percentile95.0evi2.2022/HLS_89_01-01_12-31_2022_2022_percentile95.0evi2_SWIR2.vrt\n",
      "Created: /projects/my-private-bucket/HLS-1DCNN-AGB/data/tif/HLS_composites/yearly/br_af_grid90km_evi2_p95/tile_089/bands_vrt_HLS.89.percentile95.0evi2.2022/HLS_89_01-01_12-31_2022_2022_percentile95.0evi2_NDVI.vrt\n",
      "Created: /projects/my-private-bucket/HLS-1DCNN-AGB/data/tif/HLS_composites/yearly/br_af_grid90km_evi2_p95/tile_089/bands_vrt_HLS.89.percentile95.0evi2.2022/HLS_89_01-01_12-31_2022_2022_percentile95.0evi2_SAVI.vrt\n",
      "Created: /projects/my-private-bucket/HLS-1DCNN-AGB/data/tif/HLS_composites/yearly/br_af_grid90km_evi2_p95/tile_089/bands_vrt_HLS.89.percentile95.0evi2.2022/HLS_89_01-01_12-31_2022_2022_percentile95.0evi2_MSAVI.vrt\n",
      "Created: /projects/my-private-bucket/HLS-1DCNN-AGB/data/tif/HLS_composites/yearly/br_af_grid90km_evi2_p95/tile_089/bands_vrt_HLS.89.percentile95.0evi2.2022/HLS_89_01-01_12-31_2022_2022_percentile95.0evi2_NDMI.vrt\n",
      "Created: /projects/my-private-bucket/HLS-1DCNN-AGB/data/tif/HLS_composites/yearly/br_af_grid90km_evi2_p95/tile_089/bands_vrt_HLS.89.percentile95.0evi2.2022/HLS_89_01-01_12-31_2022_2022_percentile95.0evi2_EVI.vrt\n",
      "Created: /projects/my-private-bucket/HLS-1DCNN-AGB/data/tif/HLS_composites/yearly/br_af_grid90km_evi2_p95/tile_089/bands_vrt_HLS.89.percentile95.0evi2.2022/HLS_89_01-01_12-31_2022_2022_percentile95.0evi2_EVI2.vrt\n",
      "Created: /projects/my-private-bucket/HLS-1DCNN-AGB/data/tif/HLS_composites/yearly/br_af_grid90km_evi2_p95/tile_089/bands_vrt_HLS.89.percentile95.0evi2.2022/HLS_89_01-01_12-31_2022_2022_percentile95.0evi2_NBR.vrt\n",
      "Created: /projects/my-private-bucket/HLS-1DCNN-AGB/data/tif/HLS_composites/yearly/br_af_grid90km_evi2_p95/tile_089/bands_vrt_HLS.89.percentile95.0evi2.2022/HLS_89_01-01_12-31_2022_2022_percentile95.0evi2_NBR2.vrt\n",
      "Created: /projects/my-private-bucket/HLS-1DCNN-AGB/data/tif/HLS_composites/yearly/br_af_grid90km_evi2_p95/tile_089/bands_vrt_HLS.89.percentile95.0evi2.2022/HLS_89_01-01_12-31_2022_2022_percentile95.0evi2_TCB.vrt\n",
      "Created: /projects/my-private-bucket/HLS-1DCNN-AGB/data/tif/HLS_composites/yearly/br_af_grid90km_evi2_p95/tile_089/bands_vrt_HLS.89.percentile95.0evi2.2022/HLS_89_01-01_12-31_2022_2022_percentile95.0evi2_TCG.vrt\n",
      "Created: /projects/my-private-bucket/HLS-1DCNN-AGB/data/tif/HLS_composites/yearly/br_af_grid90km_evi2_p95/tile_089/bands_vrt_HLS.89.percentile95.0evi2.2022/HLS_89_01-01_12-31_2022_2022_percentile95.0evi2_TCW.vrt\n",
      "Created: /projects/my-private-bucket/HLS-1DCNN-AGB/data/tif/HLS_composites/yearly/br_af_grid90km_evi2_p95/tile_089/bands_vrt_HLS.89.percentile95.0evi2.2022/HLS_89_01-01_12-31_2022_2022_percentile95.0evi2_ValidMask.vrt\n",
      "Created: /projects/my-private-bucket/HLS-1DCNN-AGB/data/tif/HLS_composites/yearly/br_af_grid90km_evi2_p95/tile_089/bands_vrt_HLS.89.percentile95.0evi2.2022/HLS_89_01-01_12-31_2022_2022_percentile95.0evi2_Xgeo.vrt\n",
      "Created: /projects/my-private-bucket/HLS-1DCNN-AGB/data/tif/HLS_composites/yearly/br_af_grid90km_evi2_p95/tile_089/bands_vrt_HLS.89.percentile95.0evi2.2022/HLS_89_01-01_12-31_2022_2022_percentile95.0evi2_Ygeo.vrt\n",
      "Created: /projects/my-private-bucket/HLS-1DCNN-AGB/data/tif/HLS_composites/yearly/br_af_grid90km_evi2_p95/tile_089/bands_vrt_HLS.89.percentile95.0evi2.2022/HLS_89_01-01_12-31_2022_2022_percentile95.0evi2_JulianDate.vrt\n",
      "Created: /projects/my-private-bucket/HLS-1DCNN-AGB/data/tif/HLS_composites/yearly/br_af_grid90km_evi2_p95/tile_089/bands_vrt_HLS.89.percentile95.0evi2.2022/HLS_89_01-01_12-31_2022_2022_percentile95.0evi2_yearDate.vrt\n",
      "Created: /projects/my-private-bucket/HLS-1DCNN-AGB/data/tif/HLS_composites/yearly/br_af_grid90km_evi2_p95/tile_089/bands_vrt_HLS.89.percentile95.0evi2.2022/HLS_89_01-01_12-31_2022_2022_percentile95.0evi2_count.vrt\n"
     ]
    }
   ],
   "source": [
    "for b in range(1, ds.RasterCount + 1):\n",
    "    band = ds.GetRasterBand(b)\n",
    "    desc = band.GetDescription()\n",
    "    if not desc:\n",
    "        desc = f\"band{b:02d}\"\n",
    "    # Clean description for safe filenames\n",
    "    safe_name = desc.replace(\" \", \"_\").replace(\"/\", \"_\")\n",
    "    \n",
    "    out_vrt = os.path.join(out_dir, f\"{base}_{safe_name}.vrt\")\n",
    "    gdal.Translate(out_vrt, in_path, format=\"VRT\", bandList=[b])\n",
    "    print(f\"Created: {out_vrt}\")"
   ]
  },
  {
   "cell_type": "code",
   "execution_count": 7,
   "id": "5bb4a29e-4829-4c75-a9ee-060937a1738c",
   "metadata": {},
   "outputs": [
    {
     "name": "stdout",
     "output_type": "stream",
     "text": [
      "Created: /projects/my-private-bucket/HLS-1DCNN-AGB/data/tif/HLS_composites/yearly/br_af_grid90km_evi2_p95/tile_089/bands_vrt/HLS_89_01-01_12-30_2022_2022_percentile95.0evi2_Blue.vrt\n",
      "Created: /projects/my-private-bucket/HLS-1DCNN-AGB/data/tif/HLS_composites/yearly/br_af_grid90km_evi2_p95/tile_089/bands_vrt/HLS_89_01-01_12-30_2022_2022_percentile95.0evi2_Green.vrt\n",
      "Created: /projects/my-private-bucket/HLS-1DCNN-AGB/data/tif/HLS_composites/yearly/br_af_grid90km_evi2_p95/tile_089/bands_vrt/HLS_89_01-01_12-30_2022_2022_percentile95.0evi2_Red.vrt\n",
      "Created: /projects/my-private-bucket/HLS-1DCNN-AGB/data/tif/HLS_composites/yearly/br_af_grid90km_evi2_p95/tile_089/bands_vrt/HLS_89_01-01_12-30_2022_2022_percentile95.0evi2_NIR.vrt\n",
      "Created: /projects/my-private-bucket/HLS-1DCNN-AGB/data/tif/HLS_composites/yearly/br_af_grid90km_evi2_p95/tile_089/bands_vrt/HLS_89_01-01_12-30_2022_2022_percentile95.0evi2_SWIR.vrt\n",
      "Created: /projects/my-private-bucket/HLS-1DCNN-AGB/data/tif/HLS_composites/yearly/br_af_grid90km_evi2_p95/tile_089/bands_vrt/HLS_89_01-01_12-30_2022_2022_percentile95.0evi2_SWIR2.vrt\n",
      "Created: /projects/my-private-bucket/HLS-1DCNN-AGB/data/tif/HLS_composites/yearly/br_af_grid90km_evi2_p95/tile_089/bands_vrt/HLS_89_01-01_12-30_2022_2022_percentile95.0evi2_NDVI.vrt\n",
      "Created: /projects/my-private-bucket/HLS-1DCNN-AGB/data/tif/HLS_composites/yearly/br_af_grid90km_evi2_p95/tile_089/bands_vrt/HLS_89_01-01_12-30_2022_2022_percentile95.0evi2_SAVI.vrt\n",
      "Created: /projects/my-private-bucket/HLS-1DCNN-AGB/data/tif/HLS_composites/yearly/br_af_grid90km_evi2_p95/tile_089/bands_vrt/HLS_89_01-01_12-30_2022_2022_percentile95.0evi2_MSAVI.vrt\n",
      "Created: /projects/my-private-bucket/HLS-1DCNN-AGB/data/tif/HLS_composites/yearly/br_af_grid90km_evi2_p95/tile_089/bands_vrt/HLS_89_01-01_12-30_2022_2022_percentile95.0evi2_NDMI.vrt\n",
      "Created: /projects/my-private-bucket/HLS-1DCNN-AGB/data/tif/HLS_composites/yearly/br_af_grid90km_evi2_p95/tile_089/bands_vrt/HLS_89_01-01_12-30_2022_2022_percentile95.0evi2_EVI.vrt\n",
      "Created: /projects/my-private-bucket/HLS-1DCNN-AGB/data/tif/HLS_composites/yearly/br_af_grid90km_evi2_p95/tile_089/bands_vrt/HLS_89_01-01_12-30_2022_2022_percentile95.0evi2_EVI2.vrt\n",
      "Created: /projects/my-private-bucket/HLS-1DCNN-AGB/data/tif/HLS_composites/yearly/br_af_grid90km_evi2_p95/tile_089/bands_vrt/HLS_89_01-01_12-30_2022_2022_percentile95.0evi2_NBR.vrt\n",
      "Created: /projects/my-private-bucket/HLS-1DCNN-AGB/data/tif/HLS_composites/yearly/br_af_grid90km_evi2_p95/tile_089/bands_vrt/HLS_89_01-01_12-30_2022_2022_percentile95.0evi2_NBR2.vrt\n",
      "Created: /projects/my-private-bucket/HLS-1DCNN-AGB/data/tif/HLS_composites/yearly/br_af_grid90km_evi2_p95/tile_089/bands_vrt/HLS_89_01-01_12-30_2022_2022_percentile95.0evi2_TCB.vrt\n",
      "Created: /projects/my-private-bucket/HLS-1DCNN-AGB/data/tif/HLS_composites/yearly/br_af_grid90km_evi2_p95/tile_089/bands_vrt/HLS_89_01-01_12-30_2022_2022_percentile95.0evi2_TCG.vrt\n",
      "Created: /projects/my-private-bucket/HLS-1DCNN-AGB/data/tif/HLS_composites/yearly/br_af_grid90km_evi2_p95/tile_089/bands_vrt/HLS_89_01-01_12-30_2022_2022_percentile95.0evi2_TCW.vrt\n",
      "Created: /projects/my-private-bucket/HLS-1DCNN-AGB/data/tif/HLS_composites/yearly/br_af_grid90km_evi2_p95/tile_089/bands_vrt/HLS_89_01-01_12-30_2022_2022_percentile95.0evi2_ValidMask.vrt\n",
      "Created: /projects/my-private-bucket/HLS-1DCNN-AGB/data/tif/HLS_composites/yearly/br_af_grid90km_evi2_p95/tile_089/bands_vrt/HLS_89_01-01_12-30_2022_2022_percentile95.0evi2_Xgeo.vrt\n",
      "Created: /projects/my-private-bucket/HLS-1DCNN-AGB/data/tif/HLS_composites/yearly/br_af_grid90km_evi2_p95/tile_089/bands_vrt/HLS_89_01-01_12-30_2022_2022_percentile95.0evi2_Ygeo.vrt\n",
      "Created: /projects/my-private-bucket/HLS-1DCNN-AGB/data/tif/HLS_composites/yearly/br_af_grid90km_evi2_p95/tile_089/bands_vrt/HLS_89_01-01_12-30_2022_2022_percentile95.0evi2_JulianDate.vrt\n",
      "Created: /projects/my-private-bucket/HLS-1DCNN-AGB/data/tif/HLS_composites/yearly/br_af_grid90km_evi2_p95/tile_089/bands_vrt/HLS_89_01-01_12-30_2022_2022_percentile95.0evi2_yearDate.vrt\n",
      "Created: /projects/my-private-bucket/HLS-1DCNN-AGB/data/tif/HLS_composites/yearly/br_af_grid90km_evi2_p95/tile_089/bands_vrt/HLS_89_01-01_12-30_2022_2022_percentile95.0evi2_count.vrt\n"
     ]
    }
   ],
   "source": [
    "ds = gdal.Open(in_path, gdal.GA_ReadOnly)\n",
    "base = os.path.splitext(os.path.basename(in_path))[0]\n",
    "\n",
    "for b in range(1, ds.RasterCount + 1):\n",
    "    band = ds.GetRasterBand(b)\n",
    "    desc = band.GetDescription()  # band name/description if present\n",
    "    if not desc:\n",
    "        desc = f\"band{b:02d}\"      # fallback if no name is set\n",
    "    # Clean up the description so it’s safe for filenames\n",
    "    safe_name = desc.replace(\" \", \"_\").replace(\"/\", \"_\")\n",
    "    out_vrt = os.path.join(out_dir, f'{base}_{safe_name}.vrt')\n",
    "    gdal.Translate(out_vrt, ds, format='VRT', bandList=[b])\n",
    "    print(f\"Created: {out_vrt}\")\n",
    "\n",
    "ds = None"
   ]
  },
  {
   "cell_type": "code",
   "execution_count": null,
   "id": "d7f3346b-5e26-4ba2-9b99-8e421084fdee",
   "metadata": {},
   "outputs": [],
   "source": []
  },
  {
   "cell_type": "code",
   "execution_count": null,
   "id": "aafea30d-e617-4a61-80c3-9dc53ab5d948",
   "metadata": {},
   "outputs": [],
   "source": []
  },
  {
   "cell_type": "markdown",
   "id": "a0969dbb-8b30-46f5-9b24-3d033f90704a",
   "metadata": {},
   "source": [
    "# VRT month composites"
   ]
  },
  {
   "cell_type": "code",
   "execution_count": null,
   "id": "096beb07-3665-4729-8bfa-b48aa147be08",
   "metadata": {},
   "outputs": [],
   "source": []
  }
 ],
 "metadata": {
  "kernelspec": {
   "display_name": "Python [conda env:pangeo] *",
   "language": "python",
   "name": "conda-env-pangeo-py"
  },
  "language_info": {
   "codemirror_mode": {
    "name": "ipython",
    "version": 3
   },
   "file_extension": ".py",
   "mimetype": "text/x-python",
   "name": "python",
   "nbconvert_exporter": "python",
   "pygments_lexer": "ipython3",
   "version": "3.12.7"
  }
 },
 "nbformat": 4,
 "nbformat_minor": 5
}
