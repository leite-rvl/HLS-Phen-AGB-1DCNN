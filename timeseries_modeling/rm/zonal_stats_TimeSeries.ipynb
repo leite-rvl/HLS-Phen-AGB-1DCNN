{
 "cells": [
  {
   "cell_type": "markdown",
   "id": "d32636d1-c718-4c58-b432-93678affab7d",
   "metadata": {},
   "source": [
    "\"\"\"\n",
    "Script to compute zonal statistics for GEDI L4A points against a multiband HLS raster.\n",
    "Steps:\n",
    "1. Load GEDI L4A geospatial points (optionally buffer it into polygons - ## check errors on rastererization).\n",
    "2. Load single band image - e.g. HLS composite raster for one band.\n",
    "3. Reproject points to raster CRS and rasterize zones.\n",
    "4. Compute per-zone statistics (e.g., mean) using xrspatial.zonal_stats.\n",
    "5. Join results back to the input GeoDataFrame and export to GeoPackage.\n",
    "\"\"\""
   ]
  },
  {
   "cell_type": "code",
   "execution_count": 2,
   "id": "7a87305b-d88c-4bd1-a79c-5b0cb734eb4f",
   "metadata": {},
   "outputs": [],
   "source": [
    "import os\n",
    "import glob\n",
    "import numpy as np\n",
    "import geopandas as gpd\n",
    "import rioxarray\n",
    "from rasterio import features\n",
    "from shapely.geometry import Point\n",
    "from xrspatial import zonal_stats\n",
    "import pandas as pd\n",
    "from pyproj import CRS"
   ]
  },
  {
   "cell_type": "code",
   "execution_count": 3,
   "id": "f3792ad2-d422-483f-9e84-74b78ee03057",
   "metadata": {},
   "outputs": [],
   "source": [
    "\n",
    "def zonal_stats_raster(gpkg_points_path,img_path, ZONE_ID_COL = 'zone', BUFFER_METERS =0, band_name = 'b'):\n",
    "        \n",
    "    ####################################################\n",
    "    # 1) Open raster as xarray (single band)\n",
    "    ####################################################\n",
    "    \n",
    "    da = rioxarray.open_rasterio(img_path).squeeze()  # [y, x]\n",
    "    if 'band' in da.dims:\n",
    "        da = da.squeeze('band', drop=True)\n",
    "        \n",
    "    raster_crs = CRS.from_user_input(da.rio.crs)\n",
    "    transform  = da.rio.transform()\n",
    "    out_shape  = da.shape  # (rows, cols)\n",
    "    nodata     = da.rio.nodata\n",
    "    \n",
    "    da = da.where(da != da.rio.nodata)\n",
    "    \n",
    "    \n",
    "    \n",
    "    ####################################################\n",
    "    # 2) Read points\n",
    "    ####################################################\n",
    "    gdf = gpd.read_file(gpkg_points_path)\n",
    "    \n",
    "    # Create ID for the zonal stats\n",
    "    if ZONE_ID_COL not in gdf.columns:\n",
    "        gdf = gdf.reset_index(drop=True)\n",
    "        gdf[ZONE_ID_COL] = np.arange(1, len(gdf) + 1, dtype=np.int32)\n",
    "    \n",
    "    \n",
    "    \n",
    "    ####################################################\n",
    "    # 3) Reproject to raster CRS and buffer to polygons \n",
    "    ####################################################\n",
    "    \n",
    "    gdf_proj = gdf.to_crs(raster_crs)\n",
    "    \n",
    "    # BUffer\n",
    "    if BUFFER_METERS > 0:\n",
    "        gdf_proj[\"geometry\"] = gdf_proj.geometry.buffer(BUFFER_METERS)\n",
    "    \n",
    "    \n",
    "    ####################\n",
    "    # 4) Build (geometry, id) tuples for rasterization\n",
    "    ####################\n",
    "    geom = list(zip(gdf_proj.geometry, gdf_proj[ZONE_ID_COL]))\n",
    "    \n",
    "    \n",
    "    \n",
    "    ####################################################\n",
    "    # 5) Rasterize zones (same shape/transform as raster)\n",
    "    ####################################################\n",
    "    zones_arr = features.rasterize(\n",
    "        geom,\n",
    "        out_shape=out_shape,\n",
    "        transform=transform,\n",
    "        fill= nodata,\n",
    "        nodata = nodata,\n",
    "        masked = True,\n",
    "        # fill=0,# background (no zone)\n",
    "        dtype=\"int32\",\n",
    "        # all_touched=True\n",
    "    )\n",
    "    \n",
    "    \n",
    "    \n",
    "    ####################################################\n",
    "    # # 6) Wrap zones into an xarray aligned with the raster\n",
    "    ####################################################\n",
    "    \n",
    "    zones_xarr = da.copy(deep=False)  # copies coords/attrs, not data\n",
    "    zones_xarr.data = zones_arr\n",
    "    # zones_xarr.attrs[\"nodata\"] = nodata\n",
    "    # zones_xarr\n",
    "    \n",
    "    \n",
    "    ####################################################\n",
    "    # 7) Compute zonal stats using xrspatial (min/max/mean/etc.)\n",
    "    ####################################################\n",
    "    \n",
    "    # If your raster has nodata, pass it so stats ignore it\n",
    "    zs_df = zonal_stats(\n",
    "        zones=zones_xarr,      # your integer-labeled zone raster\n",
    "        values=da,             # the raster with values to summarize\n",
    "        # stats_funcs=['mean', 'max', 'min', 'sum', 'std', 'var', 'count'],\n",
    "        stats_funcs=['mean'],\n",
    "        nodata_values=nodata,   # very important → ensures nodata is ignored\n",
    "        return_type='pandas.DataFrame'\n",
    "    )\n",
    "    \n",
    "    \n",
    "    ####################################################\n",
    "    # # Keep only \"mean\" and rename the band\n",
    "    ####################################################\n",
    "    # zs_df = pd.DataFrame({\"mean\": pd.Series(zs[\"mean\"])}).rename_axis(ZONE_ID_COL).reset_index()\n",
    "    \n",
    "    # Rename column -> e.g. \"evi2_mean\"\n",
    "    zs_df = zs_df.rename(columns={\"mean\": f\"{band_name}_mean\"})\n",
    "    \n",
    "    \n",
    "    ####################################################\n",
    "    # 9) create output with zone id and values\n",
    "    ####################################################\n",
    "    # out = (gdf[[ZONE_ID_COL]]\n",
    "    #        .drop_duplicates()\n",
    "    #        .merge(zs_df, on=ZONE_ID_COL, how=\"left\"))\n",
    "    \n",
    "   \n",
    "    \n",
    "    return zs_df\n",
    "    \n",
    "    "
   ]
  },
  {
   "cell_type": "code",
   "execution_count": 4,
   "id": "a3e5fbdc-2c7b-4214-8858-77107dd2b0b3",
   "metadata": {},
   "outputs": [],
   "source": [
    "ref_year = 2022 # Ref year of target variable\n",
    "ref_tile = 89\n",
    "start_year, end_year = 2020, 2022 # length of time series"
   ]
  },
  {
   "cell_type": "code",
   "execution_count": 5,
   "id": "a6a4beae-c5b5-4464-8bf8-9e2119d69122",
   "metadata": {},
   "outputs": [],
   "source": [
    "gpkg_points_path = f'/projects/my-private-bucket/HLS-1DCNN-AGB/data/shp/gedi/test/l4a_t90km_t{ref_tile}_veg{ref_year}_outrm.gpkg'"
   ]
  },
  {
   "cell_type": "code",
   "execution_count": 6,
   "id": "b358f0f0-f110-4bb5-93d1-1d6397716518",
   "metadata": {},
   "outputs": [],
   "source": [
    "# Multiband image path\n",
    "dir_img = f'/projects/my-private-bucket/HLS-1DCNN-AGB/data/tif/HLS_composites/monthly/br_af_grid30km_prj_evi2_p95/tile_{ref_tile:03d}/bands_vrt_{start_year}-{end_year}/'\n",
    "# dir_img"
   ]
  },
  {
   "cell_type": "code",
   "execution_count": null,
   "id": "cec02c0d-5a7f-4dfa-b981-737dacb1f750",
   "metadata": {},
   "outputs": [],
   "source": []
  },
  {
   "cell_type": "code",
   "execution_count": 7,
   "id": "c1e59ac5-e726-488d-b415-d34cef59481e",
   "metadata": {},
   "outputs": [],
   "source": [
    "output_gpkg_zonalstats_fn = f'/projects/my-private-bucket/HLS-1DCNN-AGB/data/shp/gedi/test/l4a_t90km_t{ref_tile}_{start_year}-{end_year}_outrm_zonal_TimeSeries.gpkg'"
   ]
  },
  {
   "cell_type": "code",
   "execution_count": 8,
   "id": "b362395b-858d-4e2f-9f3f-22adad3c45c4",
   "metadata": {},
   "outputs": [],
   "source": [
    "# Define excluded band suffixes\n",
    "exclude_bands = ['ValidMask.vrt', 'count.vrt', 'yearDate.vrt', 'JulianDate.vrt']\n"
   ]
  },
  {
   "cell_type": "code",
   "execution_count": 9,
   "id": "36d39633-e696-4e52-b2ff-0e7e93fac3d8",
   "metadata": {},
   "outputs": [],
   "source": [
    "ZONE_ID_COL = 'zone'\n",
    "BUFFER_METERS = 0"
   ]
  },
  {
   "cell_type": "code",
   "execution_count": 10,
   "id": "d263a122-001a-460f-a792-2e8c51a4c9ea",
   "metadata": {},
   "outputs": [
    {
     "data": {
      "text/plain": [
       "'/projects/my-private-bucket/HLS-1DCNN-AGB/data/tif/HLS_composites/monthly/br_af_grid30km_prj_evi2_p95/tile_089/bands_vrt_2020-2022/'"
      ]
     },
     "execution_count": 10,
     "metadata": {},
     "output_type": "execute_result"
    }
   ],
   "source": [
    "dir_img"
   ]
  },
  {
   "cell_type": "code",
   "execution_count": 11,
   "id": "fdc909bf-cc85-4172-ab51-ca674e65cf73",
   "metadata": {},
   "outputs": [],
   "source": [
    "# glob.glob(f'{dir_img}/*')"
   ]
  },
  {
   "cell_type": "code",
   "execution_count": 14,
   "id": "79e30ab1-f137-4faf-ba1f-d6752f9d914e",
   "metadata": {},
   "outputs": [],
   "source": [
    "# img_path = img_paths[0]"
   ]
  },
  {
   "cell_type": "code",
   "execution_count": 15,
   "id": "d806d606-4c5c-4a25-8fe8-b0154907cb8a",
   "metadata": {},
   "outputs": [],
   "source": [
    "# img_path"
   ]
  },
  {
   "cell_type": "code",
   "execution_count": 16,
   "id": "3b444f3f-f022-440b-8b83-e23ce217f127",
   "metadata": {},
   "outputs": [],
   "source": [
    "# stem = Path(img_path).stem\n",
    "# print(stem)\n",
    "# parts = stem.split(\"_\")\n",
    "# print(parts)\n",
    "# year = int(parts[4])\n",
    "# print(year)\n",
    "\n",
    "# month = parts[2].split('-')[0]\n",
    "# print(month)"
   ]
  },
  {
   "cell_type": "code",
   "execution_count": 17,
   "id": "c4a1f623-fae1-4270-b4dd-e21106817730",
   "metadata": {},
   "outputs": [],
   "source": [
    "from pathlib import Path\n",
    "\n",
    "\n",
    "# def parse_key(fpath: str):\n",
    "#     \"\"\"\n",
    "#     Extract (band, year, month) so sorting is band-first, then time.\n",
    "#     \"\"\"\n",
    "#     stem = Path(fpath).stem\n",
    "#     parts = stem.split(\"_\")\n",
    "    \n",
    "#     # year is 4th element, month is first two chars of 2nd element\n",
    "#     year = int(parts[4])\n",
    "#     month = int(parts[1][:2])\n",
    "    \n",
    "#     band = parts[-1]  # last part is band name\n",
    "    \n",
    "#     return (band, year, month)\n",
    "\n",
    "\n",
    "\n",
    "def parse_key(fpath: str):\n",
    "    \"\"\"\n",
    "    Extract (band, year, month) so sorting is band-first, then time.\n",
    "    \"\"\"\n",
    "    stem = Path(fpath).stem\n",
    "    parts = stem.split(\"_\")\n",
    "    \n",
    "    # year is 4th element, month is first two chars of 2nd element\n",
    "    year = int(parts[4])\n",
    "    month = parts[2].split('-')[0]\n",
    "\n",
    "    \n",
    "    band = parts[-1]  # last part is band name\n",
    "    \n",
    "    return (band, year, month)\n",
    "\n",
    "\n",
    "\n",
    "# def parse_key(fpath: str):\n",
    "#     \"\"\"\n",
    "#     Extract (year, month, band) using the date pattern:\n",
    "#     e.g., HLS_89_01-01_01-31_2020_2020_percentile95.0evi2_Blue.vrt\n",
    "#                        ^^^^^\n",
    "#                        month is '01'\n",
    "#     \"\"\"\n",
    "#     stem = Path(fpath).stem\n",
    "#     parts = stem.split(\"_\")\n",
    "\n",
    "#     # parts[2] is '01-01' (MM-DD)\n",
    "#     month = int(parts[2][:2])\n",
    "#     year = int(parts[3])   # '2020'\n",
    "\n",
    "#     band = parts[-1]       # 'Blue'\n",
    "\n",
    "#     return (year, month, band)"
   ]
  },
  {
   "cell_type": "code",
   "execution_count": 18,
   "id": "61bbeb80-2c3b-4589-8b8d-ce340e4e962d",
   "metadata": {},
   "outputs": [],
   "source": [
    "img_paths = glob.glob(f'{dir_img}/**/*.vrt',recursive= True)\n",
    "\n",
    "\n",
    "img_paths = [\n",
    "    f for f in img_paths\n",
    "    if not any(f.endswith(ex) for ex in exclude_bands)\n",
    "]"
   ]
  },
  {
   "cell_type": "code",
   "execution_count": 19,
   "id": "1d5d8427-e20b-4c20-9935-a1887912b4f2",
   "metadata": {},
   "outputs": [],
   "source": [
    "img_paths = sorted(img_paths, key=parse_key)"
   ]
  },
  {
   "cell_type": "code",
   "execution_count": null,
   "id": "59583996-915d-4e18-a02a-cbb6908d4a4d",
   "metadata": {},
   "outputs": [],
   "source": []
  },
  {
   "cell_type": "code",
   "execution_count": 21,
   "id": "cf2f4e08-da80-4dd5-9571-3e27a2204952",
   "metadata": {},
   "outputs": [],
   "source": [
    "# img_paths[0:10]"
   ]
  },
  {
   "cell_type": "code",
   "execution_count": 33,
   "id": "6c5db69c-ec53-4f35-8335-eb5b7c81ead7",
   "metadata": {},
   "outputs": [],
   "source": [
    "# Load the base gdf\n",
    "gdf = gpd.read_file(gpkg_points_path)\n",
    "\n"
   ]
  },
  {
   "cell_type": "code",
   "execution_count": 34,
   "id": "970cdf69-f02f-4ced-b464-61dda0c5de13",
   "metadata": {},
   "outputs": [],
   "source": [
    "# Create ID for the zonal stats\n",
    "if ZONE_ID_COL not in gdf.columns:\n",
    "    gdf = gdf.reset_index(drop=True)\n",
    "    gdf[ZONE_ID_COL] = np.arange(1, len(gdf) + 1, dtype=np.int32)"
   ]
  },
  {
   "cell_type": "code",
   "execution_count": 35,
   "id": "9554e50a-9a1b-4f2a-8127-e46089679677",
   "metadata": {},
   "outputs": [
    {
     "data": {
      "text/plain": [
       "627"
      ]
     },
     "execution_count": 35,
     "metadata": {},
     "output_type": "execute_result"
    }
   ],
   "source": [
    "len(img_paths)"
   ]
  },
  {
   "cell_type": "code",
   "execution_count": 36,
   "id": "22559603-2b9c-4d1e-830d-c158cebecd85",
   "metadata": {},
   "outputs": [
    {
     "name": "stdout",
     "output_type": "stream",
     "text": [
      "CPU times: user 2.33 s, sys: 97.5 ms, total: 2.43 s\n",
      "Wall time: 4.11 s\n"
     ]
    }
   ],
   "source": [
    "%%time\n",
    "# Loop through rasters\n",
    "for img_path in img_paths[:2]:\n",
    "   \n",
    "    # Get band name\n",
    "    fname = os.path.basename(img_path)\n",
    "    # -> \"HLS_89_01-01_12-30_2022_2022_percentile95.0evi2_Blue.vrt\"    \n",
    "    fn_parts = fname.replace(\".vrt\", \"\").split(\"_\")\n",
    "    # ['HLS', '89', '01-01', '12-30', '2022', '2022', 'percentile95.0evi2', 'Blue']  \n",
    "    # Rebuild the string to variable name\n",
    "    band_name = f\"{fn_parts[0]}.{fn_parts[4]}-{fn_parts[2]}.{fn_parts[5]}-{fn_parts[3]}.{fn_parts[-1]}\"\n",
    "    \n",
    "    # print(f'Zonal stats: {band_name}')\n",
    "\n",
    "    \n",
    "    # Run your function (it returns a gdf with ZONE_ID + stats)\n",
    "    out = zonal_stats_raster(gpkg_points_path, img_path, ZONE_ID_COL, BUFFER_METERS, band_name)\n",
    "    \n",
    "    # print(f'Merge: {band_name}')\n",
    "    # # Merge results back into main gdf (on zone_id)\n",
    "    gdf = gdf.merge(out, on=ZONE_ID_COL, how=\"left\")\n",
    "\n",
    "\n",
    "# ~10k points 627 bands 90 km tile\n",
    "# Wall time: 21min 2s"
   ]
  },
  {
   "cell_type": "code",
   "execution_count": 37,
   "id": "bc827002-905b-44c5-96d5-516cf5c1a4e3",
   "metadata": {},
   "outputs": [
    {
     "data": {
      "text/plain": [
       "Index(['time', 'beam', 'elevation', 'shot_number', 'flags', 'sensitivity',\n",
       "       'orbit', 'solar_elevation', 'track', 'agbd', 'year', 'month',\n",
       "       'vegmask_2022', 'geometry', 'zone',\n",
       "       'HLS.2020-01-01.2020-01-31.Blue_mean',\n",
       "       'HLS.2020-02-01.2020-02-29.Blue_mean'],\n",
       "      dtype='object')"
      ]
     },
     "execution_count": 37,
     "metadata": {},
     "output_type": "execute_result"
    }
   ],
   "source": [
    "gdf.columns\n"
   ]
  },
  {
   "cell_type": "code",
   "execution_count": 38,
   "id": "6373a6cc-9769-4aad-8ddf-e303376fbe62",
   "metadata": {},
   "outputs": [
    {
     "data": {
      "text/html": [
       "<div>\n",
       "<style scoped>\n",
       "    .dataframe tbody tr th:only-of-type {\n",
       "        vertical-align: middle;\n",
       "    }\n",
       "\n",
       "    .dataframe tbody tr th {\n",
       "        vertical-align: top;\n",
       "    }\n",
       "\n",
       "    .dataframe thead th {\n",
       "        text-align: right;\n",
       "    }\n",
       "</style>\n",
       "<table border=\"1\" class=\"dataframe\">\n",
       "  <thead>\n",
       "    <tr style=\"text-align: right;\">\n",
       "      <th></th>\n",
       "      <th>time</th>\n",
       "      <th>beam</th>\n",
       "      <th>elevation</th>\n",
       "      <th>shot_number</th>\n",
       "      <th>flags</th>\n",
       "      <th>sensitivity</th>\n",
       "      <th>orbit</th>\n",
       "      <th>solar_elevation</th>\n",
       "      <th>track</th>\n",
       "      <th>agbd</th>\n",
       "      <th>year</th>\n",
       "      <th>month</th>\n",
       "      <th>vegmask_2022</th>\n",
       "      <th>geometry</th>\n",
       "      <th>zone</th>\n",
       "      <th>HLS.2020-01-01.2020-01-31.Blue_mean</th>\n",
       "      <th>HLS.2020-02-01.2020-02-29.Blue_mean</th>\n",
       "    </tr>\n",
       "  </thead>\n",
       "  <tbody>\n",
       "    <tr>\n",
       "      <th>0</th>\n",
       "      <td>2022-01-04 23:15:58.116</td>\n",
       "      <td>6</td>\n",
       "      <td>869.504272</td>\n",
       "      <td>173550600100128255</td>\n",
       "      <td>134</td>\n",
       "      <td>0.986958</td>\n",
       "      <td>17355</td>\n",
       "      <td>-13.757421</td>\n",
       "      <td>8749</td>\n",
       "      <td>40.626755</td>\n",
       "      <td>2022</td>\n",
       "      <td>1</td>\n",
       "      <td>3</td>\n",
       "      <td>POINT (-49.37641 -24.1899)</td>\n",
       "      <td>1</td>\n",
       "      <td>NaN</td>\n",
       "      <td>NaN</td>\n",
       "    </tr>\n",
       "    <tr>\n",
       "      <th>1</th>\n",
       "      <td>2022-01-04 23:15:58.124</td>\n",
       "      <td>6</td>\n",
       "      <td>868.808105</td>\n",
       "      <td>173550600100128256</td>\n",
       "      <td>134</td>\n",
       "      <td>0.984109</td>\n",
       "      <td>17355</td>\n",
       "      <td>-13.757937</td>\n",
       "      <td>8749</td>\n",
       "      <td>33.338924</td>\n",
       "      <td>2022</td>\n",
       "      <td>1</td>\n",
       "      <td>3</td>\n",
       "      <td>POINT (-49.37604 -24.1895)</td>\n",
       "      <td>2</td>\n",
       "      <td>NaN</td>\n",
       "      <td>NaN</td>\n",
       "    </tr>\n",
       "    <tr>\n",
       "      <th>2</th>\n",
       "      <td>2022-01-04 23:15:58.132</td>\n",
       "      <td>6</td>\n",
       "      <td>873.284424</td>\n",
       "      <td>173550600100128257</td>\n",
       "      <td>134</td>\n",
       "      <td>0.981359</td>\n",
       "      <td>17355</td>\n",
       "      <td>-13.758456</td>\n",
       "      <td>8749</td>\n",
       "      <td>23.368870</td>\n",
       "      <td>2022</td>\n",
       "      <td>1</td>\n",
       "      <td>3</td>\n",
       "      <td>POINT (-49.37568 -24.18911)</td>\n",
       "      <td>3</td>\n",
       "      <td>NaN</td>\n",
       "      <td>NaN</td>\n",
       "    </tr>\n",
       "    <tr>\n",
       "      <th>3</th>\n",
       "      <td>2022-01-04 23:15:58.178</td>\n",
       "      <td>11</td>\n",
       "      <td>993.211304</td>\n",
       "      <td>173551100100090665</td>\n",
       "      <td>134</td>\n",
       "      <td>0.986288</td>\n",
       "      <td>17355</td>\n",
       "      <td>-13.746551</td>\n",
       "      <td>8749</td>\n",
       "      <td>8.862288</td>\n",
       "      <td>2022</td>\n",
       "      <td>1</td>\n",
       "      <td>3</td>\n",
       "      <td>POINT (-49.37735 -24.20893)</td>\n",
       "      <td>4</td>\n",
       "      <td>NaN</td>\n",
       "      <td>NaN</td>\n",
       "    </tr>\n",
       "    <tr>\n",
       "      <th>4</th>\n",
       "      <td>2022-01-04 23:15:58.256</td>\n",
       "      <td>6</td>\n",
       "      <td>887.880554</td>\n",
       "      <td>173550600100128272</td>\n",
       "      <td>134</td>\n",
       "      <td>0.985115</td>\n",
       "      <td>17355</td>\n",
       "      <td>-13.766229</td>\n",
       "      <td>8749</td>\n",
       "      <td>3.462804</td>\n",
       "      <td>2022</td>\n",
       "      <td>1</td>\n",
       "      <td>3</td>\n",
       "      <td>POINT (-49.37025 -24.18319)</td>\n",
       "      <td>5</td>\n",
       "      <td>NaN</td>\n",
       "      <td>NaN</td>\n",
       "    </tr>\n",
       "  </tbody>\n",
       "</table>\n",
       "</div>"
      ],
      "text/plain": [
       "                     time  beam   elevation         shot_number  flags  \\\n",
       "0 2022-01-04 23:15:58.116     6  869.504272  173550600100128255    134   \n",
       "1 2022-01-04 23:15:58.124     6  868.808105  173550600100128256    134   \n",
       "2 2022-01-04 23:15:58.132     6  873.284424  173550600100128257    134   \n",
       "3 2022-01-04 23:15:58.178    11  993.211304  173551100100090665    134   \n",
       "4 2022-01-04 23:15:58.256     6  887.880554  173550600100128272    134   \n",
       "\n",
       "   sensitivity  orbit  solar_elevation  track       agbd  year  month  \\\n",
       "0     0.986958  17355       -13.757421   8749  40.626755  2022      1   \n",
       "1     0.984109  17355       -13.757937   8749  33.338924  2022      1   \n",
       "2     0.981359  17355       -13.758456   8749  23.368870  2022      1   \n",
       "3     0.986288  17355       -13.746551   8749   8.862288  2022      1   \n",
       "4     0.985115  17355       -13.766229   8749   3.462804  2022      1   \n",
       "\n",
       "   vegmask_2022                     geometry  zone  \\\n",
       "0             3   POINT (-49.37641 -24.1899)     1   \n",
       "1             3   POINT (-49.37604 -24.1895)     2   \n",
       "2             3  POINT (-49.37568 -24.18911)     3   \n",
       "3             3  POINT (-49.37735 -24.20893)     4   \n",
       "4             3  POINT (-49.37025 -24.18319)     5   \n",
       "\n",
       "   HLS.2020-01-01.2020-01-31.Blue_mean  HLS.2020-02-01.2020-02-29.Blue_mean  \n",
       "0                                  NaN                                  NaN  \n",
       "1                                  NaN                                  NaN  \n",
       "2                                  NaN                                  NaN  \n",
       "3                                  NaN                                  NaN  \n",
       "4                                  NaN                                  NaN  "
      ]
     },
     "execution_count": 38,
     "metadata": {},
     "output_type": "execute_result"
    }
   ],
   "source": [
    "gdf.head()"
   ]
  },
  {
   "cell_type": "code",
   "execution_count": 26,
   "id": "75dfdda6-1a11-4272-9992-ae3e6a73b938",
   "metadata": {},
   "outputs": [],
   "source": [
    "# gdf.columns"
   ]
  },
  {
   "cell_type": "code",
   "execution_count": 30,
   "id": "10466543-1c84-4610-8104-48c7eab21a54",
   "metadata": {},
   "outputs": [],
   "source": [
    "gdf_stats_nona = gdf.dropna(subset ='HLS.2022-03-01.2022-03-31.NDVI_mean')"
   ]
  },
  {
   "cell_type": "code",
   "execution_count": 31,
   "id": "5ce7a6cd-d159-4692-a6a0-1178d8ce29fc",
   "metadata": {},
   "outputs": [
    {
     "data": {
      "text/plain": [
       "0"
      ]
     },
     "execution_count": 31,
     "metadata": {},
     "output_type": "execute_result"
    }
   ],
   "source": [
    "len(gdf_stats_nona)"
   ]
  },
  {
   "cell_type": "code",
   "execution_count": 105,
   "id": "966aea67-19e3-43ce-96b1-c066cfa94aaa",
   "metadata": {},
   "outputs": [],
   "source": [
    "# Export gdf_stats\n",
    "gdf_stats_nona.to_file(output_gpkg_zonalstats_fn)\n"
   ]
  },
  {
   "cell_type": "code",
   "execution_count": 1,
   "id": "561bc273-3593-48e2-9229-d6a0813ce99e",
   "metadata": {},
   "outputs": [
    {
     "ename": "NameError",
     "evalue": "name 'output_gpkg_zonalstats_fn' is not defined",
     "output_type": "error",
     "traceback": [
      "\u001b[0;31m---------------------------------------------------------------------------\u001b[0m",
      "\u001b[0;31mNameError\u001b[0m                                 Traceback (most recent call last)",
      "Cell \u001b[0;32mIn[1], line 1\u001b[0m\n\u001b[0;32m----> 1\u001b[0m \u001b[43moutput_gpkg_zonalstats_fn\u001b[49m\n",
      "\u001b[0;31mNameError\u001b[0m: name 'output_gpkg_zonalstats_fn' is not defined"
     ]
    }
   ],
   "source": [
    "output_gpkg_zonalstats_fn"
   ]
  },
  {
   "cell_type": "code",
   "execution_count": null,
   "id": "4726cb20-3400-4687-8281-e7dd6b174967",
   "metadata": {},
   "outputs": [],
   "source": []
  },
  {
   "cell_type": "markdown",
   "id": "8be3b002-0b26-4b94-9064-bfbca055e295",
   "metadata": {},
   "source": [
    "# Test"
   ]
  },
  {
   "cell_type": "code",
   "execution_count": 81,
   "id": "a53e3dd2-32e3-4fbc-a8e5-2e17acc8b12d",
   "metadata": {},
   "outputs": [],
   "source": [
    "####################################################\n",
    "# 1) Open raster as xarray (single band)\n",
    "####################################################\n",
    "\n",
    "da = rioxarray.open_rasterio(img_path).squeeze()  # [y, x]\n",
    "if 'band' in da.dims:\n",
    "    da = da.squeeze('band', drop=True)\n",
    "    \n",
    "raster_crs = CRS.from_user_input(da.rio.crs)\n",
    "transform  = da.rio.transform()\n",
    "out_shape  = da.shape  # (rows, cols)\n",
    "nodata     = da.rio.nodata\n",
    "\n",
    "da = da.where(da != da.rio.nodata)\n",
    "\n",
    "\n",
    "\n",
    "####################################################\n",
    "# 2) Read points\n",
    "####################################################\n",
    "\n",
    "# Create ID for the zonal stats\n",
    "if ZONE_ID_COL not in gdf.columns:\n",
    "    gdf = gdf.reset_index(drop=True)\n",
    "    gdf[ZONE_ID_COL] = np.arange(1, len(gdf) + 1, dtype=np.int32)\n",
    "\n",
    "\n",
    "\n",
    "####################################################\n",
    "# 3) Reproject to raster CRS and buffer to polygons \n",
    "####################################################\n",
    "\n",
    "gdf_proj = gdf.to_crs(raster_crs)\n",
    "\n",
    "# BUffer\n",
    "if BUFFER_METERS > 0:\n",
    "    gdf_proj[\"geometry\"] = gdf_proj.geometry.buffer(BUFFER_METERS)\n",
    "\n",
    "\n",
    "####################\n",
    "# 4) Build (geometry, id) tuples for rasterization\n",
    "####################\n",
    "geom = list(zip(gdf_proj.geometry, gdf_proj[ZONE_ID_COL]))\n",
    "\n",
    "\n",
    "\n",
    "####################################################\n",
    "# 5) Rasterize zones (same shape/transform as raster)\n",
    "####################################################\n",
    "zones_arr = features.rasterize(\n",
    "    geom,\n",
    "    out_shape=out_shape,\n",
    "    transform=transform,\n",
    "    fill= nodata,\n",
    "    nodata = nodata,\n",
    "    masked = True,\n",
    "    # fill=0,# background (no zone)\n",
    "    dtype=\"int32\",\n",
    "    # all_touched=True\n",
    ")\n",
    "\n",
    "\n",
    "\n",
    "\n"
   ]
  },
  {
   "cell_type": "code",
   "execution_count": 82,
   "id": "92bd1f3b-9145-4ce3-b74f-c724fb8fbd4d",
   "metadata": {},
   "outputs": [],
   "source": [
    "####################################################\n",
    "# # 6) Wrap zones into an xarray aligned with the raster\n",
    "####################################################\n",
    "\n",
    "zones_xarr = da.copy(deep=False)  # copies coords/attrs, not data\n",
    "zones_xarr.data = zones_arr\n",
    "# zones_xarr.attrs[\"nodata\"] = nodata\n",
    "# zones_xarr\n",
    "\n",
    "\n",
    "####################################################\n",
    "# 7) Compute zonal stats using xrspatial (min/max/mean/etc.)\n",
    "####################################################\n",
    "\n",
    "# If your raster has nodata, pass it so stats ignore it\n",
    "zs_df = zonal_stats(\n",
    "    zones=zones_xarr,      # your integer-labeled zone raster\n",
    "    values=da,             # the raster with values to summarize\n",
    "    # stats_funcs=['mean', 'max', 'min', 'sum', 'std', 'var', 'count'],\n",
    "    stats_funcs=['mean'],\n",
    "    nodata_values=nodata,   # very important → ensures nodata is ignored\n",
    "    return_type='pandas.DataFrame'\n",
    ")\n"
   ]
  },
  {
   "cell_type": "code",
   "execution_count": 83,
   "id": "9a06d03e-1d98-4879-8178-45573e9cdc62",
   "metadata": {},
   "outputs": [
    {
     "data": {
      "text/html": [
       "<div>\n",
       "<style scoped>\n",
       "    .dataframe tbody tr th:only-of-type {\n",
       "        vertical-align: middle;\n",
       "    }\n",
       "\n",
       "    .dataframe tbody tr th {\n",
       "        vertical-align: top;\n",
       "    }\n",
       "\n",
       "    .dataframe thead th {\n",
       "        text-align: right;\n",
       "    }\n",
       "</style>\n",
       "<table border=\"1\" class=\"dataframe\">\n",
       "  <thead>\n",
       "    <tr style=\"text-align: right;\">\n",
       "      <th></th>\n",
       "      <th>zone</th>\n",
       "      <th>mean</th>\n",
       "    </tr>\n",
       "  </thead>\n",
       "  <tbody>\n",
       "    <tr>\n",
       "      <th>0</th>\n",
       "      <td>4.0</td>\n",
       "      <td>0.0103</td>\n",
       "    </tr>\n",
       "    <tr>\n",
       "      <th>1</th>\n",
       "      <td>48.0</td>\n",
       "      <td>0.0158</td>\n",
       "    </tr>\n",
       "    <tr>\n",
       "      <th>2</th>\n",
       "      <td>49.0</td>\n",
       "      <td>0.0146</td>\n",
       "    </tr>\n",
       "    <tr>\n",
       "      <th>3</th>\n",
       "      <td>50.0</td>\n",
       "      <td>0.0153</td>\n",
       "    </tr>\n",
       "    <tr>\n",
       "      <th>4</th>\n",
       "      <td>51.0</td>\n",
       "      <td>0.0145</td>\n",
       "    </tr>\n",
       "  </tbody>\n",
       "</table>\n",
       "</div>"
      ],
      "text/plain": [
       "   zone    mean\n",
       "0   4.0  0.0103\n",
       "1  48.0  0.0158\n",
       "2  49.0  0.0146\n",
       "3  50.0  0.0153\n",
       "4  51.0  0.0145"
      ]
     },
     "execution_count": 83,
     "metadata": {},
     "output_type": "execute_result"
    }
   ],
   "source": [
    "zs_df.head()"
   ]
  },
  {
   "cell_type": "code",
   "execution_count": 84,
   "id": "c310970f-ae17-482c-85b1-24e14cd09aff",
   "metadata": {},
   "outputs": [],
   "source": [
    "gdf = gdf.merge(zs_df, on=ZONE_ID_COL, how=\"left\")"
   ]
  },
  {
   "cell_type": "code",
   "execution_count": 85,
   "id": "47f1ccc9-2501-4089-aecb-643946025ae2",
   "metadata": {},
   "outputs": [
    {
     "data": {
      "text/plain": [
       "Index(['time', 'beam', 'elevation', 'shot_number', 'flags', 'sensitivity',\n",
       "       'orbit', 'solar_elevation', 'track', 'agbd', 'year', 'month',\n",
       "       'vegmask_2022', 'geometry', 'zone', 'mean'],\n",
       "      dtype='object')"
      ]
     },
     "execution_count": 85,
     "metadata": {},
     "output_type": "execute_result"
    }
   ],
   "source": [
    "gdf.columns"
   ]
  },
  {
   "cell_type": "code",
   "execution_count": 76,
   "id": "1b0dbcdd-5835-4aef-8d7c-6bbe67b22cbe",
   "metadata": {},
   "outputs": [],
   "source": [
    "\n",
    "\n",
    "\n",
    "\n",
    "####################################################\n",
    "# # Keep only \"mean\" and rename the band\n",
    "####################################################\n",
    "# zs_df = pd.DataFrame({\"mean\": pd.Series(zs[\"mean\"])}).rename_axis(ZONE_ID_COL).reset_index()\n",
    "\n",
    "# Rename column -> e.g. \"evi2_mean\"\n",
    "zs_df = zs_df.rename(columns={\"mean\": f\"{band_name}_mean\"})\n",
    "\n",
    "\n",
    "####################################################\n",
    "# 9) create output with zone id and values\n",
    "####################################################\n",
    "out = (gdf[[ZONE_ID_COL]]\n",
    "       .drop_duplicates()\n",
    "       .merge(zs_df, on=ZONE_ID_COL, how=\"left\"))\n",
    "\n"
   ]
  },
  {
   "cell_type": "code",
   "execution_count": 75,
   "id": "bac2568e-b0f7-411e-9ed7-12cf6898a4f6",
   "metadata": {},
   "outputs": [
    {
     "data": {
      "text/plain": [
       "Index(['time', 'beam', 'elevation', 'shot_number', 'flags', 'sensitivity',\n",
       "       'orbit', 'solar_elevation', 'track', 'agbd', 'year', 'month',\n",
       "       'vegmask_2020', 'geometry', 'zone'],\n",
       "      dtype='object')"
      ]
     },
     "execution_count": 75,
     "metadata": {},
     "output_type": "execute_result"
    }
   ],
   "source": [
    "gdf.columns"
   ]
  },
  {
   "cell_type": "code",
   "execution_count": 70,
   "id": "cd2d5bfa-bd17-4a25-886a-c19cafe05267",
   "metadata": {},
   "outputs": [
    {
     "data": {
      "text/plain": [
       "Index(['time', 'beam', 'elevation', 'shot_number', 'flags', 'sensitivity',\n",
       "       'orbit', 'solar_elevation', 'track', 'agbd', 'year', 'month',\n",
       "       'vegmask_2020', 'geometry', 'zone'],\n",
       "      dtype='object')"
      ]
     },
     "execution_count": 70,
     "metadata": {},
     "output_type": "execute_result"
    }
   ],
   "source": [
    "gdf.columns"
   ]
  },
  {
   "cell_type": "code",
   "execution_count": null,
   "id": "5d28f62c-b561-4136-a128-9cf60190a1f4",
   "metadata": {},
   "outputs": [],
   "source": []
  }
 ],
 "metadata": {
  "kernelspec": {
   "display_name": "Python [conda env:pangeo] *",
   "language": "python",
   "name": "conda-env-pangeo-py"
  },
  "language_info": {
   "codemirror_mode": {
    "name": "ipython",
    "version": 3
   },
   "file_extension": ".py",
   "mimetype": "text/x-python",
   "name": "python",
   "nbconvert_exporter": "python",
   "pygments_lexer": "ipython3",
   "version": "3.12.7"
  }
 },
 "nbformat": 4,
 "nbformat_minor": 5
}
