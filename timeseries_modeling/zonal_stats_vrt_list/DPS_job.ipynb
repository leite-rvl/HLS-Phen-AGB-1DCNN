{
 "cells": [
  {
   "cell_type": "code",
   "execution_count": 7,
   "id": "e48074a3-eaad-44c3-8802-095eb6ce40cf",
   "metadata": {},
   "outputs": [],
   "source": [
    "from maap.maap import MAAP\n",
    "maap = MAAP()\n",
    "\n",
    "# --- REQUIRED: set these to your registered algorithm ---\n",
    "ALGO_ID      = \"run_zonal_stats_vrt_list\"   # e.g., what you picked in the UI\n",
    "ALGO_VERSION = \"v2025_10_08\"                # the version tag/name from registration\n",
    "WORKER_TYPE  = \"maap-dps-worker-8gb\"        # or a larger queue if needed\n",
    "\n",
    "# A friendly name for this run (used in output paths under /projects/<bucket>/dps_output/)\n",
    "IDENTIFIER = \"ZONAL_HLS_BRL_ATLANTIC_2025\"\n",
    "RUN_NAME   = IDENTIFIER\n",
    "USER       = \"rodrigo.leite\"                # purely for your own tracking table\n"
   ]
  },
  {
   "cell_type": "code",
   "execution_count": 8,
   "id": "3098fd87-3a82-4cd5-b040-062bed30aca0",
   "metadata": {},
   "outputs": [],
   "source": [
    "# ---- SINGLE JOB (set one tile + one year) ----\n",
    "ref_tile_list = [89]        # <- your tile number(s)\n",
    "ref_year_list = [2022]       # <- your reference vegetation year(s)\n",
    "\n",
    "# Sanity check: lists should be same length if paired; otherwise we’ll cartesian-product below.\n",
    "assert len(ref_tile_list) == len(ref_year_list)\n"
   ]
  },
  {
   "cell_type": "code",
   "execution_count": 9,
   "id": "fd8b4fe0-8592-4f4e-90bd-ae2961901667",
   "metadata": {},
   "outputs": [],
   "source": [
    "import datetime\n",
    "import pandas as pd\n",
    "from pathlib import Path\n",
    "\n",
    "DPS_SUBMISSION_RESULTS_DIR = \"/projects/my-public-bucket/dps_submission_results\"\n",
    "Path(DPS_SUBMISSION_RESULTS_DIR).mkdir(parents=True, exist_ok=True)\n",
    "\n",
    "# Constant pieces\n",
    "DIR_IMG = \"/projects/my-private-bucket/HLS-1DCNN-AGB/data/tif/HLS_composites/monthly/br_af_grid60km_prj_evi2_max/vrt/\"\n",
    "ZONE_ID_COL = \"zone\"\n",
    "BUFFER_METERS = 0\n",
    "\n",
    "# IMPORTANT: pass EXCLUDE_BANDS as a space-separated string so run.sh expands it to multiple args\n",
    "EXCLUDE_BANDS_STR = \"ValidMask.vrt count.vrt yearDate.vrt JulianDate.vrt\"\n",
    "\n",
    "submit_results_df_list = []\n",
    "now_stamp = pd.Timestamp.now().strftime(\"%Y%m%d%H%M\")\n"
   ]
  },
  {
   "cell_type": "code",
   "execution_count": 10,
   "id": "c201ef00-3c48-44f4-9720-c4e1202ae61b",
   "metadata": {},
   "outputs": [
    {
     "name": "stdout",
     "output_type": "stream",
     "text": [
      "[1/1] job_id= status=failed tile=89 year=2022\n"
     ]
    }
   ],
   "source": [
    "for i, (ref_tile, ref_year) in enumerate(zip(ref_tile_list, ref_year_list), start=1):\n",
    "\n",
    "    gpkg_points_path = f\"/projects/my-private-bucket/HLS-1DCNN-AGB/data/shp/gedi/test/l4a_t90km_t{ref_tile}_veg{ref_year}_outrm.gpkg\"\n",
    "    output_gpkg_zonalstats_fn = f\"/projects/my-private-bucket/HLS-1DCNN-AGB/data/shp/gedi/l4a_t90km_t{ref_tile}_veg{ref_year}_outrm_zonal_HLS.gpkg\"\n",
    "\n",
    "    in_params_dict = {\n",
    "        # names must match what run.sh reads and forwards to your Python CLI\n",
    "        \"GPKG\": gpkg_points_path,\n",
    "        \"DIR_IMG\": DIR_IMG,\n",
    "        \"OUTPUT\": output_gpkg_zonalstats_fn,\n",
    "        \"ZONE_ID_COL\": ZONE_ID_COL,\n",
    "        \"BUFFER_M\": str(BUFFER_METERS),      # strings are safest for env vars\n",
    "        \"EXCLUDE_BANDS\": EXCLUDE_BANDS_STR,  # space-separated list (run.sh will split)\n",
    "    }\n",
    "\n",
    "    submit_result = maap.submitJob(\n",
    "        identifier=IDENTIFIER,\n",
    "        algo_id=ALGO_ID,\n",
    "        version=ALGO_VERSION,\n",
    "        queue=WORKER_TYPE,\n",
    "        **in_params_dict\n",
    "    )\n",
    "\n",
    "    submit_results_df_list.append(\n",
    "        pd.DataFrame({\n",
    "            \"dps_num\":        [i],\n",
    "            \"ref_tile\":       [ref_tile],\n",
    "            \"ref_year\":       [ref_year],\n",
    "            \"submit_time\":    [datetime.datetime.now().strftime(\"%Y-%m-%d %H:%M:%S\")],\n",
    "            \"algo_id\":        [ALGO_ID],\n",
    "            \"algo_version\":   [ALGO_VERSION],\n",
    "            \"user\":           [USER],\n",
    "            \"worker_type\":    [WORKER_TYPE],\n",
    "            \"job_id\":         [submit_result.id],\n",
    "            \"submit_status\":  [submit_result.status],\n",
    "            \"run_name\":       [RUN_NAME],\n",
    "            \"gpkg\":           [gpkg_points_path],\n",
    "            \"dir_img\":        [DIR_IMG],\n",
    "            \"output\":         [output_gpkg_zonalstats_fn],\n",
    "            \"zone_id_col\":    [ZONE_ID_COL],\n",
    "            \"buffer_m\":       [BUFFER_METERS],\n",
    "            \"exclude_bands\":  [EXCLUDE_BANDS_STR],\n",
    "        })\n",
    "    )\n",
    "\n",
    "    print(f\"[{i}/{len(ref_tile_list)}] job_id={submit_result.id} status={submit_result.status} tile={ref_tile} year={ref_year}\")\n"
   ]
  },
  {
   "cell_type": "code",
   "execution_count": null,
   "id": "d86f8c16-237b-4375-a649-18f9028ba4af",
   "metadata": {},
   "outputs": [],
   "source": []
  }
 ],
 "metadata": {
  "kernelspec": {
   "display_name": "Python [conda env:pangeo] *",
   "language": "python",
   "name": "conda-env-pangeo-py"
  },
  "language_info": {
   "codemirror_mode": {
    "name": "ipython",
    "version": 3
   },
   "file_extension": ".py",
   "mimetype": "text/x-python",
   "name": "python",
   "nbconvert_exporter": "python",
   "pygments_lexer": "ipython3",
   "version": "3.12.7"
  }
 },
 "nbformat": 4,
 "nbformat_minor": 5
}
