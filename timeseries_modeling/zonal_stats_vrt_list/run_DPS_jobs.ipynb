{
 "cells": [
  {
   "cell_type": "raw",
   "id": "ede1c9ba-14d9-4846-8bc5-775b67d28e5a",
   "metadata": {},
   "source": [
    "https://github.com/MAAP-Project/maap-documentation/blob/4b963900799a0d94acccb74ffbee5c82a977df98/docs/source/technical_tutorials/dps_tutorial/DPS_runner_template.ipynb"
   ]
  },
  {
   "cell_type": "code",
   "execution_count": 1,
   "id": "28de3de1-9a9a-4c99-9fcd-4fc0824721fb",
   "metadata": {},
   "outputs": [],
   "source": [
    "from maap.maap import MAAP\n",
    "maap = MAAP()\n"
   ]
  },
  {
   "cell_type": "code",
   "execution_count": 3,
   "id": "4dc926b3-856d-4ad4-91c8-0bf185431b8e",
   "metadata": {},
   "outputs": [
    {
     "data": {
      "text/plain": [
       "'{\"code\": 200, \"message\": {\"id\": \"efd83626314eab002726eff8ec60bc8a551e6f73\", \"short_id\": \"efd83626\", \"created_at\": \"2025-10-16T19:32:20.000+00:00\", \"parent_ids\": [\"022b0bce120374c75022eb36b148e51ac995ab54\"], \"title\": \"Registering algorithm: zonal_stats_rxr_vrt_0.0.2\", \"message\": \"Registering algorithm: zonal_stats_rxr_vrt_0.0.2\", \"author_name\": \"root\", \"author_email\": \"root@fd8bd39fc2e6\", \"authored_date\": \"2025-10-16T19:32:20.000+00:00\", \"committer_name\": \"root\", \"committer_email\": \"root@fd8bd39fc2e6\", \"committed_date\": \"2025-10-16T19:32:20.000+00:00\", \"trailers\": {}, \"extended_trailers\": {}, \"web_url\": \"https://repo.maap-project.org/root/register-job-hysds-v4/-/commit/efd83626314eab002726eff8ec60bc8a551e6f73\", \"stats\": {\"additions\": 0, \"deletions\": 0, \"total\": 0}, \"status\": \"pending\", \"project_id\": 3, \"last_pipeline\": {\"id\": 16278, \"iid\": 2740, \"project_id\": 3, \"sha\": \"efd83626314eab002726eff8ec60bc8a551e6f73\", \"ref\": \"hysds-v5\", \"status\": \"pending\", \"source\": \"push\", \"created_at\": \"2025-10-16T19:32:21.397Z\", \"updated_at\": \"2025-10-16T19:32:21.834Z\", \"web_url\": \"https://repo.maap-project.org/root/register-job-hysds-v4/-/pipelines/16278\"}, \"job_web_url\": \"https://repo.maap-project.org/root/register-job-hysds-v4/-/jobs/16653\", \"job_log_url\": \"https://repo.maap-project.org/root/register-job-hysds-v4/-/jobs/16653/raw\"}}\\n'"
      ]
     },
     "execution_count": 3,
     "metadata": {},
     "output_type": "execute_result"
    }
   ],
   "source": [
    "# Register algorithm\n",
    "\n",
    "algorithm_path = '/projects/algorithm-configs/zonal_stats_rxr_vrt_0.0.2.yml'\n",
    "maap.register_algorithm_from_yaml_file(algorithm_path).text"
   ]
  },
  {
   "cell_type": "code",
   "execution_count": 11,
   "id": "fa99e3db-61d9-46d6-bb0f-e1b97e09ba97",
   "metadata": {},
   "outputs": [],
   "source": [
    "import glob\n",
    "import os\n",
    "\n",
    "# directory = \"https://maap-ops-workspace.s3.amazonaws.com/rodrigo.leite/HLS-1DCNN-AGB/*\"\n",
    "\n",
    "# files = [f for f in os.listdir(directory) if os.path.isfile(os.path.join(directory, f))]\n",
    "# print(files)"
   ]
  },
  {
   "cell_type": "code",
   "execution_count": 9,
   "id": "73a981e7-9410-4f7a-a174-1350273e9a96",
   "metadata": {},
   "outputs": [],
   "source": [
    "# Define inputs\n",
    "GPKG=\"/projects/my-private-bucket/HLS-1DCNN-AGB/data/shp/gedi/test/l4a_t90km_t89_veg2022_outrm.gpkg\" \n",
    "DIR_IMG=\"/projects/my-private-bucket/HLS-1DCNN-AGB/data/tif/HLS_composites/monthly/br_af_grid60km_prj_evi2_max/vrt_test/\" \n",
    "OUTPUT=\"/projects/my-private-bucket/HLS-1DCNN-AGB/data/shp/gedi/l4a_t90km_t89_veg2022_outrm_zonal_HLS.gpkg\" \n",
    "ZONE_ID_COL=\"zone\" \n",
    "BUFFER_M=0 \n",
    "EXCLUDE_BANDS=\"ValidMask.vrt count.vrt yearDate.vrt JulianDate.vrt\" \n",
    "\n",
    "\n",
    "in_params_dict = {\n",
    "            'GPKG': GPKG,\n",
    "            'DIR_IMG': DIR_IMG,\n",
    "            'OUTPUT':OUTPUT,\n",
    "            'ZONE_ID_COL':ZONE_ID_COL, \n",
    "            'BUFFER_M':BUFFER_M, \n",
    "            'EXCLUDE_BANDS':EXCLUDE_BANDS\n",
    "        }"
   ]
  },
  {
   "cell_type": "code",
   "execution_count": 10,
   "id": "b7f09076-7ad4-4c00-846a-ef32108f1d7c",
   "metadata": {},
   "outputs": [],
   "source": [
    "# MAAP algorithm version name\n",
    "IDENTIFIER='zonal_stats_vrt_test'\n",
    "ALGO_ID = \"zonal_stats_rxr_vrt_0.0.1\"\n",
    "ALGO_VERSION = 'main'\n",
    "USER = 'rodrigo.leite'\n",
    "WORKER_TYPE = 'maap-dps-worker-8gb'"
   ]
  },
  {
   "cell_type": "code",
   "execution_count": 12,
   "id": "642c4f7f-6f4e-4ec9-baa0-f07307931fb6",
   "metadata": {},
   "outputs": [],
   "source": [
    "RUN_NAME = IDENTIFIER\n",
    "# RUN_NAME"
   ]
  },
  {
   "cell_type": "code",
   "execution_count": 17,
   "id": "57f132a0-aedb-4582-b892-2165d9f58a5d",
   "metadata": {},
   "outputs": [
    {
     "data": {
      "text/plain": [
       "{'job_id': 'a67a9d80-ec4e-489f-ae74-9341176c756a', 'status': 'success', 'machine_type': None, 'architecture': None, 'machine_memory_size': None, 'directory_size': None, 'operating_system': None, 'job_start_time': None, 'job_end_time': None, 'job_duration_seconds': None, 'cpu_usage': None, 'cache_usage': None, 'mem_usage': None, 'max_mem_usage': None, 'swap_usage': None, 'read_io_stats': None, 'write_io_stats': None, 'sync_io_stats': None, 'async_io_stats': None, 'total_io_stats': None, 'error_details': None, 'response_code': 200, 'outputs': []}"
      ]
     },
     "execution_count": 17,
     "metadata": {},
     "output_type": "execute_result"
    }
   ],
   "source": [
    "# example copied from ui\n",
    "maap.submitJob(identifier=\"zonal_stats_vrt_test\",\n",
    "    algo_id=\"zonal_stats_rxr_vrt_0.0.1\",\n",
    "    version=\"main\",\n",
    "    queue=\"maap-dps-worker-8gb\",\n",
    "    GPKG=\"/projects/my-private-bucket/HLS-1DCNN-AGB/data/shp/gedi/test/l4a_t90km_t89_veg2022_outrm.gpkg\",\n",
    "    DIR_IMG=\"/projects/my-private-bucket/HLS-1DCNN-AGB/data/tif/HLS_composites/monthly/br_af_grid60km_prj_evi2_max/vrt_test/\",\n",
    "    OUTPUT=\"/projects/my-private-bucket/HLS-1DCNN-AGB/data/shp/gedi/l4a_t90km_t89_veg2022_outrm_zonal_HLS.gpkg\",\n",
    "    ZONE_ID_COL=\"\",\n",
    "    BUFFER_M=\"\",\n",
    "    EXCLUDE_BANDS=\"\")"
   ]
  },
  {
   "cell_type": "code",
   "execution_count": 13,
   "id": "da0652ae-dabd-42b2-89f0-3c23732d49a9",
   "metadata": {},
   "outputs": [],
   "source": [
    "submit_result = maap.submitJob(\n",
    "            identifier=IDENTIFIER,\n",
    "            algo_id=ALGO_ID,\n",
    "            version=ALGO_VERSION,\n",
    "            queue=WORKER_TYPE,\n",
    "            **in_params_dict\n",
    "        )"
   ]
  },
  {
   "cell_type": "code",
   "execution_count": 14,
   "id": "d34039aa-c5ac-4573-a329-fc8be29e8441",
   "metadata": {},
   "outputs": [
    {
     "data": {
      "text/plain": [
       "{'job_id': '', 'status': 'failed', 'machine_type': None, 'architecture': None, 'machine_memory_size': None, 'directory_size': None, 'operating_system': None, 'job_start_time': None, 'job_end_time': None, 'job_duration_seconds': None, 'cpu_usage': None, 'cache_usage': None, 'mem_usage': None, 'max_mem_usage': None, 'swap_usage': None, 'read_io_stats': None, 'write_io_stats': None, 'sync_io_stats': None, 'async_io_stats': None, 'total_io_stats': None, 'error_details': '<ows:ExceptionReport xmlns:wps=\"http://www.opengis.net/wps/2.0\" xmlns:xsi=\"http://www.w3.org/2001/XMLSchema-instance\" xmlns:schemaLocation=\"http://schemas.opengis.net/wps/2.0/wps.xsd\" xmlns:ows=\"http://www.opengis.net/ows/2.0\"><ows:Exception exceptionCode=\"FailedJobSubmit\" locator=\"Execute\"><ows:ExceptionText>Failed to submit job of type job-zonal_stats_rxr_vrt_0.0.1:main. Exception Message: Failed to submit job. &lt;class \\'TypeError\\'&gt;:\\'int\\' object is not iterable</ows:ExceptionText></ows:Exception></ows:ExceptionReport>', 'response_code': 500, 'outputs': []}"
      ]
     },
     "execution_count": 14,
     "metadata": {},
     "output_type": "execute_result"
    }
   ],
   "source": [
    "# submit_result"
   ]
  },
  {
   "cell_type": "code",
   "execution_count": null,
   "id": "8e42b7af-7dea-49a7-a828-0067dc70efb5",
   "metadata": {},
   "outputs": [],
   "source": [
    "# Set up a dir to hold the metadata output table from the DPS submission\n",
    "# DPS_SUBMISSION_RESULTS_DIR = '/projects/my-public-bucket/dps_submission_results'"
   ]
  },
  {
   "cell_type": "code",
   "execution_count": null,
   "id": "7d7b0d5f-60a5-4270-af0c-a3807a6b1a41",
   "metadata": {},
   "outputs": [],
   "source": [
    "\n",
    "# Run a DPS job across the list\n",
    "    \n",
    "%%time\n",
    "\n",
    "import json\n",
    "\n",
    "submit_results_df_list = []\n",
    "len_input_list = len(DPS_INPUT_TILE_NUM_LIST)\n",
    "print(f\"# of input tiles for DPS: {len_input_list}\")\n",
    "\n",
    "for i, INPUT_TILE_NUM in enumerate(DPS_INPUT_TILE_NUM_LIST):\n",
    "    \n",
    "    # Just a way to keep track of the job number associated with this submission's loop\n",
    "    DPS_num = i+1\n",
    "    \n",
    "    # Update the in_params_dict with the current INPUT_TILE_NUM from this loop\n",
    "    in_params_dict['in_tile_num'] = INPUT_TILE_NUM\n",
    "    \n",
    "    submit_result = maap.submitJob(\n",
    "            identifier=IDENTIFIER,\n",
    "            algo_id=ALGO_ID,\n",
    "            version=ALGO_VERSION,\n",
    "            queue=WORKER_TYPE,\n",
    "            **in_params_dict\n",
    "        )\n",
    "    \n",
    "    # Build a dataframe of submission details - this holds metadata about your DPS job\n",
    "    submit_result_df = pd.DataFrame( \n",
    "        {\n",
    "                'dps_num':[DPS_num],\n",
    "                'tile_num':[INPUT_TILE_NUM],\n",
    "                'submit_time':[datetime.datetime.now().strftime('%Y-%m-%d-%H-%M-%s')],\n",
    "                'dbs_job_hour': [datetime.datetime.now().hour],\n",
    "                'algo_id': [ALGO_ID],\n",
    "                'user': [USER],\n",
    "                'worker_type': [WORKER_TYPE],\n",
    "                'job_id': [submit_result.id],\n",
    "                'submit_status': [submit_result.status],\n",
    "            \n",
    "        } \n",
    "    )\n",
    "    \n",
    "    # Append to a list of data frames of DPS submission results\n",
    "    submit_results_df_list.append(submit_result_df)\n",
    "    \n",
    "    if DPS_num in [1, 5, 10, 50, 100, 250, 500, 750, 1000, 1500, 2000, 2500, 3000, 3500, 4000, 4500, 5000, 7000, 9000, 11000, 13000, 15000, 17000, 19000, 21000, 24000, len_input_list]:\n",
    "        print(f\"DPS run #: {DPS_num}\\t| tile num: {INPUT_TILE_NUM}\\t| submit status: {submit_result.status}\\t| job id: {submit_result.id}\") \n",
    "        \n",
    "# Build a final submission results data frame and save\n",
    "submit_results_df = pd.concat(submit_results_df_list)\n",
    "submit_results_df['run_name'] = RUN_NAME\n",
    "nowtime = pd.Timestamp.now().strftime('%Y%m%d%H%M')\n",
    "print(f\"Current time:\\t{nowtime}\")\n",
    "\n",
    "# This creates a CSV of the metadata associated with the DPS jobs you have just submitted\n",
    "submit_results_df.to_csv(f'{DPS_SUBMISSION_RESULTS_DIR}/DPS_{ALGO_ID}_{RUN_NAME}_submission_results_{len_input_list}_{nowtime}.csv')\n",
    "submit_results_df.info()"
   ]
  }
 ],
 "metadata": {
  "kernelspec": {
   "display_name": "Python [conda env:pangeo] *",
   "language": "python",
   "name": "conda-env-pangeo-py"
  },
  "language_info": {
   "codemirror_mode": {
    "name": "ipython",
    "version": 3
   },
   "file_extension": ".py",
   "mimetype": "text/x-python",
   "name": "python",
   "nbconvert_exporter": "python",
   "pygments_lexer": "ipython3",
   "version": "3.12.7"
  }
 },
 "nbformat": 4,
 "nbformat_minor": 5
}
