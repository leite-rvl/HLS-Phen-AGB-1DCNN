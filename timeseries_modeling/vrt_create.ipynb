{
 "cells": [
  {
   "cell_type": "code",
   "execution_count": 1,
   "id": "d1c52345-4be6-42eb-89ad-c1daf0add9e3",
   "metadata": {},
   "outputs": [],
   "source": [
    "# Notebook setup: imports and configuration\n",
    "from osgeo import gdal\n",
    "import glob, os\n",
    "from pathlib import Path\n",
    "from typing import List\n",
    "\n"
   ]
  },
  {
   "cell_type": "code",
   "execution_count": 2,
   "id": "bdff34a5-678f-4168-a163-1cf86ae0c514",
   "metadata": {},
   "outputs": [],
   "source": [
    "\n",
    "# === EDIT THESE IF NEEDED ===\n",
    "BASE = Path(\"/projects/my-private-bucket/HLS-1DCNN-AGB/data/tif/HLS_composites/monthly/br_af_grid60km_prj_evi2_max\")\n",
    "# YEARS = [2018, 2019, 2020, 2021, 2022]\n",
    "YEARS = [2018, 2019]\n",
    "\n",
    "MONTHS = list(range(1, 13))\n",
    "OUTDIR = BASE / \"vrt\"   # change if you want VRTs elsewhere\n",
    "RESAMPLE = \"nearest\"\n",
    "RESOLUTION = \"highest\"  # highest | lowest | average\n",
    "\n",
    "OUTDIR.mkdir(parents=True, exist_ok=True)\n"
   ]
  },
  {
   "cell_type": "code",
   "execution_count": 3,
   "id": "4bd8092c-eeb3-48c0-aa84-b59cf8b87eaf",
   "metadata": {},
   "outputs": [
    {
     "name": "stdout",
     "output_type": "stream",
     "text": [
      "BASE   : /projects/my-private-bucket/HLS-1DCNN-AGB/data/tif/HLS_composites/monthly/br_af_grid60km_prj_evi2_max\n",
      "OUTDIR : /projects/my-private-bucket/HLS-1DCNN-AGB/data/tif/HLS_composites/monthly/br_af_grid60km_prj_evi2_max/vrt\n",
      "Years  : [2018, 2019]\n",
      "Months : [1, 2, 3, 4, 5, 6, 7, 8, 9, 10, 11, 12]\n"
     ]
    }
   ],
   "source": [
    "gdal.UseExceptions()\n",
    "print(\"BASE   :\", BASE)\n",
    "print(\"OUTDIR :\", OUTDIR)\n",
    "print(\"Years  :\", YEARS)\n",
    "print(\"Months :\", MONTHS)"
   ]
  },
  {
   "cell_type": "code",
   "execution_count": 4,
   "id": "d0b1c3f1-42bb-4f45-8041-8f48e9382abe",
   "metadata": {},
   "outputs": [],
   "source": [
    "# Helper functions\n",
    "# Helpers: dot-separated ref names and safer band-name sanitize\n",
    "from typing import List, Optional\n",
    "from pathlib import Path\n",
    "import glob, re\n",
    "from osgeo import gdal\n",
    "\n",
    "def find_month_files(base: Path, year: int, month: int) -> List[str]:\n",
    "    pattern = str(base / \"tile_*\" / str(year) / f\"HLS_*_{month:02d}-*_{year}_{year}_maxevi2.tif\")\n",
    "    return sorted(glob.glob(pattern))\n",
    "\n",
    "def get_band_names(sample_path: str) -> List[str]:\n",
    "    ds = gdal.Open(sample_path, gdal.GA_ReadOnly)\n",
    "    if ds is None:\n",
    "        return []\n",
    "    names = []\n",
    "    for i in range(1, ds.RasterCount + 1):\n",
    "        b = ds.GetRasterBand(i)\n",
    "        name = (b.GetDescription() or\n",
    "                b.GetMetadataItem(\"BAND_NAME\") or\n",
    "                f\"band{i}\")\n",
    "        names.append(name)\n",
    "    ds = None\n",
    "    return names\n",
    "\n",
    "def _sanitize_band_name(name: str) -> str:\n",
    "    # keep separators clean: replace commas/dots/spaces/slashes with '-'\n",
    "    if not name:\n",
    "        return \"band\"\n",
    "    name = name.replace(\",\", \"-\").replace(\".\", \"-\")\n",
    "    name = name.replace(\"/\", \"-\").replace(\"\\\\\", \"-\").replace(\" \", \"-\")\n",
    "    # keep only safe chars\n",
    "    name = re.sub(r\"[^A-Za-z0-9_+-]\", \"\", name)\n",
    "    return name or \"band\"\n",
    "\n",
    "def _ensure_unique(names: List[str]) -> List[str]:\n",
    "    seen, out = {}, []\n",
    "    for n in names:\n",
    "        if n not in seen:\n",
    "            seen[n] = 1\n",
    "            out.append(n)\n",
    "        else:\n",
    "            seen[n] += 1\n",
    "            out.append(f\"{n}-{seen[n]}\")\n",
    "    return out\n",
    "\n",
    "def make_ref_name(year: int, month: int, band_name: str) -> str:\n",
    "    # Dot-separated ref/base filename (no extension)\n",
    "    return f\"HLS.{year}.{month:02d}.maxevi2.{band_name}\"\n",
    "\n",
    "def build_vrt_for_band(out_vrt: Path,\n",
    "                       src_files: List[str],\n",
    "                       band_index: int,\n",
    "                       band_name: str,\n",
    "                       resample: str = \"nearest\",\n",
    "                       resolution: str = \"highest\",\n",
    "                       ref_name: Optional[str] = None,\n",
    "                       year: Optional[int] = None,\n",
    "                       month: Optional[int] = None) -> None:\n",
    "    if out_vrt.exists():\n",
    "        out_vrt.unlink()\n",
    "\n",
    "    opts = gdal.BuildVRTOptions(\n",
    "        bandList=[band_index],\n",
    "        resampleAlg=resample,\n",
    "        resolution=resolution,\n",
    "        separate=False,\n",
    "    )\n",
    "    ds = gdal.BuildVRT(str(out_vrt), src_files, options=opts)\n",
    "    if ds is None:\n",
    "        raise RuntimeError(f\"gdal.BuildVRT failed: {out_vrt}\")\n",
    "\n",
    "    # Dataset metadata\n",
    "    if ref_name:\n",
    "        ds.SetMetadataItem(\"REF_NAME\", ref_name)\n",
    "    if year is not None:\n",
    "        ds.SetMetadataItem(\"YEAR\", str(year))\n",
    "    if month is not None:\n",
    "        ds.SetMetadataItem(\"MONTH\", f\"{month:02d}\")\n",
    "    ds.SetMetadataItem(\"PRODUCT\", \"maxevi2\")\n",
    "    ds.SetMetadataItem(\"BAND_NAME\", band_name)\n",
    "\n",
    "    # Band 1 metadata/description\n",
    "    rb = ds.GetRasterBand(1)\n",
    "    if rb is not None:\n",
    "        rb.SetDescription(band_name)\n",
    "        rb.SetMetadataItem(\"BAND_NAME\", band_name)\n",
    "\n",
    "    ds = None\n"
   ]
  },
  {
   "cell_type": "code",
   "execution_count": 5,
   "id": "98d28aa2-27aa-4bc2-ab1b-9dfd726e7c0d",
   "metadata": {},
   "outputs": [
    {
     "name": "stdout",
     "output_type": "stream",
     "text": [
      "Months with data: 24\n",
      "2018-01: 9 file(s)\n",
      "2018-02: 9 file(s)\n",
      "2018-03: 9 file(s)\n",
      "2018-04: 9 file(s)\n",
      "2018-05: 9 file(s)\n",
      "2018-06: 9 file(s)\n",
      "2018-07: 9 file(s)\n",
      "2018-08: 9 file(s)\n",
      "2018-09: 9 file(s)\n",
      "2018-10: 9 file(s)\n",
      "2018-11: 9 file(s)\n",
      "2018-12: 9 file(s)\n",
      "2019-01: 9 file(s)\n",
      "2019-02: 9 file(s)\n",
      "2019-03: 9 file(s)\n",
      "2019-04: 9 file(s)\n",
      "2019-05: 9 file(s)\n",
      "2019-06: 9 file(s)\n",
      "2019-07: 9 file(s)\n",
      "2019-08: 9 file(s)\n",
      "2019-09: 9 file(s)\n",
      "2019-10: 9 file(s)\n",
      "2019-11: 9 file(s)\n",
      "2019-12: 9 file(s)\n"
     ]
    }
   ],
   "source": [
    "# Check number of tiles for each month and year\n",
    "from collections import defaultdict\n",
    "\n",
    "found = defaultdict(int)\n",
    "for y in YEARS:\n",
    "    for m in MONTHS:\n",
    "        files = find_month_files(BASE, y, m)\n",
    "        if files:\n",
    "            found[(y, m)] = len(files)\n",
    "\n",
    "print(f\"Months with data: {len(found)}\")\n",
    "for (y, m), n in sorted(found.items()):\n",
    "    print(f\"{y}-{m:02d}: {n} file(s)\")"
   ]
  },
  {
   "cell_type": "code",
   "execution_count": 6,
   "id": "95fe21a3-9ae4-4260-9d8d-61f29b065e1f",
   "metadata": {},
   "outputs": [
    {
     "data": {
      "application/vnd.jupyter.widget-view+json": {
       "model_id": "17b7298c57a44a57a7138b693a3feb08",
       "version_major": 2,
       "version_minor": 0
      },
      "text/plain": [
       "Years:   0%|          | 0/2 [00:00<?, ?it/s]"
      ]
     },
     "metadata": {},
     "output_type": "display_data"
    },
    {
     "data": {
      "application/vnd.jupyter.widget-view+json": {
       "model_id": "8b36ff3c74f541bdb362f6de66238361",
       "version_major": 2,
       "version_minor": 0
      },
      "text/plain": [
       "Months(2018):   0%|          | 0/12 [00:00<?, ?it/s]"
      ]
     },
     "metadata": {},
     "output_type": "display_data"
    },
    {
     "data": {
      "application/vnd.jupyter.widget-view+json": {
       "model_id": "ee84d59a4d824a3caac873bede55dcd8",
       "version_major": 2,
       "version_minor": 0
      },
      "text/plain": [
       "Months(2019):   0%|          | 0/12 [00:00<?, ?it/s]"
      ]
     },
     "metadata": {},
     "output_type": "display_data"
    },
    {
     "name": "stdout",
     "output_type": "stream",
     "text": [
      "Done.\n",
      "All VRTs built successfully.\n"
     ]
    }
   ],
   "source": [
    "from tqdm.auto import tqdm\n",
    "\n",
    "errors = []\n",
    "\n",
    "for y in tqdm(YEARS, desc=\"Years\"):\n",
    "    for m in tqdm(MONTHS, leave=False, desc=f\"Months({y})\"):\n",
    "        files = find_month_files(BASE, y, m)\n",
    "        if not files:\n",
    "            continue\n",
    "\n",
    "        raw_names = get_band_names(files[0])\n",
    "        if not raw_names:\n",
    "            print(f\"[WARN] No bands detected for {y}-{m:02d}; skipping.\")\n",
    "            continue\n",
    "\n",
    "        band_names = _ensure_unique([_sanitize_band_name(n) for n in raw_names])\n",
    "\n",
    "        for idx, bname in enumerate(band_names, start=1):\n",
    "            ref = make_ref_name(y, m, bname)      # e.g., HLS.2020.03.maxevi2.Red\n",
    "            out_vrt = OUTDIR / f\"{ref}.vrt\"\n",
    "            try:\n",
    "                build_vrt_for_band(out_vrt, files, idx, bname,\n",
    "                                   resample=RESAMPLE, resolution=RESOLUTION,\n",
    "                                   ref_name=ref, year=y, month=m)\n",
    "            except Exception as e:\n",
    "                errors.append((str(out_vrt), str(e)))\n",
    "\n",
    "print(\"Done.\")\n",
    "if errors:\n",
    "    print(\"\\nSome VRTs failed:\")\n",
    "    for path, msg in errors:\n",
    "        print(\" -\", path, \"->\", msg)\n",
    "else:\n",
    "    print(\"All VRTs built successfully.\")\n",
    "\n"
   ]
  },
  {
   "cell_type": "code",
   "execution_count": null,
   "id": "ae359a7e-fab8-4677-9847-56a8a5cd3dbf",
   "metadata": {},
   "outputs": [],
   "source": []
  },
  {
   "cell_type": "code",
   "execution_count": null,
   "id": "5dcd25c7-f8d9-4b4d-92fd-4e7ac1710bdb",
   "metadata": {},
   "outputs": [],
   "source": []
  }
 ],
 "metadata": {
  "kernelspec": {
   "display_name": "Python [conda env:pangeo] *",
   "language": "python",
   "name": "conda-env-pangeo-py"
  },
  "language_info": {
   "codemirror_mode": {
    "name": "ipython",
    "version": 3
   },
   "file_extension": ".py",
   "mimetype": "text/x-python",
   "name": "python",
   "nbconvert_exporter": "python",
   "pygments_lexer": "ipython3",
   "version": "3.12.7"
  }
 },
 "nbformat": 4,
 "nbformat_minor": 5
}
