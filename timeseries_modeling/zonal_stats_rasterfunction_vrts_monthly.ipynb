{
 "cells": [
  {
   "cell_type": "markdown",
   "id": "d32636d1-c718-4c58-b432-93678affab7d",
   "metadata": {},
   "source": [
    "\"\"\"\n",
    "Script to compute zonal statistics for GEDI L4A points against a multiband HLS raster.\n",
    "Steps:\n",
    "1. Load GEDI L4A geospatial points (optionally buffer it into polygons - ## check errors on rastererization).\n",
    "2. Load single band image - e.g. HLS composite raster for one band.\n",
    "3. Reproject points to raster CRS and rasterize zones.\n",
    "4. Compute per-zone statistics (e.g., mean) using xrspatial.zonal_stats.\n",
    "5. Join results back to the input GeoDataFrame and export to GeoPackage.\n",
    "\"\"\""
   ]
  },
  {
   "cell_type": "code",
   "execution_count": 1,
   "id": "7a87305b-d88c-4bd1-a79c-5b0cb734eb4f",
   "metadata": {},
   "outputs": [],
   "source": [
    "import os\n",
    "import glob\n",
    "import numpy as np\n",
    "import geopandas as gpd\n",
    "import rioxarray\n",
    "from rasterio import features\n",
    "from shapely.geometry import Point\n",
    "from xrspatial import zonal_stats\n",
    "import pandas as pd\n",
    "from pyproj import CRS"
   ]
  },
  {
   "cell_type": "code",
   "execution_count": 2,
   "id": "f3792ad2-d422-483f-9e84-74b78ee03057",
   "metadata": {},
   "outputs": [],
   "source": [
    "\n",
    "def zonal_stats_raster(gpkg_points_path,img_path, ZONE_ID_COL = 'zone', BUFFER_METERS =0, band_name = 'b'):\n",
    "        \n",
    "    ####################################################\n",
    "    # 1) Open raster as xarray (single band)\n",
    "    ####################################################\n",
    "    \n",
    "    da = rioxarray.open_rasterio(img_path).squeeze()  # [y, x]\n",
    "    if 'band' in da.dims:\n",
    "        da = da.squeeze('band', drop=True)\n",
    "        \n",
    "    raster_crs = CRS.from_user_input(da.rio.crs)\n",
    "    transform  = da.rio.transform()\n",
    "    out_shape  = da.shape  # (rows, cols)\n",
    "    nodata     = da.rio.nodata\n",
    "    \n",
    "    da = da.where(da != da.rio.nodata)\n",
    "    \n",
    "    \n",
    "    \n",
    "    ####################################################\n",
    "    # 2) Read points\n",
    "    ####################################################\n",
    "    gdf = gpd.read_file(gpkg_points_path)\n",
    "    \n",
    "    # Create ID for the zonal stats\n",
    "    if ZONE_ID_COL not in gdf.columns:\n",
    "        gdf = gdf.reset_index(drop=True)\n",
    "        gdf[ZONE_ID_COL] = np.arange(1, len(gdf) + 1, dtype=np.int32)\n",
    "    \n",
    "    \n",
    "    \n",
    "    ####################################################\n",
    "    # 3) Reproject to raster CRS and buffer to polygons \n",
    "    ####################################################\n",
    "    \n",
    "    gdf_proj = gdf.to_crs(raster_crs)\n",
    "    \n",
    "    # BUffer\n",
    "    if BUFFER_METERS > 0:\n",
    "        gdf_proj[\"geometry\"] = gdf_proj.geometry.buffer(BUFFER_METERS)\n",
    "    \n",
    "    \n",
    "    ####################\n",
    "    # 4) Build (geometry, id) tuples for rasterization\n",
    "    ####################\n",
    "    geom = list(zip(gdf_proj.geometry, gdf_proj[ZONE_ID_COL]))\n",
    "    \n",
    "    \n",
    "    \n",
    "    ####################################################\n",
    "    # 5) Rasterize zones (same shape/transform as raster)\n",
    "    ####################################################\n",
    "    zones_arr = features.rasterize(\n",
    "        geom,\n",
    "        out_shape=out_shape,\n",
    "        transform=transform,\n",
    "        fill= nodata,\n",
    "        nodata = nodata,\n",
    "        masked = True,\n",
    "        # fill=0,# background (no zone)\n",
    "        dtype=\"int32\",\n",
    "        # all_touched=True\n",
    "    )\n",
    "    \n",
    "    \n",
    "    \n",
    "    ####################################################\n",
    "    # # 6) Wrap zones into an xarray aligned with the raster\n",
    "    ####################################################\n",
    "    \n",
    "    zones_xarr = da.copy(deep=False)  # copies coords/attrs, not data\n",
    "    zones_xarr.data = zones_arr\n",
    "    # zones_xarr.attrs[\"nodata\"] = nodata\n",
    "    # zones_xarr\n",
    "    \n",
    "    \n",
    "    ####################################################\n",
    "    # 7) Compute zonal stats using xrspatial (min/max/mean/etc.)\n",
    "    ####################################################\n",
    "    \n",
    "    # If your raster has nodata, pass it so stats ignore it\n",
    "    zs_df = zonal_stats(\n",
    "        zones=zones_xarr,      # your integer-labeled zone raster\n",
    "        values=da,             # the raster with values to summarize\n",
    "        # stats_funcs=['mean', 'max', 'min', 'sum', 'std', 'var', 'count'],\n",
    "        stats_funcs=['mean'],\n",
    "        nodata_values=nodata,   # very important → ensures nodata is ignored\n",
    "        return_type='pandas.DataFrame'\n",
    "    )\n",
    "    \n",
    "    \n",
    "    ####################################################\n",
    "    # # Keep only \"mean\" and rename the band\n",
    "    ####################################################\n",
    "    # zs_df = pd.DataFrame({\"mean\": pd.Series(zs[\"mean\"])}).rename_axis(ZONE_ID_COL).reset_index()\n",
    "    \n",
    "    # Rename column -> e.g. \"evi2_mean\"\n",
    "    zs_df = zs_df.rename(columns={\"mean\": f\"{band_name}_mean\"})\n",
    "    \n",
    "    \n",
    "    ####################################################\n",
    "    # 9) create output with zone id and values\n",
    "    ####################################################\n",
    "    # out = (gdf[[ZONE_ID_COL]]\n",
    "    #        .drop_duplicates()\n",
    "    #        .merge(zs_df, on=ZONE_ID_COL, how=\"left\"))\n",
    "    \n",
    "   \n",
    "    \n",
    "    return zs_df\n",
    "    \n",
    "    "
   ]
  },
  {
   "cell_type": "code",
   "execution_count": 3,
   "id": "a3e5fbdc-2c7b-4214-8858-77107dd2b0b3",
   "metadata": {},
   "outputs": [],
   "source": [
    "ref_year = 2022\n",
    "ref_tile = 89"
   ]
  },
  {
   "cell_type": "code",
   "execution_count": 4,
   "id": "a6a4beae-c5b5-4464-8bf8-9e2119d69122",
   "metadata": {},
   "outputs": [],
   "source": [
    "gpkg_points_path = f'/projects/my-private-bucket/HLS-1DCNN-AGB/data/shp/gedi/test/l4a_t90km_t{ref_tile}_veg{ref_year}_outrm.gpkg'"
   ]
  },
  {
   "cell_type": "code",
   "execution_count": 5,
   "id": "b358f0f0-f110-4bb5-93d1-1d6397716518",
   "metadata": {},
   "outputs": [],
   "source": [
    "# Multiband image path\n",
    "# img_path = '/projects/my-private-bucket/HLS-1DCNN-AGB/data/tif/HLS_composites/yearly/br_af_grid90km_evi2_p95/tile_089/bands_vrt/HLS_89_01-01_12-30_2022_2022_percentile95.0evi2_Blue.vrt'\n",
    "\n",
    "# Directory with your raster .vrt files\n",
    "# dir_img = f'/projects/my-private-bucket/HLS-1DCNN-AGB/data/tif/HLS_composites/yearly/br_af_grid90km_evi2_p95/tile_{ref_tile:03}/bands_vrt'\n",
    "dir_img = '/projects//my-private-bucket/HLS-1DCNN-AGB/data/tif/HLS_composites/monthly/br_af_grid60km_prj_evi2_max/vrt/'\n",
    "# dir_img"
   ]
  },
  {
   "cell_type": "code",
   "execution_count": 6,
   "id": "c1e59ac5-e726-488d-b415-d34cef59481e",
   "metadata": {},
   "outputs": [],
   "source": [
    "output_gpkg_zonalstats_fn = f'/projects/my-private-bucket/HLS-1DCNN-AGB/data/shp/gedi/l4a_t90km_t{ref_tile}_veg{ref_year}_outrm_zonal_HLS.gpkg'"
   ]
  },
  {
   "cell_type": "code",
   "execution_count": 7,
   "id": "b362395b-858d-4e2f-9f3f-22adad3c45c4",
   "metadata": {},
   "outputs": [],
   "source": [
    "# Define excluded band suffixes\n",
    "exclude_bands = ['ValidMask.vrt', 'count.vrt', 'yearDate.vrt', 'JulianDate.vrt']\n"
   ]
  },
  {
   "cell_type": "code",
   "execution_count": 8,
   "id": "36d39633-e696-4e52-b2ff-0e7e93fac3d8",
   "metadata": {},
   "outputs": [],
   "source": [
    "ZONE_ID_COL = 'zone'\n",
    "BUFFER_METERS = 0"
   ]
  },
  {
   "cell_type": "code",
   "execution_count": 9,
   "id": "61bbeb80-2c3b-4589-8b8d-ce340e4e962d",
   "metadata": {},
   "outputs": [],
   "source": [
    "img_paths = glob.glob(os.path.join(dir_img, \"*.vrt\"))\n",
    "\n",
    "\n",
    "img_paths = [\n",
    "    f for f in img_paths\n",
    "    if not any(f.endswith(ex) for ex in exclude_bands)\n",
    "]"
   ]
  },
  {
   "cell_type": "code",
   "execution_count": 10,
   "id": "cf2f4e08-da80-4dd5-9571-3e27a2204952",
   "metadata": {},
   "outputs": [
    {
     "data": {
      "text/plain": [
       "'/projects//my-private-bucket/HLS-1DCNN-AGB/data/tif/HLS_composites/monthly/br_af_grid60km_prj_evi2_max/vrt/HLS.2018.01.maxevi2.Blue.vrt'"
      ]
     },
     "execution_count": 10,
     "metadata": {},
     "output_type": "execute_result"
    }
   ],
   "source": [
    "img_paths[0]"
   ]
  },
  {
   "cell_type": "code",
   "execution_count": 11,
   "id": "6c5db69c-ec53-4f35-8335-eb5b7c81ead7",
   "metadata": {},
   "outputs": [],
   "source": [
    "# Load the base gdf\n",
    "gdf = gpd.read_file(gpkg_points_path)\n",
    "\n"
   ]
  },
  {
   "cell_type": "code",
   "execution_count": 12,
   "id": "970cdf69-f02f-4ced-b464-61dda0c5de13",
   "metadata": {},
   "outputs": [],
   "source": [
    "# Create ID for the zonal stats\n",
    "if ZONE_ID_COL not in gdf.columns:\n",
    "    gdf = gdf.reset_index(drop=True)\n",
    "    gdf[ZONE_ID_COL] = np.arange(1, len(gdf) + 1, dtype=np.int32)"
   ]
  },
  {
   "cell_type": "code",
   "execution_count": 13,
   "id": "526fa6eb-31ab-443b-8502-641adf6f83a3",
   "metadata": {},
   "outputs": [
    {
     "data": {
      "text/plain": [
       "456"
      ]
     },
     "execution_count": 13,
     "metadata": {},
     "output_type": "execute_result"
    }
   ],
   "source": [
    "len(img_paths)"
   ]
  },
  {
   "cell_type": "code",
   "execution_count": 14,
   "id": "822e6895-aebc-426b-9677-ac8e41c773ed",
   "metadata": {},
   "outputs": [
    {
     "data": {
      "text/plain": [
       "['/projects//my-private-bucket/HLS-1DCNN-AGB/data/tif/HLS_composites/monthly/br_af_grid60km_prj_evi2_max/vrt/HLS.2018.01.maxevi2.Blue.vrt',\n",
       " '/projects//my-private-bucket/HLS-1DCNN-AGB/data/tif/HLS_composites/monthly/br_af_grid60km_prj_evi2_max/vrt/HLS.2018.01.maxevi2.EVI.vrt',\n",
       " '/projects//my-private-bucket/HLS-1DCNN-AGB/data/tif/HLS_composites/monthly/br_af_grid60km_prj_evi2_max/vrt/HLS.2018.01.maxevi2.EVI2.vrt',\n",
       " '/projects//my-private-bucket/HLS-1DCNN-AGB/data/tif/HLS_composites/monthly/br_af_grid60km_prj_evi2_max/vrt/HLS.2018.01.maxevi2.Green.vrt',\n",
       " '/projects//my-private-bucket/HLS-1DCNN-AGB/data/tif/HLS_composites/monthly/br_af_grid60km_prj_evi2_max/vrt/HLS.2018.01.maxevi2.MSAVI.vrt',\n",
       " '/projects//my-private-bucket/HLS-1DCNN-AGB/data/tif/HLS_composites/monthly/br_af_grid60km_prj_evi2_max/vrt/HLS.2018.01.maxevi2.NBR.vrt',\n",
       " '/projects//my-private-bucket/HLS-1DCNN-AGB/data/tif/HLS_composites/monthly/br_af_grid60km_prj_evi2_max/vrt/HLS.2018.01.maxevi2.NBR2.vrt',\n",
       " '/projects//my-private-bucket/HLS-1DCNN-AGB/data/tif/HLS_composites/monthly/br_af_grid60km_prj_evi2_max/vrt/HLS.2018.01.maxevi2.NDMI.vrt',\n",
       " '/projects//my-private-bucket/HLS-1DCNN-AGB/data/tif/HLS_composites/monthly/br_af_grid60km_prj_evi2_max/vrt/HLS.2018.01.maxevi2.NDVI.vrt',\n",
       " '/projects//my-private-bucket/HLS-1DCNN-AGB/data/tif/HLS_composites/monthly/br_af_grid60km_prj_evi2_max/vrt/HLS.2018.01.maxevi2.NIR.vrt']"
      ]
     },
     "execution_count": 14,
     "metadata": {},
     "output_type": "execute_result"
    }
   ],
   "source": [
    "img_paths[0:10]"
   ]
  },
  {
   "cell_type": "code",
   "execution_count": 15,
   "id": "22559603-2b9c-4d1e-830d-c158cebecd85",
   "metadata": {},
   "outputs": [
    {
     "name": "stdout",
     "output_type": "stream",
     "text": [
      "Zonal stats: HLS.2018.01.maxevi2.Blue\n",
      "Zonal stats: HLS.2018.01.maxevi2.EVI\n",
      "Zonal stats: HLS.2018.01.maxevi2.EVI2\n",
      "Zonal stats: HLS.2018.01.maxevi2.Green\n",
      "Zonal stats: HLS.2018.01.maxevi2.MSAVI\n",
      "Zonal stats: HLS.2018.01.maxevi2.NBR\n",
      "Zonal stats: HLS.2018.01.maxevi2.NBR2\n",
      "Zonal stats: HLS.2018.01.maxevi2.NDMI\n",
      "Zonal stats: HLS.2018.01.maxevi2.NDVI\n",
      "Zonal stats: HLS.2018.01.maxevi2.NIR\n",
      "CPU times: user 3min 18s, sys: 30.2 s, total: 3min 48s\n",
      "Wall time: 6min 28s\n"
     ]
    }
   ],
   "source": [
    "%%time\n",
    "# Loop through rasters\n",
    "for img_path in img_paths[0:10]:\n",
    "    # print(img_path)\n",
    "    # Get band name\n",
    "    fname = os.path.basename(img_path)\n",
    "    # print(fname)\n",
    "    # -> \"HLS_89_01-01_12-30_2022_2022_percentile95.0evi2_Blue.vrt\"    \n",
    "    # fn_parts = fname.replace(\".vrt\", \"\").split(\"_\")\n",
    "    \n",
    "    # ['HLS', '89', '01-01', '12-30', '2022', '2022', 'percentile95.0evi2', 'Blue']  \n",
    "    # Rebuild the string to variable name\n",
    "    # band_name = f\"{fn_parts[0]}.{fn_parts[4]}-{fn_parts[2]}.{fn_parts[5]}-{fn_parts[3]}.{fn_parts[-1]}\"\n",
    "    band_name = fname.replace(\".vrt\", \"\")\n",
    "    \n",
    "    print(f'Zonal stats: {band_name}')\n",
    "\n",
    "    \n",
    "    # Run your function (it returns a gdf with ZONE_ID + stats)\n",
    "    out = zonal_stats_raster(gpkg_points_path, img_path, ZONE_ID_COL, BUFFER_METERS, band_name)\n",
    "    \n",
    "    # print(f'Merge: {band_name}')\n",
    "    # # Merge results back into main gdf (on zone_id)\n",
    "    gdf = gdf.merge(out, on=ZONE_ID_COL, how=\"left\")\n",
    "\n",
    "\n",
    "# ~10k points 90 km tile\n",
    "# Wall time: 2min 44s"
   ]
  },
  {
   "cell_type": "code",
   "execution_count": null,
   "id": "bc827002-905b-44c5-96d5-516cf5c1a4e3",
   "metadata": {},
   "outputs": [],
   "source": [
    "\n"
   ]
  },
  {
   "cell_type": "code",
   "execution_count": 14,
   "id": "75dfdda6-1a11-4272-9992-ae3e6a73b938",
   "metadata": {},
   "outputs": [],
   "source": [
    "# gdf.columns"
   ]
  },
  {
   "cell_type": "code",
   "execution_count": 15,
   "id": "10466543-1c84-4610-8104-48c7eab21a54",
   "metadata": {},
   "outputs": [],
   "source": [
    "gdf_stats_nona = gdf.dropna()"
   ]
  },
  {
   "cell_type": "code",
   "execution_count": 16,
   "id": "5ce7a6cd-d159-4692-a6a0-1178d8ce29fc",
   "metadata": {},
   "outputs": [
    {
     "data": {
      "text/plain": [
       "13463"
      ]
     },
     "execution_count": 16,
     "metadata": {},
     "output_type": "execute_result"
    }
   ],
   "source": [
    "len(gdf_stats_nona)"
   ]
  },
  {
   "cell_type": "code",
   "execution_count": 105,
   "id": "966aea67-19e3-43ce-96b1-c066cfa94aaa",
   "metadata": {},
   "outputs": [],
   "source": [
    "# Export gdf_stats\n",
    "gdf_stats_nona.to_file(output_gpkg_zonalstats_fn)\n"
   ]
  },
  {
   "cell_type": "code",
   "execution_count": 106,
   "id": "561bc273-3593-48e2-9229-d6a0813ce99e",
   "metadata": {},
   "outputs": [
    {
     "data": {
      "text/plain": [
       "'/projects/my-private-bucket/HLS-1DCNN-AGB/data/shp/gedi/test/l4a_t90km_t89_veg2022_outrm_zonal_HLS.gpkg'"
      ]
     },
     "execution_count": 106,
     "metadata": {},
     "output_type": "execute_result"
    }
   ],
   "source": [
    "output_gpkg_zonalstats_fn"
   ]
  },
  {
   "cell_type": "code",
   "execution_count": null,
   "id": "4726cb20-3400-4687-8281-e7dd6b174967",
   "metadata": {},
   "outputs": [],
   "source": []
  },
  {
   "cell_type": "markdown",
   "id": "8be3b002-0b26-4b94-9064-bfbca055e295",
   "metadata": {},
   "source": [
    "# Test"
   ]
  },
  {
   "cell_type": "code",
   "execution_count": 81,
   "id": "a53e3dd2-32e3-4fbc-a8e5-2e17acc8b12d",
   "metadata": {},
   "outputs": [],
   "source": [
    "####################################################\n",
    "# 1) Open raster as xarray (single band)\n",
    "####################################################\n",
    "\n",
    "da = rioxarray.open_rasterio(img_path).squeeze()  # [y, x]\n",
    "if 'band' in da.dims:\n",
    "    da = da.squeeze('band', drop=True)\n",
    "    \n",
    "raster_crs = CRS.from_user_input(da.rio.crs)\n",
    "transform  = da.rio.transform()\n",
    "out_shape  = da.shape  # (rows, cols)\n",
    "nodata     = da.rio.nodata\n",
    "\n",
    "da = da.where(da != da.rio.nodata)\n",
    "\n",
    "\n",
    "\n",
    "####################################################\n",
    "# 2) Read points\n",
    "####################################################\n",
    "\n",
    "# Create ID for the zonal stats\n",
    "if ZONE_ID_COL not in gdf.columns:\n",
    "    gdf = gdf.reset_index(drop=True)\n",
    "    gdf[ZONE_ID_COL] = np.arange(1, len(gdf) + 1, dtype=np.int32)\n",
    "\n",
    "\n",
    "\n",
    "####################################################\n",
    "# 3) Reproject to raster CRS and buffer to polygons \n",
    "####################################################\n",
    "\n",
    "gdf_proj = gdf.to_crs(raster_crs)\n",
    "\n",
    "# BUffer\n",
    "if BUFFER_METERS > 0:\n",
    "    gdf_proj[\"geometry\"] = gdf_proj.geometry.buffer(BUFFER_METERS)\n",
    "\n",
    "\n",
    "####################\n",
    "# 4) Build (geometry, id) tuples for rasterization\n",
    "####################\n",
    "geom = list(zip(gdf_proj.geometry, gdf_proj[ZONE_ID_COL]))\n",
    "\n",
    "\n",
    "\n",
    "####################################################\n",
    "# 5) Rasterize zones (same shape/transform as raster)\n",
    "####################################################\n",
    "zones_arr = features.rasterize(\n",
    "    geom,\n",
    "    out_shape=out_shape,\n",
    "    transform=transform,\n",
    "    fill= nodata,\n",
    "    nodata = nodata,\n",
    "    masked = True,\n",
    "    # fill=0,# background (no zone)\n",
    "    dtype=\"int32\",\n",
    "    # all_touched=True\n",
    ")\n",
    "\n",
    "\n",
    "\n",
    "\n"
   ]
  },
  {
   "cell_type": "code",
   "execution_count": 82,
   "id": "92bd1f3b-9145-4ce3-b74f-c724fb8fbd4d",
   "metadata": {},
   "outputs": [],
   "source": [
    "####################################################\n",
    "# # 6) Wrap zones into an xarray aligned with the raster\n",
    "####################################################\n",
    "\n",
    "zones_xarr = da.copy(deep=False)  # copies coords/attrs, not data\n",
    "zones_xarr.data = zones_arr\n",
    "# zones_xarr.attrs[\"nodata\"] = nodata\n",
    "# zones_xarr\n",
    "\n",
    "\n",
    "####################################################\n",
    "# 7) Compute zonal stats using xrspatial (min/max/mean/etc.)\n",
    "####################################################\n",
    "\n",
    "# If your raster has nodata, pass it so stats ignore it\n",
    "zs_df = zonal_stats(\n",
    "    zones=zones_xarr,      # your integer-labeled zone raster\n",
    "    values=da,             # the raster with values to summarize\n",
    "    # stats_funcs=['mean', 'max', 'min', 'sum', 'std', 'var', 'count'],\n",
    "    stats_funcs=['mean'],\n",
    "    nodata_values=nodata,   # very important → ensures nodata is ignored\n",
    "    return_type='pandas.DataFrame'\n",
    ")\n"
   ]
  },
  {
   "cell_type": "code",
   "execution_count": 83,
   "id": "9a06d03e-1d98-4879-8178-45573e9cdc62",
   "metadata": {},
   "outputs": [
    {
     "data": {
      "text/html": [
       "<div>\n",
       "<style scoped>\n",
       "    .dataframe tbody tr th:only-of-type {\n",
       "        vertical-align: middle;\n",
       "    }\n",
       "\n",
       "    .dataframe tbody tr th {\n",
       "        vertical-align: top;\n",
       "    }\n",
       "\n",
       "    .dataframe thead th {\n",
       "        text-align: right;\n",
       "    }\n",
       "</style>\n",
       "<table border=\"1\" class=\"dataframe\">\n",
       "  <thead>\n",
       "    <tr style=\"text-align: right;\">\n",
       "      <th></th>\n",
       "      <th>zone</th>\n",
       "      <th>mean</th>\n",
       "    </tr>\n",
       "  </thead>\n",
       "  <tbody>\n",
       "    <tr>\n",
       "      <th>0</th>\n",
       "      <td>4.0</td>\n",
       "      <td>0.0103</td>\n",
       "    </tr>\n",
       "    <tr>\n",
       "      <th>1</th>\n",
       "      <td>48.0</td>\n",
       "      <td>0.0158</td>\n",
       "    </tr>\n",
       "    <tr>\n",
       "      <th>2</th>\n",
       "      <td>49.0</td>\n",
       "      <td>0.0146</td>\n",
       "    </tr>\n",
       "    <tr>\n",
       "      <th>3</th>\n",
       "      <td>50.0</td>\n",
       "      <td>0.0153</td>\n",
       "    </tr>\n",
       "    <tr>\n",
       "      <th>4</th>\n",
       "      <td>51.0</td>\n",
       "      <td>0.0145</td>\n",
       "    </tr>\n",
       "  </tbody>\n",
       "</table>\n",
       "</div>"
      ],
      "text/plain": [
       "   zone    mean\n",
       "0   4.0  0.0103\n",
       "1  48.0  0.0158\n",
       "2  49.0  0.0146\n",
       "3  50.0  0.0153\n",
       "4  51.0  0.0145"
      ]
     },
     "execution_count": 83,
     "metadata": {},
     "output_type": "execute_result"
    }
   ],
   "source": [
    "zs_df.head()"
   ]
  },
  {
   "cell_type": "code",
   "execution_count": 84,
   "id": "c310970f-ae17-482c-85b1-24e14cd09aff",
   "metadata": {},
   "outputs": [],
   "source": [
    "gdf = gdf.merge(zs_df, on=ZONE_ID_COL, how=\"left\")"
   ]
  },
  {
   "cell_type": "code",
   "execution_count": 85,
   "id": "47f1ccc9-2501-4089-aecb-643946025ae2",
   "metadata": {},
   "outputs": [
    {
     "data": {
      "text/plain": [
       "Index(['time', 'beam', 'elevation', 'shot_number', 'flags', 'sensitivity',\n",
       "       'orbit', 'solar_elevation', 'track', 'agbd', 'year', 'month',\n",
       "       'vegmask_2022', 'geometry', 'zone', 'mean'],\n",
       "      dtype='object')"
      ]
     },
     "execution_count": 85,
     "metadata": {},
     "output_type": "execute_result"
    }
   ],
   "source": [
    "gdf.columns"
   ]
  },
  {
   "cell_type": "code",
   "execution_count": 76,
   "id": "1b0dbcdd-5835-4aef-8d7c-6bbe67b22cbe",
   "metadata": {},
   "outputs": [],
   "source": [
    "\n",
    "\n",
    "\n",
    "\n",
    "####################################################\n",
    "# # Keep only \"mean\" and rename the band\n",
    "####################################################\n",
    "# zs_df = pd.DataFrame({\"mean\": pd.Series(zs[\"mean\"])}).rename_axis(ZONE_ID_COL).reset_index()\n",
    "\n",
    "# Rename column -> e.g. \"evi2_mean\"\n",
    "zs_df = zs_df.rename(columns={\"mean\": f\"{band_name}_mean\"})\n",
    "\n",
    "\n",
    "####################################################\n",
    "# 9) create output with zone id and values\n",
    "####################################################\n",
    "out = (gdf[[ZONE_ID_COL]]\n",
    "       .drop_duplicates()\n",
    "       .merge(zs_df, on=ZONE_ID_COL, how=\"left\"))\n",
    "\n"
   ]
  },
  {
   "cell_type": "code",
   "execution_count": 75,
   "id": "bac2568e-b0f7-411e-9ed7-12cf6898a4f6",
   "metadata": {},
   "outputs": [
    {
     "data": {
      "text/plain": [
       "Index(['time', 'beam', 'elevation', 'shot_number', 'flags', 'sensitivity',\n",
       "       'orbit', 'solar_elevation', 'track', 'agbd', 'year', 'month',\n",
       "       'vegmask_2020', 'geometry', 'zone'],\n",
       "      dtype='object')"
      ]
     },
     "execution_count": 75,
     "metadata": {},
     "output_type": "execute_result"
    }
   ],
   "source": [
    "gdf.columns"
   ]
  },
  {
   "cell_type": "code",
   "execution_count": 70,
   "id": "cd2d5bfa-bd17-4a25-886a-c19cafe05267",
   "metadata": {},
   "outputs": [
    {
     "data": {
      "text/plain": [
       "Index(['time', 'beam', 'elevation', 'shot_number', 'flags', 'sensitivity',\n",
       "       'orbit', 'solar_elevation', 'track', 'agbd', 'year', 'month',\n",
       "       'vegmask_2020', 'geometry', 'zone'],\n",
       "      dtype='object')"
      ]
     },
     "execution_count": 70,
     "metadata": {},
     "output_type": "execute_result"
    }
   ],
   "source": [
    "gdf.columns"
   ]
  },
  {
   "cell_type": "code",
   "execution_count": null,
   "id": "5d28f62c-b561-4136-a128-9cf60190a1f4",
   "metadata": {},
   "outputs": [],
   "source": []
  }
 ],
 "metadata": {
  "kernelspec": {
   "display_name": "Python [conda env:pangeo] *",
   "language": "python",
   "name": "conda-env-pangeo-py"
  },
  "language_info": {
   "codemirror_mode": {
    "name": "ipython",
    "version": 3
   },
   "file_extension": ".py",
   "mimetype": "text/x-python",
   "name": "python",
   "nbconvert_exporter": "python",
   "pygments_lexer": "ipython3",
   "version": "3.12.7"
  }
 },
 "nbformat": 4,
 "nbformat_minor": 5
}
