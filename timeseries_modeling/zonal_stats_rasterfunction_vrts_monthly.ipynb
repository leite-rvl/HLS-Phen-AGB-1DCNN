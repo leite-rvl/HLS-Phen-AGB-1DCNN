{
 "cells": [
  {
   "cell_type": "markdown",
   "id": "d32636d1-c718-4c58-b432-93678affab7d",
   "metadata": {},
   "source": [
    "\"\"\"\n",
    "Script to compute zonal statistics for GEDI L4A points against a multiband HLS raster.\n",
    "Steps:\n",
    "1. Load GEDI L4A geospatial points (optionally buffer it into polygons - ## check errors on rastererization).\n",
    "2. Load single band image - e.g. HLS composite raster for one band.\n",
    "3. Reproject points to raster CRS and rasterize zones.\n",
    "4. Compute per-zone statistics (e.g., mean) using xrspatial.zonal_stats.\n",
    "5. Join results back to the input GeoDataFrame and export to GeoPackage.\n",
    "\"\"\""
   ]
  },
  {
   "cell_type": "code",
   "execution_count": null,
   "id": "8bd3b863-6d96-4661-99ff-96aae6fe1a85",
   "metadata": {},
   "outputs": [],
   "source": []
  },
  {
   "cell_type": "code",
   "execution_count": null,
   "id": "c2458aa3-37d9-4a4f-8ccc-039d590784d4",
   "metadata": {},
   "outputs": [],
   "source": []
  },
  {
   "cell_type": "code",
   "execution_count": 1,
   "id": "7a87305b-d88c-4bd1-a79c-5b0cb734eb4f",
   "metadata": {},
   "outputs": [],
   "source": [
    "import os\n",
    "import glob\n",
    "import numpy as np\n",
    "import geopandas as gpd\n",
    "import rioxarray\n",
    "from rasterio import features\n",
    "from shapely.geometry import Point\n",
    "from xrspatial import zonal_stats\n",
    "import pandas as pd\n",
    "from pyproj import CRS"
   ]
  },
  {
   "cell_type": "code",
   "execution_count": 2,
   "id": "6fc1dc45-c040-47a7-a6cf-df26dd54bef6",
   "metadata": {},
   "outputs": [],
   "source": [
    "import sys\n",
    "sys.path.append('/projects/my-private-bucket/HLS-1DCNN-AGB/code/timeseries_modeling/zonal_stats_vrt_list')\n",
    "from zonal_stats_vrt import run_zonal_stats "
   ]
  },
  {
   "cell_type": "code",
   "execution_count": 3,
   "id": "e0cac7bc-95b8-467a-a5a3-8ad7dcab1163",
   "metadata": {},
   "outputs": [],
   "source": [
    "os.chdir(\"/tmp\")"
   ]
  },
  {
   "cell_type": "code",
   "execution_count": 4,
   "id": "a3e5fbdc-2c7b-4214-8858-77107dd2b0b3",
   "metadata": {},
   "outputs": [],
   "source": [
    "ref_year = 2022\n",
    "ref_tile = 89"
   ]
  },
  {
   "cell_type": "code",
   "execution_count": 5,
   "id": "151c9f01-0402-42e3-9b22-30124310583d",
   "metadata": {},
   "outputs": [],
   "source": [
    "# s3_private_dir_path = 's3://maap-ops-workspace/private/rodrigo.leite'"
   ]
  },
  {
   "cell_type": "code",
   "execution_count": 6,
   "id": "edf8f0e5-ac11-4b09-8362-d7f5ffd57256",
   "metadata": {},
   "outputs": [
    {
     "data": {
      "text/plain": [
       "[]"
      ]
     },
     "execution_count": 6,
     "metadata": {},
     "output_type": "execute_result"
    }
   ],
   "source": [
    "s3_public_dir_path = 's3:/maap-ops-workspace/public/rodrigo.leite'\n",
    "glob.glob(f'/{s3_public_dir_path}/*')"
   ]
  },
  {
   "cell_type": "code",
   "execution_count": 7,
   "id": "a6a4beae-c5b5-4464-8bf8-9e2119d69122",
   "metadata": {},
   "outputs": [
    {
     "data": {
      "text/plain": [
       "'/projects/my-private-bucket/HLS-1DCNN-AGB/data/shp/gedi/test/l4a_t90km_t89_veg2022_outrm.gpkg'"
      ]
     },
     "execution_count": 7,
     "metadata": {},
     "output_type": "execute_result"
    }
   ],
   "source": [
    "gpkg_points_path = f'/projects/my-private-bucket/HLS-1DCNN-AGB/data/shp/gedi/test/l4a_t90km_t{ref_tile}_veg{ref_year}_outrm.gpkg'\n",
    "# gpkg_points_path = f'{s3_private_dir_path}/HLS-1DCNN-AGB/data/shp/gedi/test/l4a_t90km_t{ref_tile}_veg{ref_year}_outrm.gpkg'\n",
    "gpkg_points_path"
   ]
  },
  {
   "cell_type": "code",
   "execution_count": null,
   "id": "b358f0f0-f110-4bb5-93d1-1d6397716518",
   "metadata": {},
   "outputs": [],
   "source": [
    "# Multiband image path\n",
    "# img_path = '/projects/my-private-bucket/HLS-1DCNN-AGB/data/tif/HLS_composites/yearly/br_af_grid90km_evi2_p95/tile_089/bands_vrt/HLS_89_01-01_12-30_2022_2022_percentile95.0evi2_Blue.vrt'\n",
    "\n",
    "# Directory with your raster .vrt files\n",
    "# dir_img = f'/projects/my-private-bucket/HLS-1DCNN-AGB/data/tif/HLS_composites/yearly/br_af_grid90km_evi2_p95/tile_{ref_tile:03}/bands_vrt'\n",
    "# dir_img = '/projects/my-private-bucket/HLS-1DCNN-AGB/data/tif/HLS_composites/monthly/br_af_grid60km_prj_evi2_max/vrt/'\n",
    "dir_img = '/projects/my-private-bucket/HLS-1DCNN-AGB/data/tif/HLS_composites/monthly/br_af_grid60km_prj_evi2_max/vrt_test/'\n",
    "\n",
    "# dir_img"
   ]
  },
  {
   "cell_type": "code",
   "execution_count": null,
   "id": "a5483304-c9f1-47bf-80bf-bdb300c10fa7",
   "metadata": {},
   "outputs": [],
   "source": []
  },
  {
   "cell_type": "code",
   "execution_count": null,
   "id": "c1e59ac5-e726-488d-b415-d34cef59481e",
   "metadata": {},
   "outputs": [],
   "source": [
    "output_gpkg_zonalstats_fn = f'/projects/my-private-bucket/HLS-1DCNN-AGB/data/shp/gedi/l4a_t90km_t{ref_tile}_veg{ref_year}_outrm_zonal_HLS.gpkg'\n",
    "output_gpkg_zonalstats_fn"
   ]
  },
  {
   "cell_type": "code",
   "execution_count": null,
   "id": "b362395b-858d-4e2f-9f3f-22adad3c45c4",
   "metadata": {},
   "outputs": [],
   "source": [
    "# Define excluded band suffixes\n",
    "exclude_bands = ['ValidMask.vrt', 'count.vrt', 'yearDate.vrt', 'JulianDate.vrt']\n"
   ]
  },
  {
   "cell_type": "code",
   "execution_count": null,
   "id": "36d39633-e696-4e52-b2ff-0e7e93fac3d8",
   "metadata": {},
   "outputs": [],
   "source": [
    "ZONE_ID_COL = 'zone'\n",
    "BUFFER_METERS = 0"
   ]
  },
  {
   "cell_type": "code",
   "execution_count": null,
   "id": "ae7083c9-2df4-4413-87c3-8b4c8fa3ffe1",
   "metadata": {},
   "outputs": [],
   "source": []
  },
  {
   "cell_type": "markdown",
   "id": "3c88776d-42bb-4229-a400-383ea46fe95c",
   "metadata": {},
   "source": [
    "## Testing"
   ]
  },
  {
   "cell_type": "code",
   "execution_count": null,
   "id": "08d15afa-b700-4988-9b40-959486efec77",
   "metadata": {},
   "outputs": [],
   "source": [
    "img_paths = glob.glob(f'{dir_img}/*.vrt')\n",
    "\n",
    "\n",
    "img_paths = [\n",
    "    f for f in img_paths\n",
    "    if not any(f.endswith(ex) for ex in exclude_bands)\n",
    "]"
   ]
  },
  {
   "cell_type": "code",
   "execution_count": null,
   "id": "9a92c713-4b06-498f-80a7-f65c7720d1e5",
   "metadata": {},
   "outputs": [],
   "source": [
    "# img_paths[-1]"
   ]
  },
  {
   "cell_type": "code",
   "execution_count": null,
   "id": "1d8b67b7-e0e1-463d-bacf-5de2f833429e",
   "metadata": {},
   "outputs": [],
   "source": [
    "\n",
    "def build_zones_xarr(gpkg_points_path, img_path, ZONE_ID_COL='zone', BUFFER_METERS=0, all_touched=False):\n",
    "    \"\"\"Create a zone-labeled xarray aligned to the raster.\"\"\"\n",
    "    da = rioxarray.open_rasterio(img_path).squeeze()\n",
    "    if 'band' in da.dims:\n",
    "        da = da.squeeze('band', drop=True)\n",
    "\n",
    "    raster_crs = CRS.from_user_input(da.rio.crs)\n",
    "    transform = da.rio.transform()\n",
    "    out_shape = da.shape\n",
    "    nodata = da.rio.nodata\n",
    "\n",
    "    gdf = gpd.read_file(gpkg_points_path)\n",
    "    if ZONE_ID_COL not in gdf.columns:\n",
    "        gdf = gdf.reset_index(drop=True)\n",
    "        gdf[ZONE_ID_COL] = np.arange(1, len(gdf) + 1, dtype=np.int32)\n",
    "\n",
    "    gdf = gdf.to_crs(raster_crs)\n",
    "\n",
    "    if BUFFER_METERS > 0:\n",
    "        gdf[\"geometry\"] = gdf.geometry.buffer(BUFFER_METERS)\n",
    "\n",
    "        \n",
    "     # (geom, value) pairs; ensure values are int32\n",
    "    shapes = list(zip(gdf.geometry, gdf[ZONE_ID_COL].astype(np.int32)))\n",
    "\n",
    "    zones_arr = features.rasterize(\n",
    "        shapes,\n",
    "        out_shape=out_shape,\n",
    "        transform=transform,\n",
    "        fill=nodata,\n",
    "        dtype=\"int32\",\n",
    "        all_touched=all_touched\n",
    "    )\n",
    "\n",
    "    zones_xarr = da.copy(deep=False)\n",
    "    zones_xarr.data = zones_arr\n",
    "    return zones_xarr\n",
    "\n",
    "\n",
    "def zonal_stats_raster(zones_xarr, img_path, band_name='b', ZONE_ID_COL='zone'):\n",
    "    \"\"\"Compute mean zonal stats for a single raster.\"\"\"\n",
    "    da = rioxarray.open_rasterio(img_path).squeeze()\n",
    "    if 'band' in da.dims:\n",
    "        da = da.squeeze('band', drop=True)\n",
    "    nodata = da.rio.nodata\n",
    "    da = da.where(da != nodata)\n",
    "\n",
    "    zs_df = zonal_stats(\n",
    "        zones=zones_xarr,\n",
    "        values=da,\n",
    "        stats_funcs=['mean'],\n",
    "        nodata_values=nodata#,\n",
    "        # return_type='pandas.DataFrame'\n",
    "    )\n",
    "\n",
    "    zs_df = zs_df.rename(columns={'mean': f'{band_name}_mean'})\n",
    "    return zs_df\n",
    "\n",
    "\n",
    "def run_zonal_stats(gpkg_points_path, dir_img, output_path, ZONE_ID_COL='zone', BUFFER_METERS=0, exclude_bands=None):\n",
    "    \"\"\"Run zonal stats for all rasters in directory and save merged output.\"\"\"\n",
    "    if exclude_bands is None:\n",
    "        exclude_bands = []\n",
    "\n",
    "    img_paths = [\n",
    "        f for f in glob.glob(os.path.join(dir_img, \"*.vrt\"))\n",
    "        if not any(f.endswith(ex) for ex in exclude_bands)\n",
    "    ]\n",
    "\n",
    "    gdf = gpd.read_file(gpkg_points_path)\n",
    "    if ZONE_ID_COL not in gdf.columns:\n",
    "        gdf = gdf.reset_index(drop=True)\n",
    "        gdf[ZONE_ID_COL] = np.arange(1, len(gdf) + 1, dtype=np.int32)\n",
    "\n",
    "    zones_xarr = build_zones_xarr(gpkg_points_path, img_paths[0], ZONE_ID_COL, BUFFER_METERS)\n",
    "    \n",
    "    for i, img_path in enumerate(img_paths, 1):\n",
    "        band_name = os.path.basename(img_path).replace('.vrt', '')\n",
    "        print(f\"[{i}/{len(img_paths)}] Processing {band_name}...\")\n",
    "        try:\n",
    "            out = zonal_stats_raster(zones_xarr, img_path, band_name, ZONE_ID_COL)\n",
    "            # import pdb; pdb.set_trace();\n",
    "            gdf = gdf.merge(out, on=ZONE_ID_COL, how='left')\n",
    "        except Exception as e:\n",
    "            print(f\"❌ Error on {band_name}: {e}\")\n",
    "\n",
    "    gdf.to_file(output_path)\n",
    "    print(f\"✅ Saved: {output_path}\")\n",
    "    return gdf\n"
   ]
  },
  {
   "cell_type": "code",
   "execution_count": null,
   "id": "d51de4f4-1fac-4df7-b4c4-a7651034c042",
   "metadata": {},
   "outputs": [],
   "source": [
    "# zonal_stats?"
   ]
  },
  {
   "cell_type": "code",
   "execution_count": null,
   "id": "d71e098e-14d4-448a-9e66-70dd40986d20",
   "metadata": {},
   "outputs": [],
   "source": [
    "xarr_test = build_zones_xarr(gpkg_points_path=gpkg_points_path, \n",
    "                             img_path = img_paths[0], \n",
    "                             ZONE_ID_COL='zone', \n",
    "                             BUFFER_METERS=0, \n",
    "                             all_touched=True)"
   ]
  },
  {
   "cell_type": "code",
   "execution_count": null,
   "id": "53fb2497-4a54-457a-b1b7-20ba85412ce6",
   "metadata": {},
   "outputs": [],
   "source": [
    "np.unique(xarr_test.data)"
   ]
  },
  {
   "cell_type": "code",
   "execution_count": null,
   "id": "3a466e56-de18-4ea8-9f21-5dd48aaaabe6",
   "metadata": {},
   "outputs": [],
   "source": [
    "band_name = os.path.basename(img_paths[0]).replace('.vrt', '')\n",
    "band_name"
   ]
  },
  {
   "cell_type": "code",
   "execution_count": null,
   "id": "2ff8af6c-91d0-46b0-90a3-6cea38d5e7d4",
   "metadata": {},
   "outputs": [],
   "source": [
    "myzonal_test = zonal_stats_raster(zones_xarr = xarr_test, \n",
    "                                  img_path = img_paths[0], \n",
    "                                  band_name=band_name, \n",
    "                                  ZONE_ID_COL='zone')"
   ]
  },
  {
   "cell_type": "code",
   "execution_count": null,
   "id": "d0a90969-e604-486a-b539-fadf2d578724",
   "metadata": {},
   "outputs": [],
   "source": [
    "myzonal_test"
   ]
  },
  {
   "cell_type": "code",
   "execution_count": null,
   "id": "df5e208a-1257-4d63-b862-83a98acf5dfc",
   "metadata": {},
   "outputs": [],
   "source": [
    "len(myzonal_test)"
   ]
  },
  {
   "cell_type": "code",
   "execution_count": null,
   "id": "a101c640-1ab0-49cf-b0c9-3ca217e05831",
   "metadata": {},
   "outputs": [],
   "source": []
  },
  {
   "cell_type": "code",
   "execution_count": null,
   "id": "47660d4a-807a-47e6-9237-b89b9676fd53",
   "metadata": {},
   "outputs": [],
   "source": [
    "gdf_test = gpd.read_file(gpkg_points_path)\n",
    "# Create ID for the zonal stats\n",
    "if ZONE_ID_COL not in gdf.columns:\n",
    "    gdf = gdf.reset_index(drop=True)\n",
    "    gdf[ZONE_ID_COL] = np.arange(1, len(gdf) + 1, dtype=np.int32)\n",
    "len(gdf_test)"
   ]
  },
  {
   "cell_type": "code",
   "execution_count": null,
   "id": "3b4ca4df-dbbb-46f0-8c53-598057678d81",
   "metadata": {},
   "outputs": [],
   "source": []
  },
  {
   "cell_type": "code",
   "execution_count": null,
   "id": "d78d10c1-0efa-45f4-a400-cc908e2de00e",
   "metadata": {},
   "outputs": [],
   "source": []
  },
  {
   "cell_type": "code",
   "execution_count": null,
   "id": "d2162897-8046-4965-bfdd-8d4527c47bc4",
   "metadata": {},
   "outputs": [],
   "source": [
    "run_zonal_stats(\n",
    "    gpkg_points_path=gpkg_points_path,\n",
    "    dir_img=dir_img,\n",
    "    output_path=output_gpkg_zonalstats_fn,\n",
    "    ZONE_ID_COL=ZONE_ID_COL, \n",
    "    BUFFER_METERS=BUFFER_METERS, \n",
    "    exclude_bands=exclude_bands\n",
    ")"
   ]
  },
  {
   "cell_type": "code",
   "execution_count": null,
   "id": "52cccd9c-ca99-49ec-8ee4-2142409d244c",
   "metadata": {},
   "outputs": [],
   "source": []
  },
  {
   "cell_type": "code",
   "execution_count": null,
   "id": "5e7f66d3-37fd-413c-b81b-00be6fbcd040",
   "metadata": {},
   "outputs": [],
   "source": []
  },
  {
   "cell_type": "code",
   "execution_count": null,
   "id": "877123d8-c748-4747-a0ee-748c76016420",
   "metadata": {},
   "outputs": [],
   "source": []
  },
  {
   "cell_type": "code",
   "execution_count": null,
   "id": "7b5963f7-385c-40e1-882b-b285c3637085",
   "metadata": {},
   "outputs": [],
   "source": []
  },
  {
   "cell_type": "code",
   "execution_count": null,
   "id": "c4b24d07-5e32-4a83-b1b6-f1102776764d",
   "metadata": {},
   "outputs": [],
   "source": [
    "# Test functions"
   ]
  },
  {
   "cell_type": "code",
   "execution_count": null,
   "id": "a93995df-c504-4c3e-8cce-c71d902ba319",
   "metadata": {},
   "outputs": [],
   "source": [
    "%%time\n",
    "\n",
    "# Create gpkg array to do zonal_stats\n",
    "zones_xarr = build_zones_xarr(gpkg_points_path,\n",
    "                     img_paths[0],\n",
    "                     ZONE_ID_COL='zone',\n",
    "                     BUFFER_METERS=0,\n",
    "                     all_touched=False)\n",
    "\n",
    "error_band = None\n",
    "error_idx = None\n",
    "\n",
    "for i, img_path in enumerate(img_paths):\n",
    "    try:\n",
    "        os.chdir(\"/tmp\")\n",
    "        fname = os.path.basename(img_path)\n",
    "        band_name = fname.replace(\".vrt\", \"\")\n",
    "        print(f'[{i}] Zonal stats: {band_name}')\n",
    "\n",
    "        out = zonal_stats_raster(zones_xarr = zones_xarr, \n",
    "                                 img_path = img_path, \n",
    "                                 ZONE_ID_COL = ZONE_ID_COL, \n",
    "                                 BUFFER_METERS = BUFFER_METERS, \n",
    "                                 band_name = band_name)\n",
    "        \n",
    "        gdf = gdf.merge(out, on=ZONE_ID_COL, how=\"left\")\n",
    "\n",
    "    except Exception as e:\n",
    "        print(\"\\n❌ Error at index:\", i)\n",
    "        print(\"Band name:\", band_name)\n",
    "        print(\"File:\", img_path)\n",
    "        print(\"Error:\", e, \"\\n\")\n",
    "\n",
    "        error_band = band_name\n",
    "        error_idx = i\n",
    "        break\n",
    "\n",
    "        "
   ]
  },
  {
   "cell_type": "code",
   "execution_count": null,
   "id": "db4a904b-fef1-45de-89ae-1e80a9268aff",
   "metadata": {},
   "outputs": [],
   "source": [
    "print(\"Error index:\", error_idx)\n",
    "print(\"Error band:\", error_band)"
   ]
  },
  {
   "cell_type": "code",
   "execution_count": null,
   "id": "00ae0863-8a34-4c78-924d-650ab4abc6f3",
   "metadata": {},
   "outputs": [],
   "source": [
    "# Error at index: 95\n",
    "# Wall time: 52min 54s"
   ]
  },
  {
   "cell_type": "code",
   "execution_count": null,
   "id": "ecd6ce60-c445-45d9-96f5-95fd845c5bf5",
   "metadata": {},
   "outputs": [],
   "source": [
    "start_idx = error_idx if 'error_idx' in locals() and error_idx is not None else 0\n",
    "\n",
    "for i, img_path in enumerate(img_paths[start_idx:], start=start_idx):\n",
    "    try:\n",
    "        os.chdir(\"/tmp\")\n",
    "        fname = os.path.basename(img_path)\n",
    "        band_name = fname.replace(\".vrt\", \"\")\n",
    "        print(f'[{i}] Zonal stats: {band_name}')\n",
    "\n",
    "        out = zonal_stats_raster(gpkg_points_path, img_path, ZONE_ID_COL, BUFFER_METERS, band_name)\n",
    "        gdf = gdf.merge(out, on=ZONE_ID_COL, how=\"left\")\n",
    "\n",
    "    except Exception as e:\n",
    "        print(\"\\n❌ Error at index:\", i)\n",
    "        print(\"Band name:\", band_name)\n",
    "        print(\"File:\", img_path)\n",
    "        print(\"Error:\", e, \"\\n\")\n",
    "\n",
    "        error_band = band_name\n",
    "        error_idx = i\n",
    "        break\n"
   ]
  },
  {
   "cell_type": "code",
   "execution_count": null,
   "id": "d8798379-1e21-4342-954b-06b44abf16c6",
   "metadata": {},
   "outputs": [],
   "source": [
    "print(\"Error index:\", error_idx)\n",
    "print(\"Error band:\", error_band)"
   ]
  },
  {
   "cell_type": "code",
   "execution_count": null,
   "id": "75dfdda6-1a11-4272-9992-ae3e6a73b938",
   "metadata": {},
   "outputs": [],
   "source": [
    "gdf.columns"
   ]
  },
  {
   "cell_type": "code",
   "execution_count": null,
   "id": "ab4ef05f-aa9d-41cc-b5e5-69d0b0f1aa18",
   "metadata": {},
   "outputs": [],
   "source": [
    "# gdf.head()"
   ]
  },
  {
   "cell_type": "code",
   "execution_count": null,
   "id": "f70bc1ed-bb36-4574-add8-b0741699be7b",
   "metadata": {},
   "outputs": [],
   "source": [
    "output_gpkg_zonalstats_withoutliers_fn = '/projects/my-private-bucket/HLS-1DCNN-AGB/data/shp/gedi/l4a_t90km_t89_veg2022_zonal_HLS.gpkg'"
   ]
  },
  {
   "cell_type": "code",
   "execution_count": null,
   "id": "d533c216-f2d8-445f-b9cd-08d557ad4e7b",
   "metadata": {},
   "outputs": [],
   "source": [
    "# Export gdf_stats\n",
    "gdf.to_file(output_gpkg_zonalstats_withoutliers_fn)"
   ]
  },
  {
   "cell_type": "code",
   "execution_count": null,
   "id": "10466543-1c84-4610-8104-48c7eab21a54",
   "metadata": {},
   "outputs": [],
   "source": [
    "gdf_stats_nona = gdf.dropna()"
   ]
  },
  {
   "cell_type": "code",
   "execution_count": null,
   "id": "d5c7f759-0c4f-410e-ad40-b4601d3790c6",
   "metadata": {},
   "outputs": [],
   "source": [
    "len(gdf)"
   ]
  },
  {
   "cell_type": "code",
   "execution_count": null,
   "id": "5ce7a6cd-d159-4692-a6a0-1178d8ce29fc",
   "metadata": {},
   "outputs": [],
   "source": [
    "len(gdf_stats_nona)"
   ]
  },
  {
   "cell_type": "code",
   "execution_count": null,
   "id": "c8481453-1d63-4ade-8a00-ae9a5979e9ec",
   "metadata": {},
   "outputs": [],
   "source": [
    "output_gpkg_zonalstats_fn"
   ]
  },
  {
   "cell_type": "code",
   "execution_count": null,
   "id": "966aea67-19e3-43ce-96b1-c066cfa94aaa",
   "metadata": {},
   "outputs": [],
   "source": [
    "# Export gdf_stats\n",
    "gdf_stats_nona.to_file(output_gpkg_zonalstats_fn)\n"
   ]
  },
  {
   "cell_type": "code",
   "execution_count": null,
   "id": "561bc273-3593-48e2-9229-d6a0813ce99e",
   "metadata": {},
   "outputs": [],
   "source": [
    "output_gpkg_zonalstats_fn"
   ]
  },
  {
   "cell_type": "code",
   "execution_count": null,
   "id": "77d7b0a3-deb5-4e54-85da-1164339b49e4",
   "metadata": {},
   "outputs": [],
   "source": []
  },
  {
   "cell_type": "code",
   "execution_count": null,
   "id": "01e5d2d2-9e66-44f8-a4ea-dd781558fdec",
   "metadata": {},
   "outputs": [],
   "source": []
  },
  {
   "cell_type": "code",
   "execution_count": null,
   "id": "d51c0724-8c26-446e-9307-a5c2ebc25f71",
   "metadata": {},
   "outputs": [],
   "source": []
  },
  {
   "cell_type": "code",
   "execution_count": null,
   "id": "c079f249-b085-4efe-912d-56dce32e054c",
   "metadata": {},
   "outputs": [],
   "source": []
  },
  {
   "cell_type": "code",
   "execution_count": null,
   "id": "2eb9ebc4-bcd2-49dd-9ee0-2a90f1a0c59c",
   "metadata": {},
   "outputs": [],
   "source": []
  },
  {
   "cell_type": "markdown",
   "id": "d4319900-03e6-4c3b-9f2f-84bc693bab76",
   "metadata": {},
   "source": [
    "# Test dask"
   ]
  },
  {
   "cell_type": "code",
   "execution_count": null,
   "id": "0b25343c-2313-4600-88e3-902cd58f79ad",
   "metadata": {},
   "outputs": [],
   "source": []
  },
  {
   "cell_type": "code",
   "execution_count": null,
   "id": "4726cb20-3400-4687-8281-e7dd6b174967",
   "metadata": {},
   "outputs": [],
   "source": [
    "def zonal_stats_raster_dask(\n",
    "    gpkg_points_path,\n",
    "    img_path,\n",
    "    ZONE_ID_COL=\"zone\",\n",
    "    BUFFER_METERS=0,\n",
    "    band_name=\"b\",\n",
    "    chunks=\"auto\",                 # e.g., {'y': 2048, 'x': 2048}\n",
    "    all_touched=True,\n",
    "    compute=True                   # if False, return a lazy dask object\n",
    "):\n",
    "    import numpy as np\n",
    "    import geopandas as gpd\n",
    "    import rioxarray\n",
    "    import xarray as xr\n",
    "    from rasterio import features\n",
    "    from pyproj import CRS\n",
    "\n",
    "    # 1) Open raster lazily with chunks\n",
    "    da = rioxarray.open_rasterio(img_path, chunks=chunks).squeeze()\n",
    "    if \"band\" in da.dims:\n",
    "        da = da.squeeze(\"band\", drop=True)\n",
    "\n",
    "    raster_crs = CRS.from_user_input(da.rio.crs)\n",
    "    transform  = da.rio.transform()\n",
    "    out_shape  = da.shape\n",
    "    raster_nodata = da.rio.nodata\n",
    "    if raster_nodata is not None:\n",
    "        da = da.where(da != raster_nodata)\n",
    "\n",
    "    # 2) Read points\n",
    "    gdf = gpd.read_file(gpkg_points_path)\n",
    "    if ZONE_ID_COL not in gdf.columns:\n",
    "        gdf = gdf.reset_index(drop=True)\n",
    "        gdf[ZONE_ID_COL] = np.arange(1, len(gdf) + 1, dtype=np.int32)\n",
    "\n",
    "    # 3) Reproject + buffer\n",
    "    gdf_proj = gdf.to_crs(raster_crs)\n",
    "    if BUFFER_METERS and BUFFER_METERS > 0:\n",
    "        gdf_proj[\"geometry\"] = gdf_proj.geometry.buffer(BUFFER_METERS)\n",
    "\n",
    "    # 4) Rasterize zones (this part is still eager, but we re-chunk after)\n",
    "    shapes = list(zip(gdf_proj.geometry, gdf_proj[ZONE_ID_COL].astype(np.int32)))\n",
    "    zones_np = features.rasterize(\n",
    "        shapes=shapes,\n",
    "        out_shape=out_shape,\n",
    "        transform=transform,\n",
    "        fill=0,\n",
    "        dtype=\"int32\",\n",
    "        all_touched=all_touched,\n",
    "    )\n",
    "\n",
    "    # 5) Wrap zones as DataArray and align chunks with the raster\n",
    "    zones = xr.DataArray(\n",
    "        zones_np, coords=da.coords, dims=da.dims, name=\"zones\"\n",
    "    ).chunk(da.chunks)\n",
    "\n",
    "    # 6) Stack to 1D and drop nodata pixels lazily\n",
    "    ds = xr.Dataset({\"val\": da, \"zone\": zones})\n",
    "    stacked = ds.stack(z=(\"y\", \"x\"))\n",
    "    if raster_nodata is not None:\n",
    "        stacked = stacked.dropna(\"z\", subset=[\"val\"])\n",
    "\n",
    "    # 7) Dask-backed groupby/mean by zone (lazy until .compute())\n",
    "    means = stacked[\"val\"].groupby(stacked[\"zone\"]).mean()\n",
    "\n",
    "    if not compute:\n",
    "        # Return lazy xarray object; user can .compute() later\n",
    "        return means.rename(f\"{band_name}_mean\")\n",
    "\n",
    "    # 8) Materialize and convert to pandas only at the end\n",
    "    means_pd = means.compute().to_dataframe(name=f\"{band_name}_mean\").reset_index()\n",
    "    means_pd = means_pd.rename(columns={\"zone\": ZONE_ID_COL})\n",
    "    # drop background zone 0 if present\n",
    "    means_pd = means_pd[means_pd[ZONE_ID_COL] != 0]\n",
    "\n",
    "    return means_pd\n"
   ]
  },
  {
   "cell_type": "markdown",
   "id": "8be3b002-0b26-4b94-9064-bfbca055e295",
   "metadata": {},
   "source": [
    "# Test"
   ]
  },
  {
   "cell_type": "code",
   "execution_count": null,
   "id": "a53e3dd2-32e3-4fbc-a8e5-2e17acc8b12d",
   "metadata": {},
   "outputs": [],
   "source": [
    "####################################################\n",
    "# 1) Open raster as xarray (single band)\n",
    "####################################################\n",
    "\n",
    "da = rioxarray.open_rasterio(img_path).squeeze()  # [y, x]\n",
    "if 'band' in da.dims:\n",
    "    da = da.squeeze('band', drop=True)\n",
    "    \n",
    "raster_crs = CRS.from_user_input(da.rio.crs)\n",
    "transform  = da.rio.transform()\n",
    "out_shape  = da.shape  # (rows, cols)\n",
    "nodata     = da.rio.nodata\n",
    "\n",
    "da = da.where(da != da.rio.nodata)\n",
    "\n",
    "\n",
    "\n",
    "####################################################\n",
    "# 2) Read points\n",
    "####################################################\n",
    "\n",
    "# Create ID for the zonal stats\n",
    "if ZONE_ID_COL not in gdf.columns:\n",
    "    gdf = gdf.reset_index(drop=True)\n",
    "    gdf[ZONE_ID_COL] = np.arange(1, len(gdf) + 1, dtype=np.int32)\n",
    "\n",
    "\n",
    "\n",
    "####################################################\n",
    "# 3) Reproject to raster CRS and buffer to polygons \n",
    "####################################################\n",
    "\n",
    "gdf_proj = gdf.to_crs(raster_crs)\n",
    "\n",
    "# BUffer\n",
    "if BUFFER_METERS > 0:\n",
    "    gdf_proj[\"geometry\"] = gdf_proj.geometry.buffer(BUFFER_METERS)\n",
    "\n",
    "\n",
    "####################\n",
    "# 4) Build (geometry, id) tuples for rasterization\n",
    "####################\n",
    "geom = list(zip(gdf_proj.geometry, gdf_proj[ZONE_ID_COL]))\n",
    "\n",
    "\n",
    "\n",
    "####################################################\n",
    "# 5) Rasterize zones (same shape/transform as raster)\n",
    "####################################################\n",
    "zones_arr = features.rasterize(\n",
    "    geom,\n",
    "    out_shape=out_shape,\n",
    "    transform=transform,\n",
    "    fill= nodata,\n",
    "    nodata = nodata,\n",
    "    masked = True,\n",
    "    # fill=0,# background (no zone)\n",
    "    dtype=\"int32\",\n",
    "    # all_touched=True\n",
    ")\n",
    "\n",
    "\n",
    "\n",
    "\n"
   ]
  },
  {
   "cell_type": "code",
   "execution_count": null,
   "id": "92bd1f3b-9145-4ce3-b74f-c724fb8fbd4d",
   "metadata": {},
   "outputs": [],
   "source": [
    "####################################################\n",
    "# # 6) Wrap zones into an xarray aligned with the raster\n",
    "####################################################\n",
    "\n",
    "zones_xarr = da.copy(deep=False)  # copies coords/attrs, not data\n",
    "zones_xarr.data = zones_arr\n",
    "# zones_xarr.attrs[\"nodata\"] = nodata\n",
    "# zones_xarr\n",
    "\n",
    "\n",
    "####################################################\n",
    "# 7) Compute zonal stats using xrspatial (min/max/mean/etc.)\n",
    "####################################################\n",
    "\n",
    "# If your raster has nodata, pass it so stats ignore it\n",
    "zs_df = zonal_stats(\n",
    "    zones=zones_xarr,      # your integer-labeled zone raster\n",
    "    values=da,             # the raster with values to summarize\n",
    "    # stats_funcs=['mean', 'max', 'min', 'sum', 'std', 'var', 'count'],\n",
    "    stats_funcs=['mean'],\n",
    "    nodata_values=nodata,   # very important → ensures nodata is ignored\n",
    "    return_type='pandas.DataFrame'\n",
    ")\n"
   ]
  },
  {
   "cell_type": "code",
   "execution_count": null,
   "id": "9a06d03e-1d98-4879-8178-45573e9cdc62",
   "metadata": {},
   "outputs": [],
   "source": [
    "zs_df.head()"
   ]
  },
  {
   "cell_type": "code",
   "execution_count": null,
   "id": "c310970f-ae17-482c-85b1-24e14cd09aff",
   "metadata": {},
   "outputs": [],
   "source": [
    "gdf = gdf.merge(zs_df, on=ZONE_ID_COL, how=\"left\")"
   ]
  },
  {
   "cell_type": "code",
   "execution_count": null,
   "id": "47f1ccc9-2501-4089-aecb-643946025ae2",
   "metadata": {},
   "outputs": [],
   "source": [
    "gdf.columns"
   ]
  },
  {
   "cell_type": "code",
   "execution_count": null,
   "id": "1b0dbcdd-5835-4aef-8d7c-6bbe67b22cbe",
   "metadata": {},
   "outputs": [],
   "source": [
    "\n",
    "\n",
    "\n",
    "\n",
    "####################################################\n",
    "# # Keep only \"mean\" and rename the band\n",
    "####################################################\n",
    "# zs_df = pd.DataFrame({\"mean\": pd.Series(zs[\"mean\"])}).rename_axis(ZONE_ID_COL).reset_index()\n",
    "\n",
    "# Rename column -> e.g. \"evi2_mean\"\n",
    "zs_df = zs_df.rename(columns={\"mean\": f\"{band_name}_mean\"})\n",
    "\n",
    "\n",
    "####################################################\n",
    "# 9) create output with zone id and values\n",
    "####################################################\n",
    "out = (gdf[[ZONE_ID_COL]]\n",
    "       .drop_duplicates()\n",
    "       .merge(zs_df, on=ZONE_ID_COL, how=\"left\"))\n",
    "\n"
   ]
  },
  {
   "cell_type": "code",
   "execution_count": null,
   "id": "bac2568e-b0f7-411e-9ed7-12cf6898a4f6",
   "metadata": {},
   "outputs": [],
   "source": [
    "gdf.columns"
   ]
  },
  {
   "cell_type": "code",
   "execution_count": null,
   "id": "cd2d5bfa-bd17-4a25-886a-c19cafe05267",
   "metadata": {},
   "outputs": [],
   "source": [
    "gdf.columns"
   ]
  },
  {
   "cell_type": "code",
   "execution_count": null,
   "id": "5d28f62c-b561-4136-a128-9cf60190a1f4",
   "metadata": {},
   "outputs": [],
   "source": []
  }
 ],
 "metadata": {
  "kernelspec": {
   "display_name": "Python [conda env:pangeo] *",
   "language": "python",
   "name": "conda-env-pangeo-py"
  },
  "language_info": {
   "codemirror_mode": {
    "name": "ipython",
    "version": 3
   },
   "file_extension": ".py",
   "mimetype": "text/x-python",
   "name": "python",
   "nbconvert_exporter": "python",
   "pygments_lexer": "ipython3",
   "version": "3.12.7"
  }
 },
 "nbformat": 4,
 "nbformat_minor": 5
}
