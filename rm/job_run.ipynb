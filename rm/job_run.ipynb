{
 "cells": [
  {
   "cell_type": "code",
   "execution_count": 7,
   "id": "da19b9fa-277f-4f79-9770-bb361d2ec3ce",
   "metadata": {},
   "outputs": [],
   "source": [
    "import maap"
   ]
  },
  {
   "cell_type": "code",
   "execution_count": 10,
   "id": "0865cdd2-7693-4b4e-9e06-dc45d4aaa513",
   "metadata": {},
   "outputs": [],
   "source": [
    "from maap.maap import MAAP\n",
    "maap = MAAP()\n",
    "\n",
    "import fiona\n",
    "import os\n",
    "from calendar import monthrange\n",
    "\n",
    "# Input GPKG and output path\n",
    "INDEX_FN = '/projects/my-private-bucket/HLS/data/shp/atlantic_forest/tiles/br_af_grid90km_prj.gpkg'\n",
    "INDEX_LYR = 'br_af_grid90km_prj'\n",
    "BASE_OUTDIR = '/projects/my-private-bucket/HLS/data/tif/monthly_composites_jobtest/'\n",
    "\n",
    "# Parameters\n",
    "SAT_API = 'https://cmr.earthdata.nasa.gov/stac/LPCLOUD'\n",
    "MS_COMP_TYPE = 'HLS'\n",
    "HLS_PRODUCT = 'H30'\n",
    "STAT = 'percentile'\n",
    "STAT_PCT = 50.0\n",
    "TARGET_SPECTRAL = 'ndvi'\n",
    "MIN_N_FILT_RESULTS = 10\n",
    "MAX_CLOUDS = 0\n",
    "\n",
    "# List of tiles\n",
    "with fiona.open(INDEX_FN, layer=INDEX_LYR) as src:\n",
    "    tiles = [feature[\"properties\"][\"tile_num\"] for feature in src]\n",
    "\n",
    "\n"
   ]
  },
  {
   "cell_type": "code",
   "execution_count": 4,
   "id": "681354a6-dc9b-46ac-a77a-9a495a729511",
   "metadata": {},
   "outputs": [],
   "source": [
    "# Custom testing\n",
    "tiles = [5, 10]\n",
    "years = [2022]"
   ]
  },
  {
   "cell_type": "code",
   "execution_count": 5,
   "id": "8112b614-eed7-41c2-a322-f1726033bf72",
   "metadata": {},
   "outputs": [],
   "source": [
    "for tile in tiles:\n",
    "    for year in years:\n",
    "        for month in range(2, 4):\n",
    "            start_month_day = f\"{month:02d}-01\"\n",
    "            end_month_day = f\"{month:02d}-{monthrange(year, month)[1]:02d}\"\n",
    "\n",
    "            outdir = f\"{BASE_OUTDIR}/tile_{tile:03d}/{year}/{month:02d}\"\n",
    "\n",
    "            # Submit job to MAAP\n",
    "            maap.submitJob(\n",
    "                \n",
    "                identifier=f\"HLS_tile{tile}_yr{year}_mo{month}\",\n",
    "                algo_id=\"run_build_ms_composite\",\n",
    "                version=\"build_ms_composite_v1\",\n",
    "                queue=\"maap-dps-worker-8gb\",\n",
    "                \n",
    "                in_tile_fn=INDEX_FN,\n",
    "                in_tile_num=str(tile),\n",
    "                in_tile_layer=INDEX_LYR,\n",
    "                sat_api=SAT_API,\n",
    "                tile_buffer_m=\"0\",\n",
    "                start_year=str(year),\n",
    "                end_year=str(year),\n",
    "                start_month_day=start_month_day,\n",
    "                end_month_day=end_month_day,\n",
    "                max_cloud=str(MAX_CLOUDS),\n",
    "                composite_type=MS_COMP_TYPE,\n",
    "                shape=\"polygon\",\n",
    "                hls_product=HLS_PRODUCT,\n",
    "                thresh_min_ndvi=\"-1\",\n",
    "                min_n_filt_results=str(MIN_N_FILT_RESULTS),\n",
    "                stat=STAT,\n",
    "                stat_pct=str(STAT_PCT),\n",
    "                target_spectral_index=TARGET_SPECTRAL\n",
    "            )\n"
   ]
  },
  {
   "cell_type": "code",
   "execution_count": null,
   "id": "21555e4a-e782-429e-950e-bb4399909bcd",
   "metadata": {},
   "outputs": [],
   "source": []
  },
  {
   "cell_type": "code",
   "execution_count": null,
   "id": "c37a1522-f1fe-4138-9d56-d99c17cd4181",
   "metadata": {},
   "outputs": [],
   "source": [
    "maap.submitJob(\n",
    "    identifier=\"hls_monthly_ndvi_composites\",\n",
    "    algo_id=\"run_build_ms_composite\",\n",
    "    version=\"build_ms_composite_v1\",\n",
    "    queue=\"maap-dps-worker-8gb\",\n",
    "    in_tile_fn=\"/projects/my-private-bucket/HLS/data/shp/atlantic_forest/tiles/br_af_grid90km_prj.gpkg\",\n",
    "    in_tile_num= [5,10],\n",
    "    in_tile_layer=\"br_af_grid90km_prj\",\n",
    "    sat_api=\"https://cmr.earthdata.nasa.gov/stac/LPCLOUD\",\n",
    "    tile_buffer_m=\"0\",\n",
    "    start_year=\"2022\",\n",
    "    end_year=\"2022\",\n",
    "    start_month_day=\"06-01\",\n",
    "    end_month_day=\"08-31\",\n",
    "    max_cloud=\"0\",\n",
    "    composite_type=\"HLS\",\n",
    "    shape=\"polygon\",\n",
    "    hls_product=\"H30\",\n",
    "    thresh_min_ndvi=\"0.2\",\n",
    "    min_n_filt_results=\"10\",\n",
    "    stat=\"percentile\",\n",
    "    stat_pct=\"50.0\",\n",
    "    target_spectral_index=\"ndvi\"\n",
    ")"
   ]
  }
 ],
 "metadata": {
  "kernelspec": {
   "display_name": "Python [conda env:pangeo] *",
   "language": "python",
   "name": "conda-env-pangeo-py"
  },
  "language_info": {
   "codemirror_mode": {
    "name": "ipython",
    "version": 3
   },
   "file_extension": ".py",
   "mimetype": "text/x-python",
   "name": "python",
   "nbconvert_exporter": "python",
   "pygments_lexer": "ipython3",
   "version": "3.12.7"
  }
 },
 "nbformat": 4,
 "nbformat_minor": 5
}
