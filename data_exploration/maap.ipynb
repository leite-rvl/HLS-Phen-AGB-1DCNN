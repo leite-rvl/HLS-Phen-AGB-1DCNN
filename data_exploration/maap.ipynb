{
 "cells": [
  {
   "cell_type": "code",
   "execution_count": 7,
   "id": "bcbaf52f-30b4-4c2f-8be7-70f0b5e795f0",
   "metadata": {},
   "outputs": [],
   "source": [
    "from maap.maap import MAAP\n",
    "from pystac_client import Client\n",
    "import boto3"
   ]
  },
  {
   "cell_type": "code",
   "execution_count": 8,
   "id": "98ac2891-26a2-4e2e-9dfb-8278356dfc7c",
   "metadata": {},
   "outputs": [],
   "source": [
    "# Connect to MAAP API and S3\n",
    "maap = MAAP()\n",
    "s3 = boto3.client(\"s3\", region_name=\"us-west-2\")"
   ]
  },
  {
   "cell_type": "code",
   "execution_count": 9,
   "id": "7b9e36ce-418a-42e0-b0a8-df66dd50e8b9",
   "metadata": {},
   "outputs": [
    {
     "name": "stdout",
     "output_type": "stream",
     "text": [
      "Username: rodrigo.leite\n"
     ]
    }
   ],
   "source": [
    "username = maap.profile.account_info()['username']\n",
    "print(\"Username:\", username)"
   ]
  },
  {
   "cell_type": "code",
   "execution_count": 12,
   "id": "36b06d5e-e034-4c7e-81d1-c4bff3ba6b52",
   "metadata": {},
   "outputs": [],
   "source": [
    "stac_url = \"https://stac.maap-project.org/\"\n",
    "client = Client.open(stac_url)"
   ]
  },
  {
   "cell_type": "code",
   "execution_count": 14,
   "id": "02ef8588-0528-41e3-87fd-f7ed223d4b8f",
   "metadata": {},
   "outputs": [],
   "source": [
    "collection_id = \"icesat2-boreal\"\n",
    "search = client.search(collections=[collection_id], max_items=10)\n",
    "items = list(search.get_items())"
   ]
  },
  {
   "cell_type": "code",
   "execution_count": 15,
   "id": "3da9b6e1-363f-4887-b1f8-2655ce85502e",
   "metadata": {},
   "outputs": [
    {
     "data": {
      "text/plain": [
       "[<Item id=boreal_agb_202302151676439579_1326>,\n",
       " <Item id=boreal_agb_202302151676435792_3402>,\n",
       " <Item id=boreal_agb_202302151676435665_3417>,\n",
       " <Item id=boreal_agb_202302151676434536_3215>,\n",
       " <Item id=boreal_agb_202302151676434460_3035>,\n",
       " <Item id=boreal_agb_202302151676432986_2782>,\n",
       " <Item id=boreal_agb_202302151676430990_1278>,\n",
       " <Item id=boreal_agb_202302151676430794_26340>,\n",
       " <Item id=boreal_agb_202302151676430633_40664>,\n",
       " <Item id=boreal_agb_202302151676430594_0611>]"
      ]
     },
     "execution_count": 15,
     "metadata": {},
     "output_type": "execute_result"
    }
   ],
   "source": [
    "items"
   ]
  },
  {
   "cell_type": "code",
   "execution_count": null,
   "id": "99ef7e18-b65a-4c2c-ba4c-21d6d7ebabcd",
   "metadata": {},
   "outputs": [],
   "source": []
  }
 ],
 "metadata": {
  "kernelspec": {
   "display_name": "Python [conda env:pangeo] *",
   "language": "python",
   "name": "conda-env-pangeo-py"
  },
  "language_info": {
   "codemirror_mode": {
    "name": "ipython",
    "version": 3
   },
   "file_extension": ".py",
   "mimetype": "text/x-python",
   "name": "python",
   "nbconvert_exporter": "python",
   "pygments_lexer": "ipython3",
   "version": "3.12.7"
  }
 },
 "nbformat": 4,
 "nbformat_minor": 5
}
