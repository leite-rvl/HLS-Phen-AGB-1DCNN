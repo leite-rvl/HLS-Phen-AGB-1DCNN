{
 "cells": [
  {
   "cell_type": "code",
   "execution_count": 4,
   "id": "2ce06990-25e3-403d-905c-6aecc061664b",
   "metadata": {},
   "outputs": [
    {
     "ename": "ModuleNotFoundError",
     "evalue": "No module named 'geemap'",
     "output_type": "error",
     "traceback": [
      "\u001b[0;31m---------------------------------------------------------------------------\u001b[0m",
      "\u001b[0;31mModuleNotFoundError\u001b[0m                       Traceback (most recent call last)",
      "Cell \u001b[0;32mIn[4], line 16\u001b[0m\n\u001b[1;32m     13\u001b[0m \u001b[38;5;28;01mimport\u001b[39;00m\u001b[38;5;250m \u001b[39m\u001b[38;5;21;01mxarray\u001b[39;00m\u001b[38;5;250m \u001b[39m\u001b[38;5;28;01mas\u001b[39;00m\u001b[38;5;250m \u001b[39m\u001b[38;5;21;01mxr\u001b[39;00m\n\u001b[1;32m     15\u001b[0m \u001b[38;5;28;01mimport\u001b[39;00m\u001b[38;5;250m \u001b[39m\u001b[38;5;21;01mee\u001b[39;00m\n\u001b[0;32m---> 16\u001b[0m \u001b[38;5;28;01mimport\u001b[39;00m\u001b[38;5;250m \u001b[39m\u001b[38;5;21;01mgeemap\u001b[39;00m\n\u001b[1;32m     17\u001b[0m \u001b[38;5;66;03m# ee.Authenticate()\u001b[39;00m\n\u001b[1;32m     18\u001b[0m \u001b[38;5;66;03m# Initialize the Earth Engine API\u001b[39;00m\n\u001b[1;32m     19\u001b[0m ee\u001b[38;5;241m.\u001b[39mInitialize()\n",
      "\u001b[0;31mModuleNotFoundError\u001b[0m: No module named 'geemap'"
     ]
    }
   ],
   "source": [
    "# pip install --upgrade xee\n",
    "import os\n",
    "import numpy as np\n",
    "import geopandas as gpd\n",
    "import pandas as pd\n",
    "\n",
    "# import sliderule\n",
    "# from sliderule import icesat2, gedi, earthdata\n",
    "\n",
    "import matplotlib.pyplot as plt\n",
    "import seaborn as sns\n",
    "\n",
    "import xarray as xr\n",
    "\n",
    "import ee\n",
    "import geemap\n",
    "# ee.Authenticate()\n",
    "# Initialize the Earth Engine API\n",
    "ee.Initialize()"
   ]
  },
  {
   "cell_type": "code",
   "execution_count": null,
   "id": "443cd169-2905-4c97-9c67-a79a1ed7de3b",
   "metadata": {},
   "outputs": [],
   "source": [
    "#####################\n",
    "## Read roi\n",
    "roi_path = '/projects/my-private-bucket/HLS-1DCNN-AGB/data/shp/atlantic_forest/AtlanticForest.shp' \n",
    "roi_gdf = gpd.read_file(tiles_path)\n",
    "\n"
   ]
  },
  {
   "cell_type": "code",
   "execution_count": null,
   "id": "6aa5b96b-b924-482d-8662-c117a7544f3c",
   "metadata": {},
   "outputs": [],
   "source": [
    "# Dissolve grid and make a 60 m buffer\n",
    "roi_gdf = roi_gdf.dissolve()\n",
    "roi_gdf = roi_gdf.buffer(60)\n",
    "roi_gdf = gpd.GeoDataFrame(geometry=roi_gdf, crs=roi_gdf.crs)"
   ]
  },
  {
   "cell_type": "code",
   "execution_count": null,
   "id": "1462c771-861e-483b-9990-534b1c52f46c",
   "metadata": {},
   "outputs": [],
   "source": [
    "# roi_gdf.plot()"
   ]
  },
  {
   "cell_type": "code",
   "execution_count": 2,
   "id": "38c46694-ddbf-4442-beca-c6f5f2032def",
   "metadata": {},
   "outputs": [
    {
     "ename": "NameError",
     "evalue": "name 'roi_gdf' is not defined",
     "output_type": "error",
     "traceback": [
      "\u001b[0;31m---------------------------------------------------------------------------\u001b[0m",
      "\u001b[0;31mNameError\u001b[0m                                 Traceback (most recent call last)",
      "Cell \u001b[0;32mIn[2], line 1\u001b[0m\n\u001b[0;32m----> 1\u001b[0m roi_gdf \u001b[38;5;241m=\u001b[39m \u001b[43mroi_gdf\u001b[49m\u001b[38;5;241m.\u001b[39mto_crs(\u001b[38;5;124m'\u001b[39m\u001b[38;5;124mEPSG:4326\u001b[39m\u001b[38;5;124m'\u001b[39m)\n",
      "\u001b[0;31mNameError\u001b[0m: name 'roi_gdf' is not defined"
     ]
    }
   ],
   "source": [
    "roi_gdf = roi_gdf.to_crs('EPSG:4326')\n"
   ]
  },
  {
   "cell_type": "code",
   "execution_count": 3,
   "id": "582b20f3-8154-4742-88b9-e69677cb75d5",
   "metadata": {},
   "outputs": [
    {
     "ename": "NameError",
     "evalue": "name 'geemap' is not defined",
     "output_type": "error",
     "traceback": [
      "\u001b[0;31m---------------------------------------------------------------------------\u001b[0m",
      "\u001b[0;31mNameError\u001b[0m                                 Traceback (most recent call last)",
      "Cell \u001b[0;32mIn[3], line 1\u001b[0m\n\u001b[0;32m----> 1\u001b[0m roi_fc \u001b[38;5;241m=\u001b[39m \u001b[43mgeemap\u001b[49m\u001b[38;5;241m.\u001b[39mgeopandas_to_ee(roi_gdf)\u001b[38;5;241m.\u001b[39mfirst()\u001b[38;5;241m.\u001b[39mgeometry()   \n",
      "\u001b[0;31mNameError\u001b[0m: name 'geemap' is not defined"
     ]
    }
   ],
   "source": [
    "roi_fc = geemap.geopandas_to_ee(roi_gdf).first().geometry()   \n"
   ]
  },
  {
   "cell_type": "code",
   "execution_count": 80,
   "id": "bd0e8c87-94ac-4e20-8c38-254ab9078f42",
   "metadata": {},
   "outputs": [
    {
     "data": {
      "text/html": [
       "\n",
       "            <style>\n",
       "                .geemap-dark {\n",
       "                    --jp-widgets-color: white;\n",
       "                    --jp-widgets-label-color: white;\n",
       "                    --jp-ui-font-color1: white;\n",
       "                    --jp-layout-color2: #454545;\n",
       "                    background-color: #383838;\n",
       "                }\n",
       "\n",
       "                .geemap-dark .jupyter-button {\n",
       "                    --jp-layout-color3: #383838;\n",
       "                }\n",
       "\n",
       "                .geemap-colab {\n",
       "                    background-color: var(--colab-primary-surface-color, white);\n",
       "                }\n",
       "\n",
       "                .geemap-colab .jupyter-button {\n",
       "                    --jp-layout-color3: var(--colab-primary-surface-color, white);\n",
       "                }\n",
       "            </style>\n",
       "            "
      ],
      "text/plain": [
       "<IPython.core.display.HTML object>"
      ]
     },
     "metadata": {},
     "output_type": "display_data"
    }
   ],
   "source": [
    "# Vegetation mask\n",
    "# https://brasil.mapbiomas.org/en/colecoes-mapbiomas/\n",
    "mapbiomas = ee.Image('projects/mapbiomas-public/assets/brazil/lulc/collection10/mapbiomas_brazil_collection10_coverage_v2')\n",
    "mapbiomas = mapbiomas.clip(roi_fc)\n"
   ]
  },
  {
   "cell_type": "code",
   "execution_count": 96,
   "id": "39cfe341-951a-4504-9908-8a5e5f805f33",
   "metadata": {},
   "outputs": [
    {
     "data": {
      "text/html": [
       "\n",
       "            <style>\n",
       "                .geemap-dark {\n",
       "                    --jp-widgets-color: white;\n",
       "                    --jp-widgets-label-color: white;\n",
       "                    --jp-ui-font-color1: white;\n",
       "                    --jp-layout-color2: #454545;\n",
       "                    background-color: #383838;\n",
       "                }\n",
       "\n",
       "                .geemap-dark .jupyter-button {\n",
       "                    --jp-layout-color3: #383838;\n",
       "                }\n",
       "\n",
       "                .geemap-colab {\n",
       "                    background-color: var(--colab-primary-surface-color, white);\n",
       "                }\n",
       "\n",
       "                .geemap-colab .jupyter-button {\n",
       "                    --jp-layout-color3: var(--colab-primary-surface-color, white);\n",
       "                }\n",
       "            </style>\n",
       "            "
      ],
      "text/plain": [
       "<IPython.core.display.HTML object>"
      ]
     },
     "metadata": {},
     "output_type": "display_data"
    }
   ],
   "source": [
    "# Filter Mapbiomas for specifc year, set the vegetation ids\n",
    "# years = [2019,2020,2021,2022]\n",
    "year = 2020\n",
    "classification_year =  'classification_' + str(year)\n",
    "\n",
    "vegetation_ids = ee.List([1, 3, 4, 5, 6, 49])\n",
    "\n",
    "# Select year and vegetation id\n",
    "mapbiomas_roi = mapbiomas.select([classification_year]).clip(roi_fc)\n",
    "\n",
    "# Create mask only with pixels with vegetation classified\n",
    "mapbiomas_roi_veg = mapbiomas_roi.updateMask(\n",
    "    mapbiomas_roi.eq(\n",
    "        ee.Image.constant(vegetation_ids)).reduce(\n",
    "            ee.Reducer.anyNonZero()))"
   ]
  },
  {
   "cell_type": "code",
   "execution_count": 97,
   "id": "92e3cb41-b278-4649-80f6-e946cedc1099",
   "metadata": {
    "scrolled": true
   },
   "outputs": [
    {
     "data": {
      "text/html": [
       "\n",
       "            <style>\n",
       "                .geemap-dark {\n",
       "                    --jp-widgets-color: white;\n",
       "                    --jp-widgets-label-color: white;\n",
       "                    --jp-ui-font-color1: white;\n",
       "                    --jp-layout-color2: #454545;\n",
       "                    background-color: #383838;\n",
       "                }\n",
       "\n",
       "                .geemap-dark .jupyter-button {\n",
       "                    --jp-layout-color3: #383838;\n",
       "                }\n",
       "\n",
       "                .geemap-colab {\n",
       "                    background-color: var(--colab-primary-surface-color, white);\n",
       "                }\n",
       "\n",
       "                .geemap-colab .jupyter-button {\n",
       "                    --jp-layout-color3: var(--colab-primary-surface-color, white);\n",
       "                }\n",
       "            </style>\n",
       "            "
      ],
      "text/plain": [
       "<IPython.core.display.HTML object>"
      ]
     },
     "metadata": {},
     "output_type": "display_data"
    },
    {
     "data": {
      "application/vnd.jupyter.widget-view+json": {
       "model_id": "a694fc2a1f8147279a4562cbb5a7dbe1",
       "version_major": 2,
       "version_minor": 0
      },
      "text/plain": [
       "Map(center=[-20.651744248759403, -46.054006218425144], controls=(WidgetControl(options=['position', 'transpare…"
      ]
     },
     "execution_count": 97,
     "metadata": {},
     "output_type": "execute_result"
    }
   ],
   "source": [
    "# Visualize\n",
    "veg_binary = mapbiomas_roi_veg.gt(0).selfMask().rename('veg')\n",
    "\n",
    "m = geemap.Map()\n",
    "m.centerObject(roi_fc, 6)             # adjust zoom as you like\n",
    "m.addLayer(veg_binary, {'min': 0, 'max': 1, 'palette': ['#2E8B57']}, 'Vegetation mask')\n",
    "m.addLayer(roi_fc, {}, 'ROI', False)\n",
    "\n",
    "m"
   ]
  },
  {
   "cell_type": "code",
   "execution_count": 98,
   "id": "723f7564-be9e-4257-8ea3-4122faba73ab",
   "metadata": {},
   "outputs": [
    {
     "data": {
      "text/html": [
       "\n",
       "            <style>\n",
       "                .geemap-dark {\n",
       "                    --jp-widgets-color: white;\n",
       "                    --jp-widgets-label-color: white;\n",
       "                    --jp-ui-font-color1: white;\n",
       "                    --jp-layout-color2: #454545;\n",
       "                    background-color: #383838;\n",
       "                }\n",
       "\n",
       "                .geemap-dark .jupyter-button {\n",
       "                    --jp-layout-color3: #383838;\n",
       "                }\n",
       "\n",
       "                .geemap-colab {\n",
       "                    background-color: var(--colab-primary-surface-color, white);\n",
       "                }\n",
       "\n",
       "                .geemap-colab .jupyter-button {\n",
       "                    --jp-layout-color3: var(--colab-primary-surface-color, white);\n",
       "                }\n",
       "            </style>\n",
       "            "
      ],
      "text/plain": [
       "<IPython.core.display.HTML object>"
      ]
     },
     "metadata": {},
     "output_type": "display_data"
    }
   ],
   "source": [
    "## Define grid to download tiles\n",
    "fishnet_aoi = geemap.fishnet(roi_fc, rows=10, cols=20)"
   ]
  },
  {
   "cell_type": "code",
   "execution_count": null,
   "id": "914785ea-dc64-49cf-ab7e-3b3ee1270ab3",
   "metadata": {},
   "outputs": [],
   "source": []
  },
  {
   "cell_type": "code",
   "execution_count": 99,
   "id": "af82a757-c725-43d3-8d39-f4702fc395ad",
   "metadata": {},
   "outputs": [
    {
     "data": {
      "text/html": [
       "\n",
       "            <style>\n",
       "                .geemap-dark {\n",
       "                    --jp-widgets-color: white;\n",
       "                    --jp-widgets-label-color: white;\n",
       "                    --jp-ui-font-color1: white;\n",
       "                    --jp-layout-color2: #454545;\n",
       "                    background-color: #383838;\n",
       "                }\n",
       "\n",
       "                .geemap-dark .jupyter-button {\n",
       "                    --jp-layout-color3: #383838;\n",
       "                }\n",
       "\n",
       "                .geemap-colab {\n",
       "                    background-color: var(--colab-primary-surface-color, white);\n",
       "                }\n",
       "\n",
       "                .geemap-colab .jupyter-button {\n",
       "                    --jp-layout-color3: var(--colab-primary-surface-color, white);\n",
       "                }\n",
       "            </style>\n",
       "            "
      ],
      "text/plain": [
       "<IPython.core.display.HTML object>"
      ]
     },
     "metadata": {},
     "output_type": "display_data"
    }
   ],
   "source": [
    "out_dir = f'/projects/my-private-bucket/HLS-1DCNN-AGB/data/tif/VegetationMask/AtlanticForest/{year}/Tiles'\n",
    "os.makedirs(out_dir,exist_ok= True)"
   ]
  },
  {
   "cell_type": "code",
   "execution_count": 100,
   "id": "a9cc4daa-693c-4c3a-83e0-7e8c4486da7d",
   "metadata": {},
   "outputs": [
    {
     "data": {
      "text/html": [
       "\n",
       "            <style>\n",
       "                .geemap-dark {\n",
       "                    --jp-widgets-color: white;\n",
       "                    --jp-widgets-label-color: white;\n",
       "                    --jp-ui-font-color1: white;\n",
       "                    --jp-layout-color2: #454545;\n",
       "                    background-color: #383838;\n",
       "                }\n",
       "\n",
       "                .geemap-dark .jupyter-button {\n",
       "                    --jp-layout-color3: #383838;\n",
       "                }\n",
       "\n",
       "                .geemap-colab {\n",
       "                    background-color: var(--colab-primary-surface-color, white);\n",
       "                }\n",
       "\n",
       "                .geemap-colab .jupyter-button {\n",
       "                    --jp-layout-color3: var(--colab-primary-surface-color, white);\n",
       "                }\n",
       "            </style>\n",
       "            "
      ],
      "text/plain": [
       "<IPython.core.display.HTML object>"
      ]
     },
     "metadata": {},
     "output_type": "display_data"
    },
    {
     "name": "stdout",
     "output_type": "stream",
     "text": [
      "Downloading 1/86: /projects/my-private-bucket/HLS-1DCNN-AGB/data/tif/VegetationMask/AtlanticForest/2020/Tiles/vegmask2020_01.tif\n"
     ]
    },
    {
     "data": {
      "application/vnd.jupyter.widget-view+json": {
       "model_id": "a99229e0b09540089c537af2f2439752",
       "version_major": 2,
       "version_minor": 0
      },
      "text/plain": [
       "...iomas_brazil_collection10_coverage_v2:   0%|          |0/19 tiles [00:00<?]"
      ]
     },
     "metadata": {},
     "output_type": "display_data"
    },
    {
     "name": "stdout",
     "output_type": "stream",
     "text": [
      "Downloading 2/86: /projects/my-private-bucket/HLS-1DCNN-AGB/data/tif/VegetationMask/AtlanticForest/2020/Tiles/vegmask2020_02.tif\n"
     ]
    },
    {
     "data": {
      "application/vnd.jupyter.widget-view+json": {
       "model_id": "de1b0b0a910a4729808b8f4911b48af5",
       "version_major": 2,
       "version_minor": 0
      },
      "text/plain": [
       "...iomas_brazil_collection10_coverage_v2:   0%|          |0/19 tiles [00:00<?]"
      ]
     },
     "metadata": {},
     "output_type": "display_data"
    },
    {
     "name": "stdout",
     "output_type": "stream",
     "text": [
      "Downloading 3/86: /projects/my-private-bucket/HLS-1DCNN-AGB/data/tif/VegetationMask/AtlanticForest/2020/Tiles/vegmask2020_03.tif\n"
     ]
    },
    {
     "data": {
      "application/vnd.jupyter.widget-view+json": {
       "model_id": "97dd77aaf5974f2486a67aa1e046a71b",
       "version_major": 2,
       "version_minor": 0
      },
      "text/plain": [
       "...iomas_brazil_collection10_coverage_v2:   0%|          |0/19 tiles [00:00<?]"
      ]
     },
     "metadata": {},
     "output_type": "display_data"
    },
    {
     "name": "stdout",
     "output_type": "stream",
     "text": [
      "Downloading 4/86: /projects/my-private-bucket/HLS-1DCNN-AGB/data/tif/VegetationMask/AtlanticForest/2020/Tiles/vegmask2020_04.tif\n"
     ]
    },
    {
     "data": {
      "application/vnd.jupyter.widget-view+json": {
       "model_id": "7e1baf214e5f48c69db0664c91e36207",
       "version_major": 2,
       "version_minor": 0
      },
      "text/plain": [
       "...iomas_brazil_collection10_coverage_v2:   0%|          |0/19 tiles [00:00<?]"
      ]
     },
     "metadata": {},
     "output_type": "display_data"
    },
    {
     "name": "stdout",
     "output_type": "stream",
     "text": [
      "Downloading 5/86: /projects/my-private-bucket/HLS-1DCNN-AGB/data/tif/VegetationMask/AtlanticForest/2020/Tiles/vegmask2020_05.tif\n"
     ]
    },
    {
     "data": {
      "application/vnd.jupyter.widget-view+json": {
       "model_id": "c92d3f02a07344128971bac0affd174a",
       "version_major": 2,
       "version_minor": 0
      },
      "text/plain": [
       "...iomas_brazil_collection10_coverage_v2:   0%|          |0/19 tiles [00:00<?]"
      ]
     },
     "metadata": {},
     "output_type": "display_data"
    },
    {
     "name": "stdout",
     "output_type": "stream",
     "text": [
      "Downloading 6/86: /projects/my-private-bucket/HLS-1DCNN-AGB/data/tif/VegetationMask/AtlanticForest/2020/Tiles/vegmask2020_06.tif\n"
     ]
    },
    {
     "data": {
      "application/vnd.jupyter.widget-view+json": {
       "model_id": "991d1f413edd456fa870c49878aa317c",
       "version_major": 2,
       "version_minor": 0
      },
      "text/plain": [
       "...iomas_brazil_collection10_coverage_v2:   0%|          |0/19 tiles [00:00<?]"
      ]
     },
     "metadata": {},
     "output_type": "display_data"
    },
    {
     "name": "stdout",
     "output_type": "stream",
     "text": [
      "Downloading 7/86: /projects/my-private-bucket/HLS-1DCNN-AGB/data/tif/VegetationMask/AtlanticForest/2020/Tiles/vegmask2020_07.tif\n"
     ]
    },
    {
     "data": {
      "application/vnd.jupyter.widget-view+json": {
       "model_id": "058849b7f7924ae6b9c8e0880f39aeee",
       "version_major": 2,
       "version_minor": 0
      },
      "text/plain": [
       "...iomas_brazil_collection10_coverage_v2:   0%|          |0/19 tiles [00:00<?]"
      ]
     },
     "metadata": {},
     "output_type": "display_data"
    },
    {
     "name": "stdout",
     "output_type": "stream",
     "text": [
      "Downloading 8/86: /projects/my-private-bucket/HLS-1DCNN-AGB/data/tif/VegetationMask/AtlanticForest/2020/Tiles/vegmask2020_08.tif\n"
     ]
    },
    {
     "data": {
      "application/vnd.jupyter.widget-view+json": {
       "model_id": "13fca8a884974ec793146b4fa0d4bdb8",
       "version_major": 2,
       "version_minor": 0
      },
      "text/plain": [
       "...iomas_brazil_collection10_coverage_v2:   0%|          |0/19 tiles [00:00<?]"
      ]
     },
     "metadata": {},
     "output_type": "display_data"
    },
    {
     "name": "stdout",
     "output_type": "stream",
     "text": [
      "Downloading 9/86: /projects/my-private-bucket/HLS-1DCNN-AGB/data/tif/VegetationMask/AtlanticForest/2020/Tiles/vegmask2020_09.tif\n"
     ]
    },
    {
     "data": {
      "application/vnd.jupyter.widget-view+json": {
       "model_id": "97e0586f7afd48568939a5641ddd4522",
       "version_major": 2,
       "version_minor": 0
      },
      "text/plain": [
       "...iomas_brazil_collection10_coverage_v2:   0%|          |0/19 tiles [00:00<?]"
      ]
     },
     "metadata": {},
     "output_type": "display_data"
    },
    {
     "name": "stdout",
     "output_type": "stream",
     "text": [
      "Downloading 10/86: /projects/my-private-bucket/HLS-1DCNN-AGB/data/tif/VegetationMask/AtlanticForest/2020/Tiles/vegmask2020_10.tif\n"
     ]
    },
    {
     "data": {
      "application/vnd.jupyter.widget-view+json": {
       "model_id": "632039ea01624689aad59c5c35ff2f36",
       "version_major": 2,
       "version_minor": 0
      },
      "text/plain": [
       "...iomas_brazil_collection10_coverage_v2:   0%|          |0/19 tiles [00:00<?]"
      ]
     },
     "metadata": {},
     "output_type": "display_data"
    },
    {
     "name": "stdout",
     "output_type": "stream",
     "text": [
      "Downloading 11/86: /projects/my-private-bucket/HLS-1DCNN-AGB/data/tif/VegetationMask/AtlanticForest/2020/Tiles/vegmask2020_11.tif\n"
     ]
    },
    {
     "data": {
      "application/vnd.jupyter.widget-view+json": {
       "model_id": "a683fed95e0e480280e50f194d5e73e7",
       "version_major": 2,
       "version_minor": 0
      },
      "text/plain": [
       "...iomas_brazil_collection10_coverage_v2:   0%|          |0/19 tiles [00:00<?]"
      ]
     },
     "metadata": {},
     "output_type": "display_data"
    },
    {
     "name": "stdout",
     "output_type": "stream",
     "text": [
      "Downloading 12/86: /projects/my-private-bucket/HLS-1DCNN-AGB/data/tif/VegetationMask/AtlanticForest/2020/Tiles/vegmask2020_12.tif\n"
     ]
    },
    {
     "data": {
      "application/vnd.jupyter.widget-view+json": {
       "model_id": "48daa2c7a57741a7984ea2e4ed31e0de",
       "version_major": 2,
       "version_minor": 0
      },
      "text/plain": [
       "...iomas_brazil_collection10_coverage_v2:   0%|          |0/19 tiles [00:00<?]"
      ]
     },
     "metadata": {},
     "output_type": "display_data"
    },
    {
     "name": "stdout",
     "output_type": "stream",
     "text": [
      "Downloading 13/86: /projects/my-private-bucket/HLS-1DCNN-AGB/data/tif/VegetationMask/AtlanticForest/2020/Tiles/vegmask2020_13.tif\n"
     ]
    },
    {
     "data": {
      "application/vnd.jupyter.widget-view+json": {
       "model_id": "3877ce64e47a4b5685da8659a52b74e9",
       "version_major": 2,
       "version_minor": 0
      },
      "text/plain": [
       "...iomas_brazil_collection10_coverage_v2:   0%|          |0/19 tiles [00:00<?]"
      ]
     },
     "metadata": {},
     "output_type": "display_data"
    },
    {
     "name": "stdout",
     "output_type": "stream",
     "text": [
      "Downloading 14/86: /projects/my-private-bucket/HLS-1DCNN-AGB/data/tif/VegetationMask/AtlanticForest/2020/Tiles/vegmask2020_14.tif\n"
     ]
    },
    {
     "data": {
      "application/vnd.jupyter.widget-view+json": {
       "model_id": "93d6646c0adb4642ab7946d68ca265f4",
       "version_major": 2,
       "version_minor": 0
      },
      "text/plain": [
       "...iomas_brazil_collection10_coverage_v2:   0%|          |0/19 tiles [00:00<?]"
      ]
     },
     "metadata": {},
     "output_type": "display_data"
    },
    {
     "name": "stdout",
     "output_type": "stream",
     "text": [
      "Downloading 15/86: /projects/my-private-bucket/HLS-1DCNN-AGB/data/tif/VegetationMask/AtlanticForest/2020/Tiles/vegmask2020_15.tif\n"
     ]
    },
    {
     "data": {
      "application/vnd.jupyter.widget-view+json": {
       "model_id": "ec49f4bdb99641959b7c32bdd15cacbe",
       "version_major": 2,
       "version_minor": 0
      },
      "text/plain": [
       "...iomas_brazil_collection10_coverage_v2:   0%|          |0/19 tiles [00:00<?]"
      ]
     },
     "metadata": {},
     "output_type": "display_data"
    },
    {
     "name": "stdout",
     "output_type": "stream",
     "text": [
      "Downloading 16/86: /projects/my-private-bucket/HLS-1DCNN-AGB/data/tif/VegetationMask/AtlanticForest/2020/Tiles/vegmask2020_16.tif\n"
     ]
    },
    {
     "data": {
      "application/vnd.jupyter.widget-view+json": {
       "model_id": "f96a9f8aaee746438c538541945ca73c",
       "version_major": 2,
       "version_minor": 0
      },
      "text/plain": [
       "...iomas_brazil_collection10_coverage_v2:   0%|          |0/19 tiles [00:00<?]"
      ]
     },
     "metadata": {},
     "output_type": "display_data"
    },
    {
     "name": "stdout",
     "output_type": "stream",
     "text": [
      "Downloading 17/86: /projects/my-private-bucket/HLS-1DCNN-AGB/data/tif/VegetationMask/AtlanticForest/2020/Tiles/vegmask2020_17.tif\n"
     ]
    },
    {
     "data": {
      "application/vnd.jupyter.widget-view+json": {
       "model_id": "7d6428339f604758abb7718773e9a269",
       "version_major": 2,
       "version_minor": 0
      },
      "text/plain": [
       "...iomas_brazil_collection10_coverage_v2:   0%|          |0/19 tiles [00:00<?]"
      ]
     },
     "metadata": {},
     "output_type": "display_data"
    },
    {
     "name": "stdout",
     "output_type": "stream",
     "text": [
      "Downloading 18/86: /projects/my-private-bucket/HLS-1DCNN-AGB/data/tif/VegetationMask/AtlanticForest/2020/Tiles/vegmask2020_18.tif\n"
     ]
    },
    {
     "data": {
      "application/vnd.jupyter.widget-view+json": {
       "model_id": "e52746670dd54dd3af6f9bfa0f8a0beb",
       "version_major": 2,
       "version_minor": 0
      },
      "text/plain": [
       "...iomas_brazil_collection10_coverage_v2:   0%|          |0/19 tiles [00:00<?]"
      ]
     },
     "metadata": {},
     "output_type": "display_data"
    },
    {
     "name": "stdout",
     "output_type": "stream",
     "text": [
      "Downloading 19/86: /projects/my-private-bucket/HLS-1DCNN-AGB/data/tif/VegetationMask/AtlanticForest/2020/Tiles/vegmask2020_19.tif\n"
     ]
    },
    {
     "data": {
      "application/vnd.jupyter.widget-view+json": {
       "model_id": "4eeb13c178774e2dbaa185d31cbba428",
       "version_major": 2,
       "version_minor": 0
      },
      "text/plain": [
       "...iomas_brazil_collection10_coverage_v2:   0%|          |0/19 tiles [00:00<?]"
      ]
     },
     "metadata": {},
     "output_type": "display_data"
    },
    {
     "name": "stdout",
     "output_type": "stream",
     "text": [
      "Downloading 20/86: /projects/my-private-bucket/HLS-1DCNN-AGB/data/tif/VegetationMask/AtlanticForest/2020/Tiles/vegmask2020_20.tif\n"
     ]
    },
    {
     "data": {
      "application/vnd.jupyter.widget-view+json": {
       "model_id": "ee747f9ad66c445c8cafddbb591c2100",
       "version_major": 2,
       "version_minor": 0
      },
      "text/plain": [
       "...iomas_brazil_collection10_coverage_v2:   0%|          |0/19 tiles [00:00<?]"
      ]
     },
     "metadata": {},
     "output_type": "display_data"
    },
    {
     "name": "stdout",
     "output_type": "stream",
     "text": [
      "Downloading 21/86: /projects/my-private-bucket/HLS-1DCNN-AGB/data/tif/VegetationMask/AtlanticForest/2020/Tiles/vegmask2020_21.tif\n"
     ]
    },
    {
     "data": {
      "application/vnd.jupyter.widget-view+json": {
       "model_id": "1ab9fe09a95f4f88a728216460eda7ba",
       "version_major": 2,
       "version_minor": 0
      },
      "text/plain": [
       "...iomas_brazil_collection10_coverage_v2:   0%|          |0/19 tiles [00:00<?]"
      ]
     },
     "metadata": {},
     "output_type": "display_data"
    },
    {
     "name": "stdout",
     "output_type": "stream",
     "text": [
      "Downloading 22/86: /projects/my-private-bucket/HLS-1DCNN-AGB/data/tif/VegetationMask/AtlanticForest/2020/Tiles/vegmask2020_22.tif\n"
     ]
    },
    {
     "data": {
      "application/vnd.jupyter.widget-view+json": {
       "model_id": "199abf1c59aa4331851a9cbe17a942bd",
       "version_major": 2,
       "version_minor": 0
      },
      "text/plain": [
       "...iomas_brazil_collection10_coverage_v2:   0%|          |0/19 tiles [00:00<?]"
      ]
     },
     "metadata": {},
     "output_type": "display_data"
    },
    {
     "name": "stdout",
     "output_type": "stream",
     "text": [
      "Downloading 23/86: /projects/my-private-bucket/HLS-1DCNN-AGB/data/tif/VegetationMask/AtlanticForest/2020/Tiles/vegmask2020_23.tif\n"
     ]
    },
    {
     "data": {
      "application/vnd.jupyter.widget-view+json": {
       "model_id": "991dc6eb9e04420d8db6bb75c1d0fc66",
       "version_major": 2,
       "version_minor": 0
      },
      "text/plain": [
       "...iomas_brazil_collection10_coverage_v2:   0%|          |0/19 tiles [00:00<?]"
      ]
     },
     "metadata": {},
     "output_type": "display_data"
    },
    {
     "name": "stdout",
     "output_type": "stream",
     "text": [
      "Downloading 24/86: /projects/my-private-bucket/HLS-1DCNN-AGB/data/tif/VegetationMask/AtlanticForest/2020/Tiles/vegmask2020_24.tif\n"
     ]
    },
    {
     "data": {
      "application/vnd.jupyter.widget-view+json": {
       "model_id": "3dc1b70c204c40189e2f0ea20af7d706",
       "version_major": 2,
       "version_minor": 0
      },
      "text/plain": [
       "...iomas_brazil_collection10_coverage_v2:   0%|          |0/19 tiles [00:00<?]"
      ]
     },
     "metadata": {},
     "output_type": "display_data"
    },
    {
     "name": "stdout",
     "output_type": "stream",
     "text": [
      "Downloading 25/86: /projects/my-private-bucket/HLS-1DCNN-AGB/data/tif/VegetationMask/AtlanticForest/2020/Tiles/vegmask2020_25.tif\n"
     ]
    },
    {
     "data": {
      "application/vnd.jupyter.widget-view+json": {
       "model_id": "435ad5b3690e4fa89971c46fd2d50dcb",
       "version_major": 2,
       "version_minor": 0
      },
      "text/plain": [
       "...iomas_brazil_collection10_coverage_v2:   0%|          |0/19 tiles [00:00<?]"
      ]
     },
     "metadata": {},
     "output_type": "display_data"
    },
    {
     "name": "stdout",
     "output_type": "stream",
     "text": [
      "Downloading 26/86: /projects/my-private-bucket/HLS-1DCNN-AGB/data/tif/VegetationMask/AtlanticForest/2020/Tiles/vegmask2020_26.tif\n"
     ]
    },
    {
     "data": {
      "application/vnd.jupyter.widget-view+json": {
       "model_id": "59066ba8f86545b589fb6d762409a92a",
       "version_major": 2,
       "version_minor": 0
      },
      "text/plain": [
       "...iomas_brazil_collection10_coverage_v2:   0%|          |0/19 tiles [00:00<?]"
      ]
     },
     "metadata": {},
     "output_type": "display_data"
    },
    {
     "name": "stdout",
     "output_type": "stream",
     "text": [
      "Downloading 27/86: /projects/my-private-bucket/HLS-1DCNN-AGB/data/tif/VegetationMask/AtlanticForest/2020/Tiles/vegmask2020_27.tif\n"
     ]
    },
    {
     "data": {
      "application/vnd.jupyter.widget-view+json": {
       "model_id": "de60c526f9224c6bb75a769a81b05fc9",
       "version_major": 2,
       "version_minor": 0
      },
      "text/plain": [
       "...iomas_brazil_collection10_coverage_v2:   0%|          |0/19 tiles [00:00<?]"
      ]
     },
     "metadata": {},
     "output_type": "display_data"
    },
    {
     "name": "stdout",
     "output_type": "stream",
     "text": [
      "Downloading 28/86: /projects/my-private-bucket/HLS-1DCNN-AGB/data/tif/VegetationMask/AtlanticForest/2020/Tiles/vegmask2020_28.tif\n"
     ]
    },
    {
     "data": {
      "application/vnd.jupyter.widget-view+json": {
       "model_id": "6313a65f30fa437c97ab098e3f01ede5",
       "version_major": 2,
       "version_minor": 0
      },
      "text/plain": [
       "...iomas_brazil_collection10_coverage_v2:   0%|          |0/19 tiles [00:00<?]"
      ]
     },
     "metadata": {},
     "output_type": "display_data"
    },
    {
     "name": "stdout",
     "output_type": "stream",
     "text": [
      "Downloading 29/86: /projects/my-private-bucket/HLS-1DCNN-AGB/data/tif/VegetationMask/AtlanticForest/2020/Tiles/vegmask2020_29.tif\n"
     ]
    },
    {
     "data": {
      "application/vnd.jupyter.widget-view+json": {
       "model_id": "8906ba285c7744948871f184f56254e4",
       "version_major": 2,
       "version_minor": 0
      },
      "text/plain": [
       "...iomas_brazil_collection10_coverage_v2:   0%|          |0/19 tiles [00:00<?]"
      ]
     },
     "metadata": {},
     "output_type": "display_data"
    },
    {
     "name": "stdout",
     "output_type": "stream",
     "text": [
      "Downloading 30/86: /projects/my-private-bucket/HLS-1DCNN-AGB/data/tif/VegetationMask/AtlanticForest/2020/Tiles/vegmask2020_30.tif\n"
     ]
    },
    {
     "data": {
      "application/vnd.jupyter.widget-view+json": {
       "model_id": "d684283adf824cfeb682db23c14c788f",
       "version_major": 2,
       "version_minor": 0
      },
      "text/plain": [
       "...iomas_brazil_collection10_coverage_v2:   0%|          |0/19 tiles [00:00<?]"
      ]
     },
     "metadata": {},
     "output_type": "display_data"
    },
    {
     "name": "stdout",
     "output_type": "stream",
     "text": [
      "Downloading 31/86: /projects/my-private-bucket/HLS-1DCNN-AGB/data/tif/VegetationMask/AtlanticForest/2020/Tiles/vegmask2020_31.tif\n"
     ]
    },
    {
     "data": {
      "application/vnd.jupyter.widget-view+json": {
       "model_id": "68f6f674234642b08b6b59070c48c03b",
       "version_major": 2,
       "version_minor": 0
      },
      "text/plain": [
       "...iomas_brazil_collection10_coverage_v2:   0%|          |0/19 tiles [00:00<?]"
      ]
     },
     "metadata": {},
     "output_type": "display_data"
    },
    {
     "name": "stdout",
     "output_type": "stream",
     "text": [
      "Downloading 32/86: /projects/my-private-bucket/HLS-1DCNN-AGB/data/tif/VegetationMask/AtlanticForest/2020/Tiles/vegmask2020_32.tif\n"
     ]
    },
    {
     "data": {
      "application/vnd.jupyter.widget-view+json": {
       "model_id": "1d39ae5db19145a58215c026371652b8",
       "version_major": 2,
       "version_minor": 0
      },
      "text/plain": [
       "...iomas_brazil_collection10_coverage_v2:   0%|          |0/19 tiles [00:00<?]"
      ]
     },
     "metadata": {},
     "output_type": "display_data"
    },
    {
     "name": "stdout",
     "output_type": "stream",
     "text": [
      "Downloading 33/86: /projects/my-private-bucket/HLS-1DCNN-AGB/data/tif/VegetationMask/AtlanticForest/2020/Tiles/vegmask2020_33.tif\n"
     ]
    },
    {
     "data": {
      "application/vnd.jupyter.widget-view+json": {
       "model_id": "d8021057a31b4840b73fc3f2ace18a69",
       "version_major": 2,
       "version_minor": 0
      },
      "text/plain": [
       "...iomas_brazil_collection10_coverage_v2:   0%|          |0/19 tiles [00:00<?]"
      ]
     },
     "metadata": {},
     "output_type": "display_data"
    },
    {
     "name": "stdout",
     "output_type": "stream",
     "text": [
      "Downloading 34/86: /projects/my-private-bucket/HLS-1DCNN-AGB/data/tif/VegetationMask/AtlanticForest/2020/Tiles/vegmask2020_34.tif\n"
     ]
    },
    {
     "data": {
      "application/vnd.jupyter.widget-view+json": {
       "model_id": "7dada1462ef542568931eb47467607ae",
       "version_major": 2,
       "version_minor": 0
      },
      "text/plain": [
       "...iomas_brazil_collection10_coverage_v2:   0%|          |0/19 tiles [00:00<?]"
      ]
     },
     "metadata": {},
     "output_type": "display_data"
    },
    {
     "name": "stdout",
     "output_type": "stream",
     "text": [
      "Downloading 35/86: /projects/my-private-bucket/HLS-1DCNN-AGB/data/tif/VegetationMask/AtlanticForest/2020/Tiles/vegmask2020_35.tif\n"
     ]
    },
    {
     "data": {
      "application/vnd.jupyter.widget-view+json": {
       "model_id": "1fc9b016bd994140aa53ac56660b77ae",
       "version_major": 2,
       "version_minor": 0
      },
      "text/plain": [
       "...iomas_brazil_collection10_coverage_v2:   0%|          |0/19 tiles [00:00<?]"
      ]
     },
     "metadata": {},
     "output_type": "display_data"
    },
    {
     "name": "stdout",
     "output_type": "stream",
     "text": [
      "Downloading 36/86: /projects/my-private-bucket/HLS-1DCNN-AGB/data/tif/VegetationMask/AtlanticForest/2020/Tiles/vegmask2020_36.tif\n"
     ]
    },
    {
     "data": {
      "application/vnd.jupyter.widget-view+json": {
       "model_id": "fdaa584b7bb8439fa5bbde3e28e60d05",
       "version_major": 2,
       "version_minor": 0
      },
      "text/plain": [
       "...iomas_brazil_collection10_coverage_v2:   0%|          |0/19 tiles [00:00<?]"
      ]
     },
     "metadata": {},
     "output_type": "display_data"
    },
    {
     "name": "stdout",
     "output_type": "stream",
     "text": [
      "Downloading 37/86: /projects/my-private-bucket/HLS-1DCNN-AGB/data/tif/VegetationMask/AtlanticForest/2020/Tiles/vegmask2020_37.tif\n"
     ]
    },
    {
     "data": {
      "application/vnd.jupyter.widget-view+json": {
       "model_id": "aa5ae8916ac04378b69eff7cd6420868",
       "version_major": 2,
       "version_minor": 0
      },
      "text/plain": [
       "...iomas_brazil_collection10_coverage_v2:   0%|          |0/19 tiles [00:00<?]"
      ]
     },
     "metadata": {},
     "output_type": "display_data"
    },
    {
     "name": "stdout",
     "output_type": "stream",
     "text": [
      "Downloading 38/86: /projects/my-private-bucket/HLS-1DCNN-AGB/data/tif/VegetationMask/AtlanticForest/2020/Tiles/vegmask2020_38.tif\n"
     ]
    },
    {
     "data": {
      "application/vnd.jupyter.widget-view+json": {
       "model_id": "c9e0e811b108466d9578b4be71dd3f5e",
       "version_major": 2,
       "version_minor": 0
      },
      "text/plain": [
       "...iomas_brazil_collection10_coverage_v2:   0%|          |0/19 tiles [00:00<?]"
      ]
     },
     "metadata": {},
     "output_type": "display_data"
    },
    {
     "name": "stdout",
     "output_type": "stream",
     "text": [
      "Downloading 39/86: /projects/my-private-bucket/HLS-1DCNN-AGB/data/tif/VegetationMask/AtlanticForest/2020/Tiles/vegmask2020_39.tif\n"
     ]
    },
    {
     "data": {
      "application/vnd.jupyter.widget-view+json": {
       "model_id": "6598e4f5115a436fb84c357f97b3be85",
       "version_major": 2,
       "version_minor": 0
      },
      "text/plain": [
       "...iomas_brazil_collection10_coverage_v2:   0%|          |0/19 tiles [00:00<?]"
      ]
     },
     "metadata": {},
     "output_type": "display_data"
    },
    {
     "name": "stdout",
     "output_type": "stream",
     "text": [
      "Downloading 40/86: /projects/my-private-bucket/HLS-1DCNN-AGB/data/tif/VegetationMask/AtlanticForest/2020/Tiles/vegmask2020_40.tif\n"
     ]
    },
    {
     "data": {
      "application/vnd.jupyter.widget-view+json": {
       "model_id": "f6ce5deb0ba44921ac90a662a76a2359",
       "version_major": 2,
       "version_minor": 0
      },
      "text/plain": [
       "...iomas_brazil_collection10_coverage_v2:   0%|          |0/19 tiles [00:00<?]"
      ]
     },
     "metadata": {},
     "output_type": "display_data"
    },
    {
     "name": "stdout",
     "output_type": "stream",
     "text": [
      "Downloading 41/86: /projects/my-private-bucket/HLS-1DCNN-AGB/data/tif/VegetationMask/AtlanticForest/2020/Tiles/vegmask2020_41.tif\n"
     ]
    },
    {
     "data": {
      "application/vnd.jupyter.widget-view+json": {
       "model_id": "f1180a25210b4f18ad710513070788f7",
       "version_major": 2,
       "version_minor": 0
      },
      "text/plain": [
       "...iomas_brazil_collection10_coverage_v2:   0%|          |0/19 tiles [00:00<?]"
      ]
     },
     "metadata": {},
     "output_type": "display_data"
    },
    {
     "name": "stdout",
     "output_type": "stream",
     "text": [
      "Downloading 42/86: /projects/my-private-bucket/HLS-1DCNN-AGB/data/tif/VegetationMask/AtlanticForest/2020/Tiles/vegmask2020_42.tif\n"
     ]
    },
    {
     "data": {
      "application/vnd.jupyter.widget-view+json": {
       "model_id": "e3205c08cf7648599c2db69fe59b31f9",
       "version_major": 2,
       "version_minor": 0
      },
      "text/plain": [
       "...iomas_brazil_collection10_coverage_v2:   0%|          |0/19 tiles [00:00<?]"
      ]
     },
     "metadata": {},
     "output_type": "display_data"
    },
    {
     "name": "stdout",
     "output_type": "stream",
     "text": [
      "Downloading 43/86: /projects/my-private-bucket/HLS-1DCNN-AGB/data/tif/VegetationMask/AtlanticForest/2020/Tiles/vegmask2020_43.tif\n"
     ]
    },
    {
     "data": {
      "application/vnd.jupyter.widget-view+json": {
       "model_id": "13516fcbf6c741b3bc2f7b1b0cb60d4f",
       "version_major": 2,
       "version_minor": 0
      },
      "text/plain": [
       "...iomas_brazil_collection10_coverage_v2:   0%|          |0/19 tiles [00:00<?]"
      ]
     },
     "metadata": {},
     "output_type": "display_data"
    },
    {
     "name": "stdout",
     "output_type": "stream",
     "text": [
      "Downloading 44/86: /projects/my-private-bucket/HLS-1DCNN-AGB/data/tif/VegetationMask/AtlanticForest/2020/Tiles/vegmask2020_44.tif\n"
     ]
    },
    {
     "data": {
      "application/vnd.jupyter.widget-view+json": {
       "model_id": "3414c4095c204606a4a1d06afb17768c",
       "version_major": 2,
       "version_minor": 0
      },
      "text/plain": [
       "...iomas_brazil_collection10_coverage_v2:   0%|          |0/19 tiles [00:00<?]"
      ]
     },
     "metadata": {},
     "output_type": "display_data"
    },
    {
     "name": "stdout",
     "output_type": "stream",
     "text": [
      "Downloading 45/86: /projects/my-private-bucket/HLS-1DCNN-AGB/data/tif/VegetationMask/AtlanticForest/2020/Tiles/vegmask2020_45.tif\n"
     ]
    },
    {
     "data": {
      "application/vnd.jupyter.widget-view+json": {
       "model_id": "0236975b60eb4c87b93644a3cf3e22c6",
       "version_major": 2,
       "version_minor": 0
      },
      "text/plain": [
       "...iomas_brazil_collection10_coverage_v2:   0%|          |0/19 tiles [00:00<?]"
      ]
     },
     "metadata": {},
     "output_type": "display_data"
    },
    {
     "name": "stdout",
     "output_type": "stream",
     "text": [
      "Downloading 46/86: /projects/my-private-bucket/HLS-1DCNN-AGB/data/tif/VegetationMask/AtlanticForest/2020/Tiles/vegmask2020_46.tif\n"
     ]
    },
    {
     "data": {
      "application/vnd.jupyter.widget-view+json": {
       "model_id": "51bc1047143747b99627ec7ac0a7e2e5",
       "version_major": 2,
       "version_minor": 0
      },
      "text/plain": [
       "...iomas_brazil_collection10_coverage_v2:   0%|          |0/19 tiles [00:00<?]"
      ]
     },
     "metadata": {},
     "output_type": "display_data"
    },
    {
     "name": "stdout",
     "output_type": "stream",
     "text": [
      "Downloading 47/86: /projects/my-private-bucket/HLS-1DCNN-AGB/data/tif/VegetationMask/AtlanticForest/2020/Tiles/vegmask2020_47.tif\n"
     ]
    },
    {
     "data": {
      "application/vnd.jupyter.widget-view+json": {
       "model_id": "39ad11c16e66481f9517685f0ade8b66",
       "version_major": 2,
       "version_minor": 0
      },
      "text/plain": [
       "...iomas_brazil_collection10_coverage_v2:   0%|          |0/19 tiles [00:00<?]"
      ]
     },
     "metadata": {},
     "output_type": "display_data"
    },
    {
     "name": "stdout",
     "output_type": "stream",
     "text": [
      "Downloading 48/86: /projects/my-private-bucket/HLS-1DCNN-AGB/data/tif/VegetationMask/AtlanticForest/2020/Tiles/vegmask2020_48.tif\n"
     ]
    },
    {
     "data": {
      "application/vnd.jupyter.widget-view+json": {
       "model_id": "2a09d868d6e44393a929e2a4937990c9",
       "version_major": 2,
       "version_minor": 0
      },
      "text/plain": [
       "...iomas_brazil_collection10_coverage_v2:   0%|          |0/19 tiles [00:00<?]"
      ]
     },
     "metadata": {},
     "output_type": "display_data"
    },
    {
     "name": "stdout",
     "output_type": "stream",
     "text": [
      "Downloading 49/86: /projects/my-private-bucket/HLS-1DCNN-AGB/data/tif/VegetationMask/AtlanticForest/2020/Tiles/vegmask2020_49.tif\n"
     ]
    },
    {
     "data": {
      "application/vnd.jupyter.widget-view+json": {
       "model_id": "c2726bb86c3b4ef6a8df29836d513ae9",
       "version_major": 2,
       "version_minor": 0
      },
      "text/plain": [
       "...iomas_brazil_collection10_coverage_v2:   0%|          |0/19 tiles [00:00<?]"
      ]
     },
     "metadata": {},
     "output_type": "display_data"
    },
    {
     "name": "stdout",
     "output_type": "stream",
     "text": [
      "Downloading 50/86: /projects/my-private-bucket/HLS-1DCNN-AGB/data/tif/VegetationMask/AtlanticForest/2020/Tiles/vegmask2020_50.tif\n"
     ]
    },
    {
     "data": {
      "application/vnd.jupyter.widget-view+json": {
       "model_id": "67ad1e8e9d314e9ba3eee5673b079fcf",
       "version_major": 2,
       "version_minor": 0
      },
      "text/plain": [
       "...iomas_brazil_collection10_coverage_v2:   0%|          |0/19 tiles [00:00<?]"
      ]
     },
     "metadata": {},
     "output_type": "display_data"
    },
    {
     "name": "stdout",
     "output_type": "stream",
     "text": [
      "Downloading 51/86: /projects/my-private-bucket/HLS-1DCNN-AGB/data/tif/VegetationMask/AtlanticForest/2020/Tiles/vegmask2020_51.tif\n"
     ]
    },
    {
     "data": {
      "application/vnd.jupyter.widget-view+json": {
       "model_id": "cb2c157dfb39418b97ced2fe1b2a51dc",
       "version_major": 2,
       "version_minor": 0
      },
      "text/plain": [
       "...iomas_brazil_collection10_coverage_v2:   0%|          |0/19 tiles [00:00<?]"
      ]
     },
     "metadata": {},
     "output_type": "display_data"
    },
    {
     "name": "stdout",
     "output_type": "stream",
     "text": [
      "Downloading 52/86: /projects/my-private-bucket/HLS-1DCNN-AGB/data/tif/VegetationMask/AtlanticForest/2020/Tiles/vegmask2020_52.tif\n"
     ]
    },
    {
     "data": {
      "application/vnd.jupyter.widget-view+json": {
       "model_id": "11e32f2cab2a4638aa0b288175406d58",
       "version_major": 2,
       "version_minor": 0
      },
      "text/plain": [
       "...iomas_brazil_collection10_coverage_v2:   0%|          |0/19 tiles [00:00<?]"
      ]
     },
     "metadata": {},
     "output_type": "display_data"
    },
    {
     "name": "stdout",
     "output_type": "stream",
     "text": [
      "Downloading 53/86: /projects/my-private-bucket/HLS-1DCNN-AGB/data/tif/VegetationMask/AtlanticForest/2020/Tiles/vegmask2020_53.tif\n"
     ]
    },
    {
     "data": {
      "application/vnd.jupyter.widget-view+json": {
       "model_id": "4a6aeccc8d6b4a418bf543440afdfb40",
       "version_major": 2,
       "version_minor": 0
      },
      "text/plain": [
       "...iomas_brazil_collection10_coverage_v2:   0%|          |0/19 tiles [00:00<?]"
      ]
     },
     "metadata": {},
     "output_type": "display_data"
    },
    {
     "name": "stdout",
     "output_type": "stream",
     "text": [
      "Downloading 54/86: /projects/my-private-bucket/HLS-1DCNN-AGB/data/tif/VegetationMask/AtlanticForest/2020/Tiles/vegmask2020_54.tif\n"
     ]
    },
    {
     "data": {
      "application/vnd.jupyter.widget-view+json": {
       "model_id": "3c193ea4ee0f447bb4d6141df772e229",
       "version_major": 2,
       "version_minor": 0
      },
      "text/plain": [
       "...iomas_brazil_collection10_coverage_v2:   0%|          |0/19 tiles [00:00<?]"
      ]
     },
     "metadata": {},
     "output_type": "display_data"
    },
    {
     "name": "stdout",
     "output_type": "stream",
     "text": [
      "Downloading 55/86: /projects/my-private-bucket/HLS-1DCNN-AGB/data/tif/VegetationMask/AtlanticForest/2020/Tiles/vegmask2020_55.tif\n"
     ]
    },
    {
     "data": {
      "application/vnd.jupyter.widget-view+json": {
       "model_id": "61967c05272f4ecc87b3994523da18e9",
       "version_major": 2,
       "version_minor": 0
      },
      "text/plain": [
       "...iomas_brazil_collection10_coverage_v2:   0%|          |0/19 tiles [00:00<?]"
      ]
     },
     "metadata": {},
     "output_type": "display_data"
    },
    {
     "name": "stdout",
     "output_type": "stream",
     "text": [
      "Downloading 56/86: /projects/my-private-bucket/HLS-1DCNN-AGB/data/tif/VegetationMask/AtlanticForest/2020/Tiles/vegmask2020_56.tif\n"
     ]
    },
    {
     "data": {
      "application/vnd.jupyter.widget-view+json": {
       "model_id": "772aae86bbe54698aee3751d06dcd3b4",
       "version_major": 2,
       "version_minor": 0
      },
      "text/plain": [
       "...iomas_brazil_collection10_coverage_v2:   0%|          |0/19 tiles [00:00<?]"
      ]
     },
     "metadata": {},
     "output_type": "display_data"
    },
    {
     "name": "stdout",
     "output_type": "stream",
     "text": [
      "Downloading 57/86: /projects/my-private-bucket/HLS-1DCNN-AGB/data/tif/VegetationMask/AtlanticForest/2020/Tiles/vegmask2020_57.tif\n"
     ]
    },
    {
     "data": {
      "application/vnd.jupyter.widget-view+json": {
       "model_id": "6f184f6fcbc14bbebf7cc5786d734c37",
       "version_major": 2,
       "version_minor": 0
      },
      "text/plain": [
       "...iomas_brazil_collection10_coverage_v2:   0%|          |0/19 tiles [00:00<?]"
      ]
     },
     "metadata": {},
     "output_type": "display_data"
    },
    {
     "name": "stdout",
     "output_type": "stream",
     "text": [
      "Downloading 58/86: /projects/my-private-bucket/HLS-1DCNN-AGB/data/tif/VegetationMask/AtlanticForest/2020/Tiles/vegmask2020_58.tif\n"
     ]
    },
    {
     "data": {
      "application/vnd.jupyter.widget-view+json": {
       "model_id": "ad4aec395ac543dcbfd10d052c52bbf9",
       "version_major": 2,
       "version_minor": 0
      },
      "text/plain": [
       "...iomas_brazil_collection10_coverage_v2:   0%|          |0/19 tiles [00:00<?]"
      ]
     },
     "metadata": {},
     "output_type": "display_data"
    },
    {
     "name": "stdout",
     "output_type": "stream",
     "text": [
      "Downloading 59/86: /projects/my-private-bucket/HLS-1DCNN-AGB/data/tif/VegetationMask/AtlanticForest/2020/Tiles/vegmask2020_59.tif\n"
     ]
    },
    {
     "data": {
      "application/vnd.jupyter.widget-view+json": {
       "model_id": "1b892fd1b86448fe85098530e76dc0ee",
       "version_major": 2,
       "version_minor": 0
      },
      "text/plain": [
       "...iomas_brazil_collection10_coverage_v2:   0%|          |0/19 tiles [00:00<?]"
      ]
     },
     "metadata": {},
     "output_type": "display_data"
    },
    {
     "name": "stdout",
     "output_type": "stream",
     "text": [
      "Downloading 60/86: /projects/my-private-bucket/HLS-1DCNN-AGB/data/tif/VegetationMask/AtlanticForest/2020/Tiles/vegmask2020_60.tif\n"
     ]
    },
    {
     "data": {
      "application/vnd.jupyter.widget-view+json": {
       "model_id": "a2b220730c724c678294460bed30c16b",
       "version_major": 2,
       "version_minor": 0
      },
      "text/plain": [
       "...iomas_brazil_collection10_coverage_v2:   0%|          |0/19 tiles [00:00<?]"
      ]
     },
     "metadata": {},
     "output_type": "display_data"
    },
    {
     "name": "stdout",
     "output_type": "stream",
     "text": [
      "Downloading 61/86: /projects/my-private-bucket/HLS-1DCNN-AGB/data/tif/VegetationMask/AtlanticForest/2020/Tiles/vegmask2020_61.tif\n"
     ]
    },
    {
     "data": {
      "application/vnd.jupyter.widget-view+json": {
       "model_id": "e5420352d36f4ffcb7564d0667c6c4de",
       "version_major": 2,
       "version_minor": 0
      },
      "text/plain": [
       "...iomas_brazil_collection10_coverage_v2:   0%|          |0/19 tiles [00:00<?]"
      ]
     },
     "metadata": {},
     "output_type": "display_data"
    },
    {
     "name": "stdout",
     "output_type": "stream",
     "text": [
      "Downloading 62/86: /projects/my-private-bucket/HLS-1DCNN-AGB/data/tif/VegetationMask/AtlanticForest/2020/Tiles/vegmask2020_62.tif\n"
     ]
    },
    {
     "data": {
      "application/vnd.jupyter.widget-view+json": {
       "model_id": "9c90ba81b066429185af3e6f4e8368a1",
       "version_major": 2,
       "version_minor": 0
      },
      "text/plain": [
       "...iomas_brazil_collection10_coverage_v2:   0%|          |0/19 tiles [00:00<?]"
      ]
     },
     "metadata": {},
     "output_type": "display_data"
    },
    {
     "name": "stdout",
     "output_type": "stream",
     "text": [
      "Downloading 63/86: /projects/my-private-bucket/HLS-1DCNN-AGB/data/tif/VegetationMask/AtlanticForest/2020/Tiles/vegmask2020_63.tif\n"
     ]
    },
    {
     "data": {
      "application/vnd.jupyter.widget-view+json": {
       "model_id": "939cd22e47df45b58ff676fae55bf9ae",
       "version_major": 2,
       "version_minor": 0
      },
      "text/plain": [
       "...iomas_brazil_collection10_coverage_v2:   0%|          |0/19 tiles [00:00<?]"
      ]
     },
     "metadata": {},
     "output_type": "display_data"
    },
    {
     "name": "stdout",
     "output_type": "stream",
     "text": [
      "Downloading 64/86: /projects/my-private-bucket/HLS-1DCNN-AGB/data/tif/VegetationMask/AtlanticForest/2020/Tiles/vegmask2020_64.tif\n"
     ]
    },
    {
     "data": {
      "application/vnd.jupyter.widget-view+json": {
       "model_id": "98ed69b7a9b54f3a93da3cb0b75ea915",
       "version_major": 2,
       "version_minor": 0
      },
      "text/plain": [
       "...iomas_brazil_collection10_coverage_v2:   0%|          |0/19 tiles [00:00<?]"
      ]
     },
     "metadata": {},
     "output_type": "display_data"
    },
    {
     "name": "stdout",
     "output_type": "stream",
     "text": [
      "Downloading 65/86: /projects/my-private-bucket/HLS-1DCNN-AGB/data/tif/VegetationMask/AtlanticForest/2020/Tiles/vegmask2020_65.tif\n"
     ]
    },
    {
     "data": {
      "application/vnd.jupyter.widget-view+json": {
       "model_id": "f69ccf9102f640c5bef1df391c57bda5",
       "version_major": 2,
       "version_minor": 0
      },
      "text/plain": [
       "...iomas_brazil_collection10_coverage_v2:   0%|          |0/19 tiles [00:00<?]"
      ]
     },
     "metadata": {},
     "output_type": "display_data"
    },
    {
     "name": "stdout",
     "output_type": "stream",
     "text": [
      "Downloading 66/86: /projects/my-private-bucket/HLS-1DCNN-AGB/data/tif/VegetationMask/AtlanticForest/2020/Tiles/vegmask2020_66.tif\n"
     ]
    },
    {
     "data": {
      "application/vnd.jupyter.widget-view+json": {
       "model_id": "368aeac1d9994f74b34e911f6f5b265b",
       "version_major": 2,
       "version_minor": 0
      },
      "text/plain": [
       "...iomas_brazil_collection10_coverage_v2:   0%|          |0/19 tiles [00:00<?]"
      ]
     },
     "metadata": {},
     "output_type": "display_data"
    },
    {
     "name": "stdout",
     "output_type": "stream",
     "text": [
      "Downloading 67/86: /projects/my-private-bucket/HLS-1DCNN-AGB/data/tif/VegetationMask/AtlanticForest/2020/Tiles/vegmask2020_67.tif\n"
     ]
    },
    {
     "data": {
      "application/vnd.jupyter.widget-view+json": {
       "model_id": "097f3e26077b4adb9512ee758892d6ca",
       "version_major": 2,
       "version_minor": 0
      },
      "text/plain": [
       "...iomas_brazil_collection10_coverage_v2:   0%|          |0/19 tiles [00:00<?]"
      ]
     },
     "metadata": {},
     "output_type": "display_data"
    },
    {
     "name": "stdout",
     "output_type": "stream",
     "text": [
      "Downloading 68/86: /projects/my-private-bucket/HLS-1DCNN-AGB/data/tif/VegetationMask/AtlanticForest/2020/Tiles/vegmask2020_68.tif\n"
     ]
    },
    {
     "data": {
      "application/vnd.jupyter.widget-view+json": {
       "model_id": "63add134eb844225983020e0157ac771",
       "version_major": 2,
       "version_minor": 0
      },
      "text/plain": [
       "...iomas_brazil_collection10_coverage_v2:   0%|          |0/19 tiles [00:00<?]"
      ]
     },
     "metadata": {},
     "output_type": "display_data"
    },
    {
     "name": "stdout",
     "output_type": "stream",
     "text": [
      "Downloading 69/86: /projects/my-private-bucket/HLS-1DCNN-AGB/data/tif/VegetationMask/AtlanticForest/2020/Tiles/vegmask2020_69.tif\n"
     ]
    },
    {
     "data": {
      "application/vnd.jupyter.widget-view+json": {
       "model_id": "33c0451ae06d4148a8d0c0ef06641a8c",
       "version_major": 2,
       "version_minor": 0
      },
      "text/plain": [
       "...iomas_brazil_collection10_coverage_v2:   0%|          |0/19 tiles [00:00<?]"
      ]
     },
     "metadata": {},
     "output_type": "display_data"
    },
    {
     "name": "stdout",
     "output_type": "stream",
     "text": [
      "Downloading 70/86: /projects/my-private-bucket/HLS-1DCNN-AGB/data/tif/VegetationMask/AtlanticForest/2020/Tiles/vegmask2020_70.tif\n"
     ]
    },
    {
     "data": {
      "application/vnd.jupyter.widget-view+json": {
       "model_id": "a33aef6a3cd14e578141ae00bd8b4ae2",
       "version_major": 2,
       "version_minor": 0
      },
      "text/plain": [
       "...iomas_brazil_collection10_coverage_v2:   0%|          |0/19 tiles [00:00<?]"
      ]
     },
     "metadata": {},
     "output_type": "display_data"
    },
    {
     "name": "stdout",
     "output_type": "stream",
     "text": [
      "Downloading 71/86: /projects/my-private-bucket/HLS-1DCNN-AGB/data/tif/VegetationMask/AtlanticForest/2020/Tiles/vegmask2020_71.tif\n"
     ]
    },
    {
     "data": {
      "application/vnd.jupyter.widget-view+json": {
       "model_id": "3cdabae984fb4d08adf782c8c6867174",
       "version_major": 2,
       "version_minor": 0
      },
      "text/plain": [
       "...iomas_brazil_collection10_coverage_v2:   0%|          |0/19 tiles [00:00<?]"
      ]
     },
     "metadata": {},
     "output_type": "display_data"
    },
    {
     "name": "stdout",
     "output_type": "stream",
     "text": [
      "Downloading 72/86: /projects/my-private-bucket/HLS-1DCNN-AGB/data/tif/VegetationMask/AtlanticForest/2020/Tiles/vegmask2020_72.tif\n"
     ]
    },
    {
     "data": {
      "application/vnd.jupyter.widget-view+json": {
       "model_id": "e7df88d207cd4c178e07cf43336b56a3",
       "version_major": 2,
       "version_minor": 0
      },
      "text/plain": [
       "...iomas_brazil_collection10_coverage_v2:   0%|          |0/19 tiles [00:00<?]"
      ]
     },
     "metadata": {},
     "output_type": "display_data"
    },
    {
     "name": "stdout",
     "output_type": "stream",
     "text": [
      "Downloading 73/86: /projects/my-private-bucket/HLS-1DCNN-AGB/data/tif/VegetationMask/AtlanticForest/2020/Tiles/vegmask2020_73.tif\n"
     ]
    },
    {
     "data": {
      "application/vnd.jupyter.widget-view+json": {
       "model_id": "e1ff31102f2f487484f8ddffaae8e8e1",
       "version_major": 2,
       "version_minor": 0
      },
      "text/plain": [
       "...iomas_brazil_collection10_coverage_v2:   0%|          |0/19 tiles [00:00<?]"
      ]
     },
     "metadata": {},
     "output_type": "display_data"
    },
    {
     "name": "stdout",
     "output_type": "stream",
     "text": [
      "Downloading 74/86: /projects/my-private-bucket/HLS-1DCNN-AGB/data/tif/VegetationMask/AtlanticForest/2020/Tiles/vegmask2020_74.tif\n"
     ]
    },
    {
     "data": {
      "application/vnd.jupyter.widget-view+json": {
       "model_id": "987aad80eb894008898b9cb4eb4aacb2",
       "version_major": 2,
       "version_minor": 0
      },
      "text/plain": [
       "...iomas_brazil_collection10_coverage_v2:   0%|          |0/19 tiles [00:00<?]"
      ]
     },
     "metadata": {},
     "output_type": "display_data"
    },
    {
     "name": "stdout",
     "output_type": "stream",
     "text": [
      "Downloading 75/86: /projects/my-private-bucket/HLS-1DCNN-AGB/data/tif/VegetationMask/AtlanticForest/2020/Tiles/vegmask2020_75.tif\n"
     ]
    },
    {
     "data": {
      "application/vnd.jupyter.widget-view+json": {
       "model_id": "1157e8ada63b49e59618706e8a1d53d2",
       "version_major": 2,
       "version_minor": 0
      },
      "text/plain": [
       "...iomas_brazil_collection10_coverage_v2:   0%|          |0/19 tiles [00:00<?]"
      ]
     },
     "metadata": {},
     "output_type": "display_data"
    },
    {
     "name": "stdout",
     "output_type": "stream",
     "text": [
      "Downloading 76/86: /projects/my-private-bucket/HLS-1DCNN-AGB/data/tif/VegetationMask/AtlanticForest/2020/Tiles/vegmask2020_76.tif\n"
     ]
    },
    {
     "data": {
      "application/vnd.jupyter.widget-view+json": {
       "model_id": "9e2bdbc1f6254a909eed5f4c71ef00d4",
       "version_major": 2,
       "version_minor": 0
      },
      "text/plain": [
       "...iomas_brazil_collection10_coverage_v2:   0%|          |0/19 tiles [00:00<?]"
      ]
     },
     "metadata": {},
     "output_type": "display_data"
    },
    {
     "name": "stdout",
     "output_type": "stream",
     "text": [
      "Downloading 77/86: /projects/my-private-bucket/HLS-1DCNN-AGB/data/tif/VegetationMask/AtlanticForest/2020/Tiles/vegmask2020_77.tif\n"
     ]
    },
    {
     "data": {
      "application/vnd.jupyter.widget-view+json": {
       "model_id": "e9ece1b2cca94e5e80877c1d3b56de21",
       "version_major": 2,
       "version_minor": 0
      },
      "text/plain": [
       "...iomas_brazil_collection10_coverage_v2:   0%|          |0/19 tiles [00:00<?]"
      ]
     },
     "metadata": {},
     "output_type": "display_data"
    },
    {
     "name": "stdout",
     "output_type": "stream",
     "text": [
      "Downloading 78/86: /projects/my-private-bucket/HLS-1DCNN-AGB/data/tif/VegetationMask/AtlanticForest/2020/Tiles/vegmask2020_78.tif\n"
     ]
    },
    {
     "data": {
      "application/vnd.jupyter.widget-view+json": {
       "model_id": "934c368a77cb4e8780c0460b0d46dd67",
       "version_major": 2,
       "version_minor": 0
      },
      "text/plain": [
       "...iomas_brazil_collection10_coverage_v2:   0%|          |0/19 tiles [00:00<?]"
      ]
     },
     "metadata": {},
     "output_type": "display_data"
    },
    {
     "name": "stdout",
     "output_type": "stream",
     "text": [
      "Downloading 79/86: /projects/my-private-bucket/HLS-1DCNN-AGB/data/tif/VegetationMask/AtlanticForest/2020/Tiles/vegmask2020_79.tif\n"
     ]
    },
    {
     "data": {
      "application/vnd.jupyter.widget-view+json": {
       "model_id": "918ff4bfcd53459d9b27940da670933c",
       "version_major": 2,
       "version_minor": 0
      },
      "text/plain": [
       "...iomas_brazil_collection10_coverage_v2:   0%|          |0/19 tiles [00:00<?]"
      ]
     },
     "metadata": {},
     "output_type": "display_data"
    },
    {
     "name": "stdout",
     "output_type": "stream",
     "text": [
      "Downloading 80/86: /projects/my-private-bucket/HLS-1DCNN-AGB/data/tif/VegetationMask/AtlanticForest/2020/Tiles/vegmask2020_80.tif\n"
     ]
    },
    {
     "data": {
      "application/vnd.jupyter.widget-view+json": {
       "model_id": "db5ff523eff3469a9aa64d141eb3fbdd",
       "version_major": 2,
       "version_minor": 0
      },
      "text/plain": [
       "...iomas_brazil_collection10_coverage_v2:   0%|          |0/19 tiles [00:00<?]"
      ]
     },
     "metadata": {},
     "output_type": "display_data"
    },
    {
     "name": "stdout",
     "output_type": "stream",
     "text": [
      "Downloading 81/86: /projects/my-private-bucket/HLS-1DCNN-AGB/data/tif/VegetationMask/AtlanticForest/2020/Tiles/vegmask2020_81.tif\n"
     ]
    },
    {
     "data": {
      "application/vnd.jupyter.widget-view+json": {
       "model_id": "afa8bd63f5ad42e5987200d9c411c211",
       "version_major": 2,
       "version_minor": 0
      },
      "text/plain": [
       "...iomas_brazil_collection10_coverage_v2:   0%|          |0/19 tiles [00:00<?]"
      ]
     },
     "metadata": {},
     "output_type": "display_data"
    },
    {
     "name": "stdout",
     "output_type": "stream",
     "text": [
      "Downloading 82/86: /projects/my-private-bucket/HLS-1DCNN-AGB/data/tif/VegetationMask/AtlanticForest/2020/Tiles/vegmask2020_82.tif\n"
     ]
    },
    {
     "data": {
      "application/vnd.jupyter.widget-view+json": {
       "model_id": "8c44a9dab1c145d79cf64c13752a19b3",
       "version_major": 2,
       "version_minor": 0
      },
      "text/plain": [
       "...iomas_brazil_collection10_coverage_v2:   0%|          |0/19 tiles [00:00<?]"
      ]
     },
     "metadata": {},
     "output_type": "display_data"
    },
    {
     "name": "stdout",
     "output_type": "stream",
     "text": [
      "Downloading 83/86: /projects/my-private-bucket/HLS-1DCNN-AGB/data/tif/VegetationMask/AtlanticForest/2020/Tiles/vegmask2020_83.tif\n"
     ]
    },
    {
     "data": {
      "application/vnd.jupyter.widget-view+json": {
       "model_id": "53bbc970d2d84f5fa09fbee9f9a9d29f",
       "version_major": 2,
       "version_minor": 0
      },
      "text/plain": [
       "...iomas_brazil_collection10_coverage_v2:   0%|          |0/19 tiles [00:00<?]"
      ]
     },
     "metadata": {},
     "output_type": "display_data"
    },
    {
     "name": "stdout",
     "output_type": "stream",
     "text": [
      "Downloading 84/86: /projects/my-private-bucket/HLS-1DCNN-AGB/data/tif/VegetationMask/AtlanticForest/2020/Tiles/vegmask2020_84.tif\n"
     ]
    },
    {
     "data": {
      "application/vnd.jupyter.widget-view+json": {
       "model_id": "e8160bbcbf1d40cca53ad9629a010748",
       "version_major": 2,
       "version_minor": 0
      },
      "text/plain": [
       "...iomas_brazil_collection10_coverage_v2:   0%|          |0/19 tiles [00:00<?]"
      ]
     },
     "metadata": {},
     "output_type": "display_data"
    },
    {
     "name": "stdout",
     "output_type": "stream",
     "text": [
      "Downloading 85/86: /projects/my-private-bucket/HLS-1DCNN-AGB/data/tif/VegetationMask/AtlanticForest/2020/Tiles/vegmask2020_85.tif\n"
     ]
    },
    {
     "data": {
      "application/vnd.jupyter.widget-view+json": {
       "model_id": "2a9d5a00d3ef4935b9f60929b6be3d1b",
       "version_major": 2,
       "version_minor": 0
      },
      "text/plain": [
       "...iomas_brazil_collection10_coverage_v2:   0%|          |0/19 tiles [00:00<?]"
      ]
     },
     "metadata": {},
     "output_type": "display_data"
    },
    {
     "name": "stdout",
     "output_type": "stream",
     "text": [
      "Downloading 86/86: /projects/my-private-bucket/HLS-1DCNN-AGB/data/tif/VegetationMask/AtlanticForest/2020/Tiles/vegmask2020_86.tif\n"
     ]
    },
    {
     "data": {
      "application/vnd.jupyter.widget-view+json": {
       "model_id": "985c41c4d4e44a5dbb5af629d6822b4c",
       "version_major": 2,
       "version_minor": 0
      },
      "text/plain": [
       "...iomas_brazil_collection10_coverage_v2:   0%|          |0/19 tiles [00:00<?]"
      ]
     },
     "metadata": {},
     "output_type": "display_data"
    },
    {
     "name": "stdout",
     "output_type": "stream",
     "text": [
      "Downloaded 86 tiles in 651.3073766231537 seconds.\n"
     ]
    }
   ],
   "source": [
    "\n",
    "geemap.download_ee_image_tiles(\n",
    "    mapbiomas_roi_veg, fishnet_aoi, out_dir, prefix=f\"vegmask{year}_\", crs=\"EPSG:4326\", scale=30\n",
    ")"
   ]
  },
  {
   "cell_type": "markdown",
   "id": "4827bb8f-5566-4b47-9d3e-86eab4036cad",
   "metadata": {},
   "source": [
    "## Create VRTs"
   ]
  },
  {
   "cell_type": "code",
   "execution_count": null,
   "id": "cb69eba2-759b-4a2c-9f09-f8578b9db873",
   "metadata": {},
   "outputs": [],
   "source": [
    "# gdalbuildvrt \\\n",
    "#   -srcnodata 0 -vrtnodata 0 \\\n",
    "#   /projects/my-private-bucket/HLS-1DCNN-AGB/data/tif/VegetationMask/AtlanticForest/2024/vegmask_2024.vrt \\\n",
    "#   /projects/my-private-bucket/HLS-1DCNN-AGB/data/tif/VegetationMask/AtlanticForest/2024/Tiles/*.tif"
   ]
  },
  {
   "cell_type": "code",
   "execution_count": null,
   "id": "ba3cf79d-51da-429c-a462-5e30ccd0f012",
   "metadata": {},
   "outputs": [],
   "source": []
  },
  {
   "cell_type": "code",
   "execution_count": null,
   "id": "70437e51-0a1f-48e8-922c-f089832d91a0",
   "metadata": {},
   "outputs": [],
   "source": []
  },
  {
   "cell_type": "code",
   "execution_count": null,
   "id": "f9a8c550-2883-4e03-867f-f251dc13e9fe",
   "metadata": {},
   "outputs": [],
   "source": []
  }
 ],
 "metadata": {
  "kernelspec": {
   "display_name": "Python [conda env:pangeo] *",
   "language": "python",
   "name": "conda-env-pangeo-py"
  },
  "language_info": {
   "codemirror_mode": {
    "name": "ipython",
    "version": 3
   },
   "file_extension": ".py",
   "mimetype": "text/x-python",
   "name": "python",
   "nbconvert_exporter": "python",
   "pygments_lexer": "ipython3",
   "version": "3.12.7"
  }
 },
 "nbformat": 4,
 "nbformat_minor": 5
}
