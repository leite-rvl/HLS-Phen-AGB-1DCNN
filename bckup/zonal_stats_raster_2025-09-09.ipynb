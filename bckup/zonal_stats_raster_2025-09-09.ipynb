{
 "cells": [
  {
   "cell_type": "markdown",
   "id": "d32636d1-c718-4c58-b432-93678affab7d",
   "metadata": {},
   "source": [
    "\"\"\"\n",
    "Script to compute zonal statistics for GEDI L4A points against a multiband HLS raster.\n",
    "Steps:\n",
    "1. Load GEDI L4A geospatial points (optionally buffer it into polygons - ## check errors on rastererization).\n",
    "2. Load single band image - e.g. HLS composite raster for one band.\n",
    "3. Reproject points to raster CRS and rasterize zones.\n",
    "4. Compute per-zone statistics (e.g., mean) using xrspatial.zonal_stats.\n",
    "5. Join results back to the input GeoDataFrame and export to GeoPackage.\n",
    "\"\"\""
   ]
  },
  {
   "cell_type": "code",
   "execution_count": 35,
   "id": "7a87305b-d88c-4bd1-a79c-5b0cb734eb4f",
   "metadata": {},
   "outputs": [],
   "source": [
    "import os\n",
    "import numpy as np\n",
    "import geopandas as gpd\n",
    "import rioxarray\n",
    "from rasterio import features\n",
    "from shapely.geometry import Point\n",
    "from xrspatial import zonal_stats\n",
    "import pandas as pd\n",
    "from pyproj import CRS"
   ]
  },
  {
   "cell_type": "code",
   "execution_count": 36,
   "id": "a6a4beae-c5b5-4464-8bf8-9e2119d69122",
   "metadata": {},
   "outputs": [],
   "source": [
    "l4a_path = '/projects/my-private-bucket/HLS-1DCNN-AGB/data/shp/gedi/test/l4a_t90km_t89_veg2020_outrm.gpkg'"
   ]
  },
  {
   "cell_type": "code",
   "execution_count": 37,
   "id": "b358f0f0-f110-4bb5-93d1-1d6397716518",
   "metadata": {},
   "outputs": [],
   "source": [
    "# Multiband image path\n",
    "img_path = '/projects/my-private-bucket/HLS-1DCNN-AGB/data/tif/HLS_composites/yearly/br_af_grid90km_evi2_p95/tile_089/bands_vrt/HLS_89_01-01_12-30_2022_2022_percentile95.0evi2_Blue.vrt'"
   ]
  },
  {
   "cell_type": "code",
   "execution_count": 38,
   "id": "558050ad-d5b2-4a50-8214-0eea35934a2d",
   "metadata": {},
   "outputs": [
    {
     "data": {
      "text/plain": [
       "'HLS.2022-01-01.2022-12-30.Blue'"
      ]
     },
     "execution_count": 38,
     "metadata": {},
     "output_type": "execute_result"
    }
   ],
   "source": [
    "# Get band name\n",
    "fname = os.path.basename(img_path)\n",
    "# -> \"HLS_89_01-01_12-30_2022_2022_percentile95.0evi2_Blue.vrt\"\n",
    "\n",
    "fn_parts = fname.replace(\".vrt\", \"\").split(\"_\")\n",
    "# ['HLS', '89', '01-01', '12-30', '2022', '2022', 'percentile95.0evi2', 'Blue']\n",
    "\n",
    "# Rebuild the string to variable name\n",
    "band_name = f\"{fn_parts[0]}.{fn_parts[4]}-{fn_parts[2]}.{fn_parts[5]}-{fn_parts[3]}.{fn_parts[-1]}\"\n",
    "band_name"
   ]
  },
  {
   "cell_type": "code",
   "execution_count": 39,
   "id": "e570a8e2-2964-46bc-9898-3b8a2850994a",
   "metadata": {},
   "outputs": [],
   "source": [
    "# BUFFER_METERS = 12.5         # set >0 to make polygons around each point; set 0 to treat each point as a single-pixel sample\n",
    "BUFFER_METERS = 0         \n",
    "ZONE_ID_COL   = \"zone\"   # name for per-feature unique IDs"
   ]
  },
  {
   "cell_type": "code",
   "execution_count": 40,
   "id": "4a067f44-f28a-46d6-84e3-888e09f86ca4",
   "metadata": {},
   "outputs": [],
   "source": [
    "# 1) Open raster as xarray (single band)\n",
    "da = rioxarray.open_rasterio(img_path).squeeze()  # [y, x]\n",
    "if 'band' in da.dims:\n",
    "    da = da.squeeze('band', drop=True)\n",
    "    \n",
    "raster_crs = CRS.from_user_input(da.rio.crs)\n",
    "transform  = da.rio.transform()\n",
    "out_shape  = da.shape  # (rows, cols)\n",
    "nodata     = da.rio.nodata\n",
    "\n",
    "da = da.where(da != da.rio.nodata)"
   ]
  },
  {
   "cell_type": "code",
   "execution_count": 41,
   "id": "9f13820f-20f3-4922-96da-b5b6f2f9f549",
   "metadata": {},
   "outputs": [],
   "source": [
    "# temp_tif_fn = '/projects/my-private-bucket/HLS-1DCNN-AGB/data/shp/gedi/test/temp_blue_img.tif'\n",
    "# da.rio.to_raster(temp_tif_fn)"
   ]
  },
  {
   "cell_type": "code",
   "execution_count": 42,
   "id": "2cdf98c3-c2af-4931-827f-b6556351c243",
   "metadata": {},
   "outputs": [],
   "source": [
    "# 2) Read points\n",
    "gdf = gpd.read_file(l4a_path)\n",
    "\n",
    "# Create ID for the zonal stats\n",
    "if ZONE_ID_COL not in gdf.columns:\n",
    "    gdf = gdf.reset_index(drop=True)\n",
    "    gdf[ZONE_ID_COL] = np.arange(1, len(gdf) + 1, dtype=np.int32)"
   ]
  },
  {
   "cell_type": "code",
   "execution_count": 43,
   "id": "65470068-f411-4bf4-847c-c8a2b01b5122",
   "metadata": {},
   "outputs": [],
   "source": [
    "# 3) Reproject to raster CRS and buffer to polygons \n",
    "gdf_proj = gdf.to_crs(raster_crs)\n",
    "\n",
    "\n",
    "# BUffer\n",
    "if BUFFER_METERS > 0:\n",
    "    gdf_proj[\"geometry\"] = gdf_proj.geometry.buffer(BUFFER_METERS)\n"
   ]
  },
  {
   "cell_type": "code",
   "execution_count": 44,
   "id": "cd45b54d-f375-4fe4-a147-671abbb69b9f",
   "metadata": {},
   "outputs": [],
   "source": [
    "# temp_pts_prj = '/projects/my-private-bucket/HLS-1DCNN-AGB/data/shp/gedi/test/temp_refpts_prj.gpkg'\n",
    "# gdf_proj.to_file(temp_pts_prj)"
   ]
  },
  {
   "cell_type": "code",
   "execution_count": 45,
   "id": "b9ad7f11-8a46-4831-b641-c8f9d8236e1c",
   "metadata": {},
   "outputs": [],
   "source": [
    "# 4) Build (geometry, id) tuples for rasterization\n",
    "geom = list(zip(gdf_proj.geometry, gdf_proj[ZONE_ID_COL]))\n"
   ]
  },
  {
   "cell_type": "code",
   "execution_count": 46,
   "id": "886017ed-269d-43e6-b231-0f2a2fe9efbc",
   "metadata": {},
   "outputs": [],
   "source": [
    "# geom\n",
    "# ?features.rasterize"
   ]
  },
  {
   "cell_type": "code",
   "execution_count": 47,
   "id": "1b961034-5422-4c3e-8c05-c89ac8e5f466",
   "metadata": {},
   "outputs": [],
   "source": [
    "# 5) Rasterize zones (same shape/transform as raster)\n",
    "zones_arr = features.rasterize(\n",
    "    geom,\n",
    "    out_shape=out_shape,\n",
    "    transform=transform,\n",
    "    fill= nodata,\n",
    "    nodata = nodata,\n",
    "    masked = True,\n",
    "    # fill=0,# background (no zone)\n",
    "    dtype=\"int32\",\n",
    "    # all_touched=True\n",
    ")"
   ]
  },
  {
   "cell_type": "code",
   "execution_count": 48,
   "id": "f9be649a-602f-4922-a904-191146a58118",
   "metadata": {},
   "outputs": [],
   "source": [
    "# # 6) Wrap zones into an xarray aligned with the raster\n",
    "zones_xarr = da.copy(deep=False)  # copies coords/attrs, not data\n",
    "zones_xarr.data = zones_arr\n",
    "# zones_xarr.attrs[\"nodata\"] = nodata\n",
    "# zones_xarr"
   ]
  },
  {
   "cell_type": "code",
   "execution_count": 49,
   "id": "7d821e56-7fb5-426a-b3e2-1f522fe0fa76",
   "metadata": {},
   "outputs": [],
   "source": [
    "# temp_tif_fn = '/projects/my-private-bucket/HLS-1DCNN-AGB/data/shp/gedi/test/temp_zones_img.tif'\n",
    "# zones_xarr.rio.to_raster(temp_tif_fn)"
   ]
  },
  {
   "cell_type": "code",
   "execution_count": 50,
   "id": "35bc1691-967d-497f-b838-1242577a8e02",
   "metadata": {},
   "outputs": [],
   "source": [
    "# ?zonal_stats"
   ]
  },
  {
   "cell_type": "code",
   "execution_count": 51,
   "id": "cdf700d9-1746-497c-acae-be4887b5f621",
   "metadata": {},
   "outputs": [
    {
     "name": "stdout",
     "output_type": "stream",
     "text": [
      "CPU times: user 565 ms, sys: 47 ms, total: 612 ms\n",
      "Wall time: 611 ms\n"
     ]
    }
   ],
   "source": [
    "%%time\n",
    "# 7) Compute zonal stats using xrspatial (min/max/mean/etc.)\n",
    "#    If your raster has nodata, pass it so stats ignore it\n",
    "zs_df = zonal_stats(\n",
    "    zones=zones_xarr,      # your integer-labeled zone raster\n",
    "    values=da,             # the raster with values to summarize\n",
    "    # stats_funcs=['mean', 'max', 'min', 'sum', 'std', 'var', 'count'],\n",
    "    stats_funcs=['mean'],\n",
    "    nodata_values=nodata,   # very important → ensures nodata is ignored\n",
    "    return_type='pandas.DataFrame'\n",
    ")\n"
   ]
  },
  {
   "cell_type": "code",
   "execution_count": 25,
   "id": "e3e94257-ce6c-407a-b2e2-ccc5c0657d4f",
   "metadata": {},
   "outputs": [],
   "source": [
    "# zs_df"
   ]
  },
  {
   "cell_type": "code",
   "execution_count": 52,
   "id": "7656255b-b667-4a3a-a45d-3427da02be12",
   "metadata": {},
   "outputs": [
    {
     "name": "stdout",
     "output_type": "stream",
     "text": [
      "CPU times: user 24.9 s, sys: 11.2 s, total: 36.1 s\n",
      "Wall time: 3min\n"
     ]
    }
   ],
   "source": [
    "%%time\n",
    "from rasterstats import point_query\n",
    "\n",
    "values = point_query(gdf, img_path)"
   ]
  },
  {
   "cell_type": "code",
   "execution_count": 54,
   "id": "27a86eb1-e916-4153-91f8-488060650aea",
   "metadata": {},
   "outputs": [],
   "source": [
    "# values"
   ]
  },
  {
   "cell_type": "code",
   "execution_count": 26,
   "id": "1cb7a3d9-10c0-4bd2-a6b6-f3ecb4f0dab8",
   "metadata": {},
   "outputs": [
    {
     "name": "stdout",
     "output_type": "stream",
     "text": [
      "   zone  HLS.2022-01-01.2022-12-30.Blue_mean\n",
      "0  44.0                               0.0243\n",
      "1  59.0                               0.0116\n",
      "2  60.0                               0.0221\n",
      "3  61.0                               0.0137\n",
      "4  62.0                               0.0149\n"
     ]
    }
   ],
   "source": [
    "# # Keep only \"mean\"\n",
    "# zs_df = pd.DataFrame({\"mean\": pd.Series(zs[\"mean\"])}).rename_axis(ZONE_ID_COL).reset_index()\n",
    "\n",
    "# Rename column -> e.g. \"evi2_mean\"\n",
    "zs_df = zs_df.rename(columns={\"mean\": f\"{band_name}_mean\"})\n",
    "\n",
    "print(zs_df.head())"
   ]
  },
  {
   "cell_type": "code",
   "execution_count": 27,
   "id": "7650607f-0672-4e06-b238-ab5ae1ee3655",
   "metadata": {},
   "outputs": [],
   "source": [
    "# 9) Join back to attributes\n",
    "out = (gdf[[ZONE_ID_COL]]\n",
    "       .drop_duplicates()\n",
    "       .merge(zs_df, on=ZONE_ID_COL, how=\"left\"))\n",
    "\n",
    "# 10) (Optional) Merge to original gdf (one row per feature) and save\n",
    "gdf_stats = gdf.merge(out, on=ZONE_ID_COL, how=\"left\")"
   ]
  },
  {
   "cell_type": "code",
   "execution_count": 28,
   "id": "b0165aa7-9696-457d-8cb2-9a37375e6b0c",
   "metadata": {},
   "outputs": [],
   "source": [
    "# # 9) Join back to attributes test with gdf_proj\n",
    "# out = (gdf_proj[[ZONE_ID_COL]]\n",
    "#        .drop_duplicates()\n",
    "#        .merge(zs_df, on=ZONE_ID_COL, how=\"left\"))\n",
    "\n",
    "# # 10) (Optional) Merge to original gdf (one row per feature) and save\n",
    "# gdf_stats = gdf_proj.merge(out, on=ZONE_ID_COL, how=\"left\")"
   ]
  },
  {
   "cell_type": "code",
   "execution_count": 29,
   "id": "ec81aaca-15f3-466c-b53e-78ad88522ce4",
   "metadata": {},
   "outputs": [],
   "source": [
    "# gdf_stats[\"HLS.2022-01-01.2022-12-30.Blue_mean\"].isna().sum()"
   ]
  },
  {
   "cell_type": "code",
   "execution_count": 30,
   "id": "26602dff-88f4-46f4-aa9a-02b035cd31be",
   "metadata": {},
   "outputs": [
    {
     "name": "stdout",
     "output_type": "stream",
     "text": [
      "NaN points in 'HLS.2022-01-01.2022-12-30.Blue_mean': 598\n"
     ]
    }
   ],
   "source": [
    "col = f\"{band_name}_mean\"\n",
    "# --- Filter to NaN points in the target column ---\n",
    "nan_pts = gdf_stats[gdf_stats[col].isna()].copy()\n",
    "print(f\"NaN points in '{col}': {len(nan_pts)}\")\n",
    "\n",
    "if nan_pts.empty:\n",
    "    raise ValueError(f\"No NaN points found in column '{col}'.\")\n"
   ]
  },
  {
   "cell_type": "code",
   "execution_count": 31,
   "id": "1834a231-f647-46e9-a143-60153fd79f99",
   "metadata": {},
   "outputs": [],
   "source": [
    "gdf_stats_nona = gdf_stats.dropna(subset=f\"{band_name}_mean\")"
   ]
  },
  {
   "cell_type": "code",
   "execution_count": 32,
   "id": "363456f3-33cd-4c3d-a16f-8c5049f65cd3",
   "metadata": {},
   "outputs": [
    {
     "data": {
      "text/plain": [
       "10639"
      ]
     },
     "execution_count": 32,
     "metadata": {},
     "output_type": "execute_result"
    }
   ],
   "source": [
    "len(gdf_stats_nona)"
   ]
  },
  {
   "cell_type": "code",
   "execution_count": 33,
   "id": "c1e59ac5-e726-488d-b415-d34cef59481e",
   "metadata": {},
   "outputs": [],
   "source": [
    "l4a_zonalstats_fn = '/projects/my-private-bucket/HLS-1DCNN-AGB/data/shp/gedi/test/l4a_t90km_t89_veg2020_outrm_zonal.gpkg'"
   ]
  },
  {
   "cell_type": "code",
   "execution_count": 34,
   "id": "5d970c9c-7222-4ceb-906d-8276c6aedc48",
   "metadata": {},
   "outputs": [],
   "source": [
    "# Export gdf_stats\n",
    "gdf_stats_nona.to_file(l4a_zonalstats_fn)"
   ]
  }
 ],
 "metadata": {
  "kernelspec": {
   "display_name": "Python [conda env:pangeo] *",
   "language": "python",
   "name": "conda-env-pangeo-py"
  },
  "language_info": {
   "codemirror_mode": {
    "name": "ipython",
    "version": 3
   },
   "file_extension": ".py",
   "mimetype": "text/x-python",
   "name": "python",
   "nbconvert_exporter": "python",
   "pygments_lexer": "ipython3",
   "version": "3.12.7"
  }
 },
 "nbformat": 4,
 "nbformat_minor": 5
}
