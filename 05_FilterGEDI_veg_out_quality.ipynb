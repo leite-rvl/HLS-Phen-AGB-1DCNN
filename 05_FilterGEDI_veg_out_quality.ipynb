{
 "cells": [
  {
   "cell_type": "markdown",
   "id": "026a3158-41ee-4b69-af88-ade42bada926",
   "metadata": {},
   "source": [
    "#### Filtering GEDI\n",
    "##### - Vegetation mask specific year\n",
    "##### - Selecting specific year\n",
    "##### - Removing outliers\n",
    "##### - Quality flags + Night + Power"
   ]
  },
  {
   "cell_type": "code",
   "execution_count": 1,
   "id": "69a3d95a-d518-4333-abe1-bb9e757ad2a1",
   "metadata": {},
   "outputs": [],
   "source": [
    "import os\n",
    "import numpy as np\n",
    "import geopandas as gpd\n",
    "import pandas as pd\n",
    "\n",
    "import rasterio\n",
    "\n",
    "import matplotlib.pyplot as plt\n",
    "import seaborn as sns\n"
   ]
  },
  {
   "cell_type": "code",
   "execution_count": 2,
   "id": "3bc3215d-9444-4b1a-aeaf-fc2593b43533",
   "metadata": {},
   "outputs": [],
   "source": [
    "#################################\n",
    "# GEDI footprints path\n",
    "#################################\n",
    "# gedi_path = '/projects/my-private-bucket/HLS-1DCNN-AGB/data/shp/gedi/test/l4a_t90km_t99.gpkg'\n",
    "gedi_path = '/projects/my-private-bucket/HLS-1DCNN-AGB/data/shp/gedi/test/l4a_t90km_t89.gpkg'\n",
    "\n",
    "base_name = os.path.splitext(os.path.basename(gedi_path))[0]\n",
    "#################################\n",
    "# Veg mask year i\n",
    "#################################\n",
    "target_year = 2022\n",
    "# target_year = os.path.basename(os.path.dirname(img_path))\n",
    "img_path = f'/projects/my-private-bucket/HLS-1DCNN-AGB/data/tif/VegetationMask/AtlanticForest/{target_year}/vegmask_{target_year}.vrt'\n",
    "\n",
    "#################################\n",
    "# Output path\n",
    "#################################\n",
    "output_gedi_clean_path = f'/projects/my-private-bucket/HLS-1DCNN-AGB/data/shp/gedi/test/{base_name}_veg{target_year}_outrm.gpkg'"
   ]
  },
  {
   "cell_type": "code",
   "execution_count": 3,
   "id": "0d4fbca0-cfec-4749-ab92-c28e428a29dd",
   "metadata": {},
   "outputs": [],
   "source": [
    "## Read file\n",
    "l4a_gdf_all = gpd.read_file(gedi_path)"
   ]
  },
  {
   "cell_type": "code",
   "execution_count": 4,
   "id": "65ff865a-8c98-4598-ab39-c36c2675c93d",
   "metadata": {},
   "outputs": [
    {
     "data": {
      "text/plain": [
       "444231"
      ]
     },
     "execution_count": 4,
     "metadata": {},
     "output_type": "execute_result"
    }
   ],
   "source": [
    "len(l4a_gdf_all)"
   ]
  },
  {
   "cell_type": "markdown",
   "id": "e84a9ddc-db78-432f-ab6e-980fcd449a93",
   "metadata": {},
   "source": [
    "### Filter target year"
   ]
  },
  {
   "cell_type": "code",
   "execution_count": 5,
   "id": "5825207e-190c-443f-a4cf-a8427264e386",
   "metadata": {},
   "outputs": [],
   "source": [
    "l4a_gdf = l4a_gdf_all[l4a_gdf_all['year'] == target_year]"
   ]
  },
  {
   "cell_type": "code",
   "execution_count": 6,
   "id": "240ce548-c6f2-4eaa-b1d2-d5b9e98a1d09",
   "metadata": {},
   "outputs": [
    {
     "data": {
      "text/plain": [
       "146966"
      ]
     },
     "execution_count": 6,
     "metadata": {},
     "output_type": "execute_result"
    }
   ],
   "source": [
    "len(l4a_gdf)"
   ]
  },
  {
   "cell_type": "markdown",
   "id": "afd6c139-0aaa-41ac-b600-6f4e7378c935",
   "metadata": {},
   "source": [
    "### Select footprints - power beams, min sensitivity and night shots"
   ]
  },
  {
   "cell_type": "code",
   "execution_count": 7,
   "id": "35cb4749-5f17-4194-a478-62601e7947d1",
   "metadata": {},
   "outputs": [],
   "source": [
    "## Select footprints - power beams, min sensitivity and night shots\n",
    "### Power beams\n",
    "power_beams = [5, 6, 8, 11]\n",
    "l4a_gdf_all['beam'] = pd.to_numeric(l4a_gdf_all['beam'], errors='coerce')\n",
    "\n",
    "# Filter solar elevation lower than 0\n",
    "# Sensitivity threshold\n",
    "min_sensitivity = 0.98\n",
    "\n",
    "l4a_gdf = l4a_gdf.copy()[(l4a_gdf['beam'].isin(power_beams)) &\n",
    "                           (l4a_gdf['solar_elevation'] < 0) &\n",
    "                           (l4a_gdf['sensitivity'] > min_sensitivity)\n",
    "                          ]"
   ]
  },
  {
   "cell_type": "code",
   "execution_count": 1,
   "id": "8c67e113-9d84-4ad6-8f90-743f4858cc76",
   "metadata": {},
   "outputs": [
    {
     "ename": "NameError",
     "evalue": "name 'l4a_gdf' is not defined",
     "output_type": "error",
     "traceback": [
      "\u001b[0;31m---------------------------------------------------------------------------\u001b[0m",
      "\u001b[0;31mNameError\u001b[0m                                 Traceback (most recent call last)",
      "Cell \u001b[0;32mIn[1], line 1\u001b[0m\n\u001b[0;32m----> 1\u001b[0m \u001b[38;5;28mlen\u001b[39m(\u001b[43ml4a_gdf\u001b[49m)\n",
      "\u001b[0;31mNameError\u001b[0m: name 'l4a_gdf' is not defined"
     ]
    }
   ],
   "source": [
    "len(l4a_gdf)"
   ]
  },
  {
   "cell_type": "markdown",
   "id": "25cf67c0-4a80-4a33-93c3-b09ecb62f6ea",
   "metadata": {},
   "source": [
    "### Vegetation Mask"
   ]
  },
  {
   "cell_type": "code",
   "execution_count": 9,
   "id": "1fd92761-3d83-4009-b5f5-5f0a6ab2d217",
   "metadata": {},
   "outputs": [],
   "source": [
    "# gdf.crs"
   ]
  },
  {
   "cell_type": "code",
   "execution_count": 10,
   "id": "107d7e56-b2e0-4f2e-bb12-13fe289ad48f",
   "metadata": {},
   "outputs": [
    {
     "name": "stdout",
     "output_type": "stream",
     "text": [
      "CPU times: user 3.72 s, sys: 23.8 ms, total: 3.75 s\n",
      "Wall time: 4.9 s\n"
     ]
    }
   ],
   "source": [
    "%%time\n",
    "# Extract vegetation mask raster values to gedi points\n",
    "with rasterio.open(img_path) as src:\n",
    "    # Extract values at point coordinates (x, y)\n",
    "    coords = [(x,y) for x, y in zip(l4a_gdf.geometry.x, l4a_gdf.geometry.y)]\n",
    "    l4a_gdf[f\"vegmask_{target_year}\"] = [val[0] for val in src.sample(coords)]\n",
    "\n",
    "\n"
   ]
  },
  {
   "cell_type": "code",
   "execution_count": 11,
   "id": "411ade66-d992-4674-92dd-7590eda2e1f2",
   "metadata": {},
   "outputs": [
    {
     "data": {
      "text/plain": [
       "array([0, 3], dtype=uint8)"
      ]
     },
     "execution_count": 11,
     "metadata": {},
     "output_type": "execute_result"
    }
   ],
   "source": [
    " l4a_gdf[f\"vegmask_{target_year}\"].unique()"
   ]
  },
  {
   "cell_type": "code",
   "execution_count": 12,
   "id": "6c604845-3d43-4600-bf36-dc7e586c251f",
   "metadata": {},
   "outputs": [],
   "source": [
    "# Filter out NoData values\n",
    "nodata_value = 0\n",
    "l4a_gdf_filtered = l4a_gdf[l4a_gdf[f\"vegmask_{target_year}\"] != nodata_value]"
   ]
  },
  {
   "cell_type": "code",
   "execution_count": 13,
   "id": "43685fe6-b1d3-4bee-b444-0783e7b2e2c8",
   "metadata": {},
   "outputs": [
    {
     "data": {
      "text/plain": [
       "35059"
      ]
     },
     "execution_count": 13,
     "metadata": {},
     "output_type": "execute_result"
    }
   ],
   "source": [
    "len(l4a_gdf)"
   ]
  },
  {
   "cell_type": "markdown",
   "id": "735a7248-8390-48e4-8024-5c0dd7075fd7",
   "metadata": {},
   "source": [
    "### Remove outliers"
   ]
  },
  {
   "cell_type": "code",
   "execution_count": 14,
   "id": "9d31071f-04a6-4445-86bf-e44ed0f18366",
   "metadata": {},
   "outputs": [],
   "source": [
    "def remove_outliers(df, columns):\n",
    "    for col in columns:\n",
    "        q1, q3 = df[col].quantile([0.25, 0.75])\n",
    "        iqr = q3 - q1\n",
    "        lower = q1 - 1.5 * iqr\n",
    "        upper = q3 + 1.5 * iqr\n",
    "        df = df[(df[col] >= lower) & (df[col] <= upper)]\n",
    "    return df"
   ]
  },
  {
   "cell_type": "code",
   "execution_count": 15,
   "id": "c4151385-d193-43fc-8543-68c708217d03",
   "metadata": {},
   "outputs": [],
   "source": [
    "l4a_gdf_filtered_clean = remove_outliers(l4a_gdf_filtered, ['agbd'])"
   ]
  },
  {
   "cell_type": "code",
   "execution_count": 16,
   "id": "cb4cbe05-78f2-4539-ae8e-2680fecd5f6f",
   "metadata": {},
   "outputs": [
    {
     "data": {
      "image/png": "[encoded data removed]",
      "text/plain": [
       "<Figure size 640x480 with 1 Axes>"
      ]
     },
     "metadata": {},
     "output_type": "display_data"
    }
   ],
   "source": [
    "import seaborn as sns\n",
    "sns.boxplot(y = 'agbd', data = l4a_gdf_filtered_clean)\n",
    "plt.show()"
   ]
  },
  {
   "cell_type": "code",
   "execution_count": 17,
   "id": "bf254470-e332-43e4-9f21-f337e6bedff3",
   "metadata": {},
   "outputs": [
    {
     "name": "stdout",
     "output_type": "stream",
     "text": [
      "Original: 444231\n",
      "Filtered: 21507\n",
      "% left: 4.8\n"
     ]
    }
   ],
   "source": [
    "print(f'Original: {len(l4a_gdf_all)}')\n",
    "print(f'Filtered: {len(l4a_gdf_filtered_clean)}')\n",
    "print(f'% left: {len(l4a_gdf_filtered_clean) / len(l4a_gdf_all) *100:.1f}')\n"
   ]
  },
  {
   "cell_type": "code",
   "execution_count": 18,
   "id": "e27d142b-9f84-4d58-8a3d-8f00fcb6538b",
   "metadata": {},
   "outputs": [
    {
     "data": {
      "image/png": "[encoded data removed]",
      "text/plain": [
       "<Figure size 800x500 with 1 Axes>"
      ]
     },
     "metadata": {},
     "output_type": "display_data"
    }
   ],
   "source": [
    "# Count observations per month (aggregated across all years)\n",
    "month_counts = l4a_gdf_filtered_clean['month'].value_counts().sort_index()\n",
    "\n",
    "# Plot number of observations per month\n",
    "plt.figure(figsize=(8,5))\n",
    "month_counts.plot(kind='bar')\n",
    "plt.title(\"Number of GEDI Observations per Month\")\n",
    "plt.xlabel(\"Month\")\n",
    "plt.ylabel(\"Number of Observations\")\n",
    "plt.xticks(range(0,12), \n",
    "           ['Jan','Feb','Mar','Apr','May','Jun',\n",
    "            'Jul','Aug','Sep','Oct','Nov','Dec'],\n",
    "           rotation=45)\n",
    "plt.show()"
   ]
  },
  {
   "cell_type": "markdown",
   "id": "e4f70535-0ea7-4764-a833-90b25137de64",
   "metadata": {},
   "source": [
    "### Export output"
   ]
  },
  {
   "cell_type": "code",
   "execution_count": 19,
   "id": "d30313da-01e5-4d2a-80d4-e0a1b2b55539",
   "metadata": {},
   "outputs": [],
   "source": [
    "l4a_gdf_filtered_clean.to_file(output_gedi_clean_path)"
   ]
  },
  {
   "cell_type": "code",
   "execution_count": null,
   "id": "7d0cc7b6-1dc2-4647-9f24-b16823545930",
   "metadata": {},
   "outputs": [],
   "source": []
  }
 ],
 "metadata": {
  "kernelspec": {
   "display_name": "Python [conda env:pangeo] *",
   "language": "python",
   "name": "conda-env-pangeo-py"
  },
  "language_info": {
   "codemirror_mode": {
    "name": "ipython",
    "version": 3
   },
   "file_extension": ".py",
   "mimetype": "text/x-python",
   "name": "python",
   "nbconvert_exporter": "python",
   "pygments_lexer": "ipython3",
   "version": "3.12.7"
  }
 },
 "nbformat": 4,
 "nbformat_minor": 5
}
